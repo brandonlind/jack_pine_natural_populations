{
 "cells": [
  {
   "cell_type": "markdown",
   "metadata": {},
   "source": [
    "This notebook best viewed here: https://nbviewer.jupyter.org"
   ]
  },
  {
   "cell_type": "markdown",
   "metadata": {},
   "source": [
    " "
   ]
  },
  {
   "cell_type": "markdown",
   "metadata": {},
   "source": [
    "<a id='home'></a>\n",
    "This notebook is for the Jack pine GEA mapping pops\n",
    "\n",
    "#### Purpose\n",
    "• I've run the baypass commands across four servers, I need to gather the jobs and concatenate results.\n",
    "\n",
    "#### Notebook outline\n",
    "\n",
    "1. [rsync files from servers](#rsync)\n",
    "    - I execute the rsync commands to transfer files from the executing servers to our lab server\n",
    "1. [ensure complete transfer](#ensure)\n",
    "    - given the number of gfiles and chains, make sure all of the commands have been executed/transferred\n",
    "\n",
    "1. [gather all of the wanted resfiles and concat into single dataframes](#combine)\n",
    "    - gather the files with BF, label SNP IDs, label environmental covariables, and concat into single dataframe\n",
    "    \n",
    "    \n",
    "1. [rank loci](#rank)\n",
    "    - Rank each locus for each chain by descending BF(dB) score\n",
    "    - Caclulate mean BF(dB) across 5 chains, rank each locus based on mean\n",
    "    - Create boolean column with True if locus is ranked in top 1% for at least 3/5 chains\n",
    "    - Create boolean column with True if locus has BF(dB) >= 15 for at least 3/5 chains\n",
    "    - Create boolean column with True if locus has BF(dB) >= 20 for at least 3/5 chains\n",
    "    \n",
    "1. [look at BF scores for consistent top 1% ranks](#consistent)\n",
    "    - explore the top 1% of ranks\n",
    "    - count number of SNPs >= BF(dB) thresholds {15, 20}, print if not all SNPs >= thresh are consistently in top 1% across chains"
   ]
  },
  {
   "cell_type": "markdown",
   "metadata": {},
   "source": [
    "  "
   ]
  },
  {
   "cell_type": "markdown",
   "metadata": {},
   "source": [
    " "
   ]
  },
  {
   "cell_type": "markdown",
   "metadata": {},
   "source": [
    " "
   ]
  },
  {
   "cell_type": "code",
   "execution_count": 1,
   "metadata": {},
   "outputs": [
    {
     "name": "stdout",
     "output_type": "stream",
     "text": [
      "56 56\n"
     ]
    }
   ],
   "source": [
    "from pythonimports import *\n",
    "lview,dview = get_client()"
   ]
  },
  {
   "cell_type": "code",
   "execution_count": 2,
   "metadata": {},
   "outputs": [],
   "source": [
    "# dir names\n",
    "baydir = '/data/projects/pool_seq/pangenome/JP_pangenome/JP_pooled/snpsANDindels/without_p24/03_maf-p05_RD-recalculated/baypass'\n",
    "cmddir = op.join(baydir, 'cmd_files')\n",
    "rundir = op.join(cmddir, 'run_01')\n",
    "gfile_dir = op.join(baydir, 'individual_gfiles')\n",
    "shdir = op.join(cmddir, 'shfiles')\n",
    "resdir = op.join(cmddir, 'results')\n",
    "assert op.exists(resdir)\n",
    "rsyncdir = makedir(op.join(baydir, 'rsync_files'))"
   ]
  },
  {
   "cell_type": "markdown",
   "metadata": {},
   "source": [
    "<a id='rsync'></a>\n",
    "# rsync files from servers\n",
    "\n",
    "[top](#home)"
   ]
  },
  {
   "cell_type": "code",
   "execution_count": 3,
   "metadata": {},
   "outputs": [
    {
     "name": "stdout",
     "output_type": "stream",
     "text": [
      "##################################################################\n",
      "Current commit of pythonimports:\n",
      "commit b1d8bd7312fbf3c6afef4ad9ea2585831ec509a5\n",
      "Author: Brandon Lind <lindb@vcu.edu>\n",
      "Date:   Fri Feb 12 12:21:51 2021 -0500\n",
      "Today:\tFebruary 25, 2021 - 11:26:07\n",
      "python version: 3.8.5\n",
      "##################################################################\n",
      "\n"
     ]
    }
   ],
   "source": [
    "latest_commit()"
   ]
  },
  {
   "cell_type": "code",
   "execution_count": 4,
   "metadata": {},
   "outputs": [],
   "source": [
    "def submit_cmds(cmds):\n",
    "    \"\"\"Execute a list of system commands in parallel. Return cmd if there was an error.\"\"\"\n",
    "    jobs = []\n",
    "    for cmd in nb(cmds):\n",
    "        *args, src, dst = cmd.split()\n",
    "        jobs.append(lview.apply_async(rsync, *(src, dst)))\n",
    "    watch_async(jobs)\n",
    "    \n",
    "    badcmds = []\n",
    "    for i,j in enumerate(jobs):\n",
    "        try:\n",
    "            x=j.r\n",
    "            assert 'speedup' in ' '.join(x)\n",
    "        except:\n",
    "            badcmds.append(cmds[i])\n",
    "    print('len(badcmds) = ', len(badcmds))\n",
    "    \n",
    "    return badcmds"
   ]
  },
  {
   "cell_type": "code",
   "execution_count": 5,
   "metadata": {},
   "outputs": [],
   "source": [
    "def check_realfiles(cmds, new=False):\n",
    "    \"\"\"Make sure all transferred files exist.\n",
    "    new is used if transferring the results from SNPs that were once REPEATS (NA for Jack pine)\n",
    "    \"\"\"\n",
    "    realfiles = []\n",
    "#     if new is True:\n",
    "#         rundir = newrundir\n",
    "#         gfile_dir = newgfiledir\n",
    "#         shdir = newshdir\n",
    "#         resdir = newresdir\n",
    "    for d in [rundir, gfile_dir, shdir, resdir]:\n",
    "        realfiles.extend(fs(d, dirs=False))\n",
    "    \n",
    "    expfiles = []\n",
    "    for cmd in cmds:\n",
    "        expfiles.append(cmd.split()[-1])\n",
    "    \n",
    "    print('len(realfiles) = ', len(realfiles))\n",
    "    print('len(expfiles) =', len(expfiles))\n",
    "    \n",
    "    needed = list(set(expfiles) - set(realfiles))\n",
    "#     return needed\n",
    "    \n",
    "    print('needed = ', len(needed))\n",
    "    \n",
    "    needed_cmds = []\n",
    "    for n in needed:\n",
    "        for cmd in cmds:\n",
    "            if n in cmd:\n",
    "                needed_cmds.append(cmd)\n",
    "    print('needed_cmds = ', len(needed_cmds))\n",
    "    return needed_cmds"
   ]
  },
  {
   "cell_type": "markdown",
   "metadata": {},
   "source": [
    "#### cedar cmds"
   ]
  },
  {
   "cell_type": "code",
   "execution_count": 6,
   "metadata": {},
   "outputs": [
    {
     "data": {
      "text/plain": [
       "'/data/projects/pool_seq/pangenome/JP_pangenome/JP_pooled/snpsANDindels/without_p24/03_maf-p05_RD-recalculated/baypass'"
      ]
     },
     "execution_count": 6,
     "metadata": {},
     "output_type": "execute_result"
    }
   ],
   "source": [
    "baydir"
   ]
  },
  {
   "cell_type": "code",
   "execution_count": 7,
   "metadata": {},
   "outputs": [
    {
     "data": {
      "text/plain": [
       "37639"
      ]
     },
     "execution_count": 7,
     "metadata": {},
     "output_type": "execute_result"
    }
   ],
   "source": [
    "cmds = read(op.join(baydir, 'cedar_rsync_cmds.txt'))\n",
    "len(cmds)"
   ]
  },
  {
   "cell_type": "code",
   "execution_count": 8,
   "metadata": {},
   "outputs": [
    {
     "data": {
      "text/plain": [
       "'/data/projects/pool_seq/pangenome/JP_pangenome/JP_pooled/snpsANDindels/without_p24/03_maf-p05_RD-recalculated/baypass/cmd_files/results'"
      ]
     },
     "execution_count": 8,
     "metadata": {},
     "output_type": "execute_result"
    }
   ],
   "source": [
    "dirs = []\n",
    "for cmd in cmds:\n",
    "    newfile = cmd.split()[-1]\n",
    "    dname = op.dirname(newfile)\n",
    "    dirs.append(dname)\n",
    "for d in uni(dirs):\n",
    "    assert op.exists(d)\n",
    "d"
   ]
  },
  {
   "cell_type": "code",
   "execution_count": 11,
   "metadata": {},
   "outputs": [
    {
     "name": "stderr",
     "output_type": "stream",
     "text": [
      "100%|██████████| 37639/37639 [00:00<00:00, 2447473.89it/s]\n"
     ]
    }
   ],
   "source": [
    "for cmd in pbar(cmds):\n",
    "    assert 'without_p24' in cmd"
   ]
  },
  {
   "cell_type": "code",
   "execution_count": 13,
   "metadata": {},
   "outputs": [
    {
     "data": {
      "text/plain": [
       "['receiving incremental file list',\n",
       " '',\n",
       " 'sent 20 bytes  received 99 bytes  34.00 bytes/sec',\n",
       " 'total size is 104  speedup is 0.87',\n",
       " '']"
      ]
     },
     "execution_count": 13,
     "metadata": {},
     "output_type": "execute_result"
    }
   ],
   "source": [
    "*args, src, dst = cmds[0].split()\n",
    "rsync(src, dst)"
   ]
  },
  {
   "cell_type": "code",
   "execution_count": 14,
   "metadata": {
    "scrolled": true
   },
   "outputs": [
    {
     "name": "stderr",
     "output_type": "stream",
     "text": [
      "100%|██████████| 37639/37639 [01:39<00:00, 380.06it/s]\n"
     ]
    },
    {
     "name": "stdout",
     "output_type": "stream",
     "text": [
      "\u001b[1m\n",
      "Watching 37639 jobs ...\u001b[0m\n"
     ]
    },
    {
     "name": "stderr",
     "output_type": "stream",
     "text": [
      "100%|██████████| 37639/37639 [1:26:52<00:00,  7.22it/s]   \n"
     ]
    },
    {
     "name": "stdout",
     "output_type": "stream",
     "text": [
      "len(badcmds) =  14\n"
     ]
    }
   ],
   "source": [
    "badcmds = submit_cmds(cmds)"
   ]
  },
  {
   "cell_type": "code",
   "execution_count": 15,
   "metadata": {},
   "outputs": [
    {
     "data": {
      "text/plain": [
       "14"
      ]
     },
     "execution_count": 15,
     "metadata": {},
     "output_type": "execute_result"
    }
   ],
   "source": [
    "len(badcmds)"
   ]
  },
  {
   "cell_type": "code",
   "execution_count": 18,
   "metadata": {
    "scrolled": true
   },
   "outputs": [
    {
     "name": "stdout",
     "output_type": "stream",
     "text": [
      "len(realfiles) =  40780\n",
      "len(expfiles) = 37639\n",
      "needed =  1\n",
      "needed_cmds =  1\n"
     ]
    },
    {
     "data": {
      "text/plain": [
       "1"
      ]
     },
     "execution_count": 18,
     "metadata": {},
     "output_type": "execute_result"
    }
   ],
   "source": [
    "needed = check_realfiles(cmds)\n",
    "len(needed)"
   ]
  },
  {
   "cell_type": "code",
   "execution_count": 19,
   "metadata": {
    "scrolled": true
   },
   "outputs": [
    {
     "name": "stderr",
     "output_type": "stream",
     "text": [
      "100%|██████████| 1/1 [00:00<00:00, 419.43it/s]\n"
     ]
    },
    {
     "name": "stdout",
     "output_type": "stream",
     "text": [
      "\u001b[1m\n",
      "Watching 1 jobs ...\u001b[0m\n"
     ]
    },
    {
     "name": "stderr",
     "output_type": "stream",
     "text": [
      "100%|██████████| 1/1 [00:01<00:00,  1.13s/it]"
     ]
    },
    {
     "name": "stdout",
     "output_type": "stream",
     "text": [
      "len(badcmds) =  1\n"
     ]
    },
    {
     "name": "stderr",
     "output_type": "stream",
     "text": [
      "\n"
     ]
    }
   ],
   "source": [
    "badcmds = submit_cmds(needed)"
   ]
  },
  {
   "cell_type": "code",
   "execution_count": 20,
   "metadata": {},
   "outputs": [
    {
     "name": "stdout",
     "output_type": "stream",
     "text": [
      "len(realfiles) =  40780\n",
      "len(expfiles) = 37639\n",
      "needed =  1\n",
      "needed_cmds =  1\n"
     ]
    },
    {
     "data": {
      "text/plain": [
       "1"
      ]
     },
     "execution_count": 20,
     "metadata": {},
     "output_type": "execute_result"
    }
   ],
   "source": [
    "needed = check_realfiles(cmds)\n",
    "len(needed)"
   ]
  },
  {
   "cell_type": "code",
   "execution_count": 21,
   "metadata": {},
   "outputs": [
    {
     "data": {
      "text/plain": [
       "['rsync -avz cedar:/scratch/lindb/jp_gea/cmd_files/shfiles/watcher.sh /data/projects/pool_seq/pangenome/JP_pangenome/JP_pooled/snpsANDindels/without_p24/03_maf-p05_RD-recalculated/baypass/cmd_files/shfiles/watcher.sh']"
      ]
     },
     "execution_count": 21,
     "metadata": {},
     "output_type": "execute_result"
    }
   ],
   "source": [
    "# this was because watcher.sh is actually baypass_watcher.sh\n",
    "badcmds"
   ]
  },
  {
   "cell_type": "code",
   "execution_count": null,
   "metadata": {},
   "outputs": [],
   "source": []
  },
  {
   "cell_type": "markdown",
   "metadata": {},
   "source": [
    "<a id='ensure'></a>\n",
    "# ensure complete transfer\n",
    "given the number of gfiles and chains, make sure all of the commands have been executed/transferred\n",
    "\n",
    "[top](#home)"
   ]
  },
  {
   "cell_type": "markdown",
   "metadata": {},
   "source": [
    "#### first check to make sure every sh file was exececuted (ie, check that each has a slurm .out file)"
   ]
  },
  {
   "cell_type": "code",
   "execution_count": 24,
   "metadata": {},
   "outputs": [
    {
     "data": {
      "text/plain": [
       "(156, 156)"
      ]
     },
     "execution_count": 24,
     "metadata": {},
     "output_type": "execute_result"
    }
   ],
   "source": [
    "# the the shfiles and out files\n",
    "shfiles = fs(shdir, endswith='.sh', exclude='watcher')\n",
    "outs = fs(shdir, endswith='.out', exclude='watcher')\n",
    "len(shfiles), len(outs)"
   ]
  },
  {
   "cell_type": "code",
   "execution_count": 25,
   "metadata": {
    "scrolled": true
   },
   "outputs": [
    {
     "data": {
      "text/plain": [
       "0"
      ]
     },
     "execution_count": 25,
     "metadata": {},
     "output_type": "execute_result"
    }
   ],
   "source": [
    "# which sh files were not run, print out any that weren't run\n",
    "pairs = {}\n",
    "for sh in shfiles:\n",
    "    pairs[sh] = []\n",
    "    for out in outs:\n",
    "        if op.basename(sh).split(\".\")[0] in out:\n",
    "            pairs[sh].append(out)\n",
    "needed = []\n",
    "for sh,outfiles in pairs.items():\n",
    "    if len(outfiles) < 1:\n",
    "        print(sh, len(outfiles))\n",
    "        needed.append(sh)\n",
    "len(needed)"
   ]
  },
  {
   "cell_type": "markdown",
   "metadata": {},
   "source": [
    "#### go through catfiles and make sure all of the commands inside were run"
   ]
  },
  {
   "cell_type": "code",
   "execution_count": 26,
   "metadata": {},
   "outputs": [
    {
     "data": {
      "text/plain": [
       "'/data/projects/pool_seq/pangenome/JP_pangenome/JP_pooled/snpsANDindels/without_p24/03_maf-p05_RD-recalculated/baypass/cmd_files/results'"
      ]
     },
     "execution_count": 26,
     "metadata": {},
     "output_type": "execute_result"
    }
   ],
   "source": [
    "resdir"
   ]
  },
  {
   "cell_type": "code",
   "execution_count": 27,
   "metadata": {},
   "outputs": [
    {
     "data": {
      "text/plain": [
       "7465"
      ]
     },
     "execution_count": 27,
     "metadata": {},
     "output_type": "execute_result"
    }
   ],
   "source": [
    "# get one of the files for each of the commands that executed successfully (count the succesful cmds)\n",
    "resfiles = fs(resdir, endswith='DIC.out')\n",
    "len(resfiles)"
   ]
  },
  {
   "cell_type": "code",
   "execution_count": 28,
   "metadata": {},
   "outputs": [
    {
     "data": {
      "text/plain": [
       "156"
      ]
     },
     "execution_count": 28,
     "metadata": {},
     "output_type": "execute_result"
    }
   ],
   "source": [
    "# get the files with the baypass commands - this matches number of sh files (good)\n",
    "catfiles = fs(rundir, pattern='catfile')\n",
    "len(catfiles)"
   ]
  },
  {
   "cell_type": "code",
   "execution_count": 29,
   "metadata": {},
   "outputs": [
    {
     "name": "stderr",
     "output_type": "stream",
     "text": [
      "100%|██████████| 156/156 [00:35<00:00,  4.35it/s]\n"
     ]
    },
    {
     "data": {
      "text/plain": [
       "'all_snps_ADP-lt-1000_gfile_1492_chain_5'"
      ]
     },
     "execution_count": 29,
     "metadata": {},
     "output_type": "execute_result"
    }
   ],
   "source": [
    "# iterate through catfile commands and make sure there's a result for each\n",
    "found = {}  # map prefix to output file\n",
    "exe = {}  # map prefix to command used\n",
    "needed_catfiles = []\n",
    "catcount = Counter()\n",
    "cmdcats = {}  # map cmds to catfiles\n",
    "for cat in nb(catfiles):\n",
    "    # get the commands\n",
    "    cmds = read(cat)\n",
    "    \n",
    "    # assign prefixes (= num cmds) to their output\n",
    "    notfound = True\n",
    "    for cmd in cmds:\n",
    "        assert cmd not in cmdcats\n",
    "        cmdcats[cmd] = cat\n",
    "        prefix = cmd.split(\"-outprefix\")[1].split()[0]\n",
    "        assert prefix not in found and 'chain' in prefix\n",
    "        exe[prefix] = cmd\n",
    "        found[prefix] = []\n",
    "        for res in resfiles:\n",
    "            if prefix in op.basename(res):\n",
    "                found[prefix].append(res)\n",
    "        if len(found[prefix]) > 0:\n",
    "            notfound = False\n",
    "            catcount[cat] += 1\n",
    "    if notfound is True:\n",
    "        needed_catfiles.append(cat)\n",
    "            \n",
    "prefix"
   ]
  },
  {
   "cell_type": "code",
   "execution_count": 30,
   "metadata": {},
   "outputs": [
    {
     "data": {
      "text/plain": [
       "0"
      ]
     },
     "execution_count": 30,
     "metadata": {},
     "output_type": "execute_result"
    }
   ],
   "source": [
    "len(needed_catfiles)"
   ]
  },
  {
   "cell_type": "code",
   "execution_count": 31,
   "metadata": {},
   "outputs": [
    {
     "data": {
      "text/plain": [
       "Counter({48: 155, 25: 1})"
      ]
     },
     "execution_count": 31,
     "metadata": {},
     "output_type": "execute_result"
    }
   ],
   "source": [
    "Counter(catcount.values())"
   ]
  },
  {
   "cell_type": "code",
   "execution_count": 32,
   "metadata": {},
   "outputs": [
    {
     "data": {
      "text/plain": [
       "[]"
      ]
     },
     "execution_count": 32,
     "metadata": {},
     "output_type": "execute_result"
    }
   ],
   "source": [
    "needed_catfiles"
   ]
  },
  {
   "cell_type": "code",
   "execution_count": 33,
   "metadata": {},
   "outputs": [
    {
     "data": {
      "text/plain": [
       "0"
      ]
     },
     "execution_count": 33,
     "metadata": {},
     "output_type": "execute_result"
    }
   ],
   "source": [
    "# figure out which prefixes have zero output (and need to be reran) or cmds with >1 output (impossible...)\n",
    "needed_cmds = []\n",
    "for prefix,reslist in found.items():\n",
    "    if len(reslist) == 0:\n",
    "        needed_cmds.append(exe[prefix])  # get the cmd that needs to be executed\n",
    "    elif len(reslist) > 1:\n",
    "        print('\\n', prefix, len(reslist))  # this shouldn't be possible, check anyway, print if so\n",
    "len(needed_cmds)"
   ]
  },
  {
   "cell_type": "code",
   "execution_count": 34,
   "metadata": {},
   "outputs": [],
   "source": [
    "cats = []\n",
    "for cmd in needed_cmds:\n",
    "    cats.append(cmdcats[cmd])"
   ]
  },
  {
   "cell_type": "code",
   "execution_count": 35,
   "metadata": {},
   "outputs": [
    {
     "data": {
      "text/plain": [
       "0"
      ]
     },
     "execution_count": 35,
     "metadata": {},
     "output_type": "execute_result"
    }
   ],
   "source": [
    "luni(cats)"
   ]
  },
  {
   "cell_type": "code",
   "execution_count": 36,
   "metadata": {},
   "outputs": [],
   "source": [
    "for cat in suni(cats):\n",
    "    print(cat, catcount[cat])"
   ]
  },
  {
   "cell_type": "markdown",
   "metadata": {},
   "source": [
    " "
   ]
  },
  {
   "cell_type": "code",
   "execution_count": null,
   "metadata": {},
   "outputs": [],
   "source": []
  },
  {
   "cell_type": "code",
   "execution_count": null,
   "metadata": {},
   "outputs": [],
   "source": []
  },
  {
   "cell_type": "code",
   "execution_count": null,
   "metadata": {},
   "outputs": [],
   "source": []
  },
  {
   "cell_type": "code",
   "execution_count": null,
   "metadata": {},
   "outputs": [],
   "source": []
  },
  {
   "cell_type": "code",
   "execution_count": null,
   "metadata": {},
   "outputs": [],
   "source": []
  },
  {
   "cell_type": "markdown",
   "metadata": {},
   "source": [
    " "
   ]
  },
  {
   "cell_type": "markdown",
   "metadata": {},
   "source": [
    "<a id='combine'></a>\n",
    "# gather all of the wanted resfiles and concat into single dataframes\n",
    "\n",
    "gather the files with BF, label SNP IDs, label environmental covariables, and concat into single dataframe\n",
    "\n",
    "[top](#home)"
   ]
  },
  {
   "cell_type": "code",
   "execution_count": null,
   "metadata": {},
   "outputs": [],
   "source": [
    "# restart notebook"
   ]
  },
  {
   "cell_type": "code",
   "execution_count": 51,
   "metadata": {},
   "outputs": [
    {
     "name": "stdout",
     "output_type": "stream",
     "text": [
      "##################################################################\n",
      "Current commit of pythonimports:\n",
      "commit 3a4b7edd94791192e01088623ade64a0a79f4b39\n",
      "Author: Brandon Lind <lindb@vcu.edu>\n",
      "Date:   Tue Mar 23 14:07:40 2021 -0400\n",
      "Today:\tApril 12, 2021 - 16:45:16\n",
      "python version: 3.8.5\n",
      "##################################################################\n",
      "\n"
     ]
    },
    {
     "data": {
      "text/html": [
       "<details>\n",
       "<summary>Click to view module versions</summary>\n",
       "<pre>\n",
       "-----\n",
       "PIL                 8.1.0\n",
       "balance_queue       NA\n",
       "cartopy             0.18.0\n",
       "ipyparallel         6.3.0\n",
       "matplotlib          3.3.2\n",
       "mymaps              NA\n",
       "myslurm             NA\n",
       "numpy               1.19.4\n",
       "pandas              1.1.4\n",
       "pythonimports       NA\n",
       "seaborn             0.11.1\n",
       "sinfo               0.3.1\n",
       "tqdm                4.55.1\n",
       "-----\n",
       "</pre>\n",
       "<details>\n",
       "<summary>Click to view dependency modules</summary>\n",
       "<pre>\n",
       "PIL                 8.1.0\n",
       "attr                20.3.0\n",
       "backcall            0.2.0\n",
       "cartopy             0.18.0\n",
       "certifi             2020.12.05\n",
       "cffi                1.14.4\n",
       "cycler              0.10.0\n",
       "cython_runtime      NA\n",
       "dateutil            2.8.1\n",
       "decorator           4.4.2\n",
       "fiona               1.8.18\n",
       "idna                2.10\n",
       "ipykernel           5.4.2\n",
       "ipyparallel         6.3.0\n",
       "ipython_genutils    0.2.0\n",
       "ipywidgets          7.6.2\n",
       "jedi                0.17.2\n",
       "jinja2              2.11.2\n",
       "jsonschema          3.2.0\n",
       "kiwisolver          1.3.0\n",
       "markupsafe          1.1.1\n",
       "matplotlib          3.3.2\n",
       "mpl_toolkits        NA\n",
       "nbformat            5.0.8\n",
       "numpy               1.19.4\n",
       "pandas              1.1.4\n",
       "parso               0.7.1\n",
       "pexpect             4.8.0\n",
       "pickleshare         0.7.5\n",
       "prometheus_client   NA\n",
       "prompt_toolkit      3.0.9\n",
       "ptyprocess          0.7.0\n",
       "pvectorc            NA\n",
       "pygments            2.7.3\n",
       "pyparsing           2.4.7\n",
       "pyrsistent          NA\n",
       "pytz                2020.5\n",
       "scipy               1.5.4\n",
       "seaborn             0.11.1\n",
       "send2trash          NA\n",
       "shapefile           2.1.2\n",
       "shapely             1.7.1\n",
       "sinfo               0.3.1\n",
       "six                 1.15.0\n",
       "statsmodels         0.12.1\n",
       "storemagic          NA\n",
       "terminado           0.9.2\n",
       "tornado             6.1\n",
       "tqdm                4.55.1\n",
       "traitlets           5.0.5\n",
       "wcwidth             0.2.5\n",
       "zmq                 20.0.0\n",
       "</pre>\n",
       "</details> <!-- seems like this ends pre, so might as well be explicit -->\n",
       "<pre>\n",
       "-----\n",
       "IPython             7.19.0\n",
       "jupyter_client      6.1.7\n",
       "jupyter_core        4.7.0\n",
       "notebook            6.1.6\n",
       "-----\n",
       "Python 3.8.5 (default, Sep  4 2020, 07:30:14) [GCC 7.3.0]\n",
       "Linux-3.10.0-1160.21.1.el7.x86_64-x86_64-with-glibc2.10\n",
       "56 logical CPU cores, x86_64\n",
       "-----\n",
       "Session information updated at 2021-04-12 16:45\n",
       "</pre>\n",
       "</details>"
      ],
      "text/plain": [
       "<IPython.core.display.HTML object>"
      ]
     },
     "execution_count": 51,
     "metadata": {},
     "output_type": "execute_result"
    }
   ],
   "source": [
    "import seaborn as sns\n",
    "\n",
    "latest_commit()\n",
    "sinfo(html=True)"
   ]
  },
  {
   "cell_type": "code",
   "execution_count": 4,
   "metadata": {
    "scrolled": true
   },
   "outputs": [
    {
     "data": {
      "text/plain": [
       "(7465, 7465)"
      ]
     },
     "execution_count": 4,
     "metadata": {},
     "output_type": "execute_result"
    }
   ],
   "source": [
    "bffiles = fs(resdir, endswith='betai_reg.out')\n",
    "xtxfiles = fs(resdir, endswith='pi_xtx.out')\n",
    "len(bffiles), len(xtxfiles)"
   ]
  },
  {
   "cell_type": "code",
   "execution_count": 5,
   "metadata": {},
   "outputs": [
    {
     "data": {
      "text/html": [
       "<div>\n",
       "<style scoped>\n",
       "    .dataframe tbody tr th:only-of-type {\n",
       "        vertical-align: middle;\n",
       "    }\n",
       "\n",
       "    .dataframe tbody tr th {\n",
       "        vertical-align: top;\n",
       "    }\n",
       "\n",
       "    .dataframe thead th {\n",
       "        text-align: right;\n",
       "    }\n",
       "</style>\n",
       "<table border=\"1\" class=\"dataframe\">\n",
       "  <thead>\n",
       "    <tr style=\"text-align: right;\">\n",
       "      <th></th>\n",
       "      <th>COVARIABLE</th>\n",
       "      <th>MRK</th>\n",
       "      <th>M_Pearson</th>\n",
       "      <th>SD_Pearson</th>\n",
       "      <th>BF(dB)</th>\n",
       "      <th>Beta_is</th>\n",
       "      <th>SD_Beta_is</th>\n",
       "      <th>eBPis</th>\n",
       "    </tr>\n",
       "  </thead>\n",
       "  <tbody>\n",
       "    <tr>\n",
       "      <th>0</th>\n",
       "      <td>1</td>\n",
       "      <td>1</td>\n",
       "      <td>0.055431</td>\n",
       "      <td>0.149737</td>\n",
       "      <td>-8.936432</td>\n",
       "      <td>0.004304</td>\n",
       "      <td>0.008930</td>\n",
       "      <td>0.200794</td>\n",
       "    </tr>\n",
       "    <tr>\n",
       "      <th>1</th>\n",
       "      <td>1</td>\n",
       "      <td>2</td>\n",
       "      <td>-0.124197</td>\n",
       "      <td>0.130715</td>\n",
       "      <td>-8.395409</td>\n",
       "      <td>-0.006371</td>\n",
       "      <td>0.006360</td>\n",
       "      <td>0.499656</td>\n",
       "    </tr>\n",
       "    <tr>\n",
       "      <th>2</th>\n",
       "      <td>1</td>\n",
       "      <td>3</td>\n",
       "      <td>0.190502</td>\n",
       "      <td>0.132185</td>\n",
       "      <td>-3.330409</td>\n",
       "      <td>0.011729</td>\n",
       "      <td>0.008653</td>\n",
       "      <td>0.756335</td>\n",
       "    </tr>\n",
       "    <tr>\n",
       "      <th>3</th>\n",
       "      <td>1</td>\n",
       "      <td>4</td>\n",
       "      <td>0.130658</td>\n",
       "      <td>0.128184</td>\n",
       "      <td>-9.464144</td>\n",
       "      <td>0.006851</td>\n",
       "      <td>0.006019</td>\n",
       "      <td>0.593427</td>\n",
       "    </tr>\n",
       "    <tr>\n",
       "      <th>4</th>\n",
       "      <td>1</td>\n",
       "      <td>5</td>\n",
       "      <td>0.091650</td>\n",
       "      <td>0.134789</td>\n",
       "      <td>-6.974807</td>\n",
       "      <td>0.006382</td>\n",
       "      <td>0.009485</td>\n",
       "      <td>0.300124</td>\n",
       "    </tr>\n",
       "  </tbody>\n",
       "</table>\n",
       "</div>"
      ],
      "text/plain": [
       "   COVARIABLE  MRK  M_Pearson  SD_Pearson    BF(dB)   Beta_is  SD_Beta_is  \\\n",
       "0           1    1   0.055431    0.149737 -8.936432  0.004304    0.008930   \n",
       "1           1    2  -0.124197    0.130715 -8.395409 -0.006371    0.006360   \n",
       "2           1    3   0.190502    0.132185 -3.330409  0.011729    0.008653   \n",
       "3           1    4   0.130658    0.128184 -9.464144  0.006851    0.006019   \n",
       "4           1    5   0.091650    0.134789 -6.974807  0.006382    0.009485   \n",
       "\n",
       "      eBPis  \n",
       "0  0.200794  \n",
       "1  0.499656  \n",
       "2  0.756335  \n",
       "3  0.593427  \n",
       "4  0.300124  "
      ]
     },
     "execution_count": 5,
     "metadata": {},
     "output_type": "execute_result"
    }
   ],
   "source": [
    "bf = pd.read_table(bffiles[0], delim_whitespace=True)\n",
    "bf.head()"
   ]
  },
  {
   "cell_type": "code",
   "execution_count": 6,
   "metadata": {},
   "outputs": [
    {
     "data": {
      "text/html": [
       "<div>\n",
       "<style scoped>\n",
       "    .dataframe tbody tr th:only-of-type {\n",
       "        vertical-align: middle;\n",
       "    }\n",
       "\n",
       "    .dataframe tbody tr th {\n",
       "        vertical-align: top;\n",
       "    }\n",
       "\n",
       "    .dataframe thead th {\n",
       "        text-align: right;\n",
       "    }\n",
       "</style>\n",
       "<table border=\"1\" class=\"dataframe\">\n",
       "  <thead>\n",
       "    <tr style=\"text-align: right;\">\n",
       "      <th></th>\n",
       "      <th>MRK</th>\n",
       "      <th>M_P</th>\n",
       "      <th>SD_P</th>\n",
       "      <th>M_XtX</th>\n",
       "      <th>SD_XtX</th>\n",
       "      <th>XtXst</th>\n",
       "      <th>log10(1/pval)</th>\n",
       "    </tr>\n",
       "  </thead>\n",
       "  <tbody>\n",
       "    <tr>\n",
       "      <th>0</th>\n",
       "      <td>1</td>\n",
       "      <td>0.830735</td>\n",
       "      <td>0.113523</td>\n",
       "      <td>38.864899</td>\n",
       "      <td>8.871848</td>\n",
       "      <td>35.666033</td>\n",
       "      <td>0.205689</td>\n",
       "    </tr>\n",
       "    <tr>\n",
       "      <th>1</th>\n",
       "      <td>2</td>\n",
       "      <td>0.898133</td>\n",
       "      <td>0.067479</td>\n",
       "      <td>38.381309</td>\n",
       "      <td>8.587412</td>\n",
       "      <td>61.591387</td>\n",
       "      <td>1.920094</td>\n",
       "    </tr>\n",
       "    <tr>\n",
       "      <th>2</th>\n",
       "      <td>3</td>\n",
       "      <td>0.817982</td>\n",
       "      <td>0.096432</td>\n",
       "      <td>39.080378</td>\n",
       "      <td>8.479784</td>\n",
       "      <td>75.507596</td>\n",
       "      <td>3.390954</td>\n",
       "    </tr>\n",
       "    <tr>\n",
       "      <th>3</th>\n",
       "      <td>4</td>\n",
       "      <td>0.907727</td>\n",
       "      <td>0.065619</td>\n",
       "      <td>37.986434</td>\n",
       "      <td>8.603630</td>\n",
       "      <td>64.249962</td>\n",
       "      <td>2.178118</td>\n",
       "    </tr>\n",
       "    <tr>\n",
       "      <th>4</th>\n",
       "      <td>5</td>\n",
       "      <td>0.765655</td>\n",
       "      <td>0.115483</td>\n",
       "      <td>39.811275</td>\n",
       "      <td>8.563068</td>\n",
       "      <td>69.333585</td>\n",
       "      <td>2.703233</td>\n",
       "    </tr>\n",
       "  </tbody>\n",
       "</table>\n",
       "</div>"
      ],
      "text/plain": [
       "   MRK       M_P      SD_P      M_XtX    SD_XtX      XtXst  log10(1/pval)\n",
       "0    1  0.830735  0.113523  38.864899  8.871848  35.666033       0.205689\n",
       "1    2  0.898133  0.067479  38.381309  8.587412  61.591387       1.920094\n",
       "2    3  0.817982  0.096432  39.080378  8.479784  75.507596       3.390954\n",
       "3    4  0.907727  0.065619  37.986434  8.603630  64.249962       2.178118\n",
       "4    5  0.765655  0.115483  39.811275  8.563068  69.333585       2.703233"
      ]
     },
     "execution_count": 6,
     "metadata": {},
     "output_type": "execute_result"
    }
   ],
   "source": [
    "xtx = pd.read_table(xtxfiles[0], delim_whitespace=True)\n",
    "xtx.head()"
   ]
  },
  {
   "cell_type": "code",
   "execution_count": 7,
   "metadata": {},
   "outputs": [],
   "source": [
    "def label_snps(resfile):\n",
    "    \"\"\"Label baypass resfiles with SNP ID using pkl files saved in 002_kickoff.\"\"\"\n",
    "    import os\n",
    "    import pandas\n",
    "    # find the gfile associated with resfile\n",
    "    prefix = os.path.basename(resfile).split(\"_chain\")[0]\n",
    "    chain = \"chain_%s\" % os.path.basename(resfile).split(prefix)[1].split(\"_\")[2]\n",
    "    \n",
    "    # get the pkl file that has the ordered list of SNP IDs for the gfile\n",
    "    if 'new' in resfile:\n",
    "        newgfile_dir = os.path.dirname(resfile).replace(\"new_results\", \"new_individual_gfiles\")\n",
    "        pklfile = os.path.join(newgfile_dir, f'{prefix}_noheaderidx.pkl')\n",
    "    else:\n",
    "        pklfile = os.path.join(gfile_dir, f'{prefix}_noheaderidx.pkl')\n",
    "    gloci = pklload(pklfile)  # read in rows with SNPIDs, but only one column\n",
    "    \n",
    "    # read in the resfile\n",
    "    df = pandas.read_table(resfile, delim_whitespace=True)\n",
    "    \n",
    "    # map MRK column (SNP index) to locus name\n",
    "    gdict = dict((num+1, locus) for num,locus in enumerate(gloci))\n",
    "    \n",
    "    # map covariable column to environment ID\n",
    "    edict = dict((num+1, env) for num,env in enumerate(efile.index))\n",
    "    \n",
    "    # split each covariable (env) in to its own file, label index with SNP ID\n",
    "    df['env'] = df['COVARIABLE'].map(edict)\n",
    "    envdfs = {chain:{}}\n",
    "    for env in uni(df['env']):\n",
    "        envdfs[chain][env] = df[df['env']==env].copy()\n",
    "        envdfs[chain][env].index = envdfs[chain][env]['MRK'].map(gdict)\n",
    "        envdfs[chain][env].index.names = ['']\n",
    "\n",
    "    return envdfs\n",
    "\n",
    "efile = pd.read_table(op.join(baydir, 'efile_std_HEADERIDX.txt'), index_col=0, usecols=[0,1])\n",
    "dview['efile'] = efile\n",
    "dview['uni'] = uni\n",
    "dview['gfile_dir'] = gfile_dir\n",
    "dview['pklload'] = pklload"
   ]
  },
  {
   "cell_type": "code",
   "execution_count": 8,
   "metadata": {},
   "outputs": [
    {
     "name": "stderr",
     "output_type": "stream",
     "text": [
      "100%|██████████| 7465/7465 [00:06<00:00, 1193.26it/s]\n"
     ]
    },
    {
     "name": "stdout",
     "output_type": "stream",
     "text": [
      "\u001b[1m\n",
      "Watching 7465 jobs ...\u001b[0m\n"
     ]
    },
    {
     "name": "stderr",
     "output_type": "stream",
     "text": [
      "100%|██████████| 7465/7465 [12:49<00:00,  9.70it/s]\n"
     ]
    }
   ],
   "source": [
    "# label SNP IDs in parallel\n",
    "jobs = []\n",
    "for bffile in pbar(bffiles):\n",
    "    jobs.append(lview.apply_async(label_snps, bffile))\n",
    "watch_async(jobs)"
   ]
  },
  {
   "cell_type": "code",
   "execution_count": 9,
   "metadata": {},
   "outputs": [
    {
     "name": "stderr",
     "output_type": "stream",
     "text": [
      "100%|██████████| 7465/7465 [00:00<00:00, 18269.71it/s]\n"
     ]
    },
    {
     "data": {
      "text/plain": [
       "['chain_1', 'chain_2', 'chain_3', 'chain_4', 'chain_5']"
      ]
     },
     "execution_count": 9,
     "metadata": {},
     "output_type": "execute_result"
    }
   ],
   "source": [
    "# gather output by environment\n",
    "envlist = {}\n",
    "for j in nb(jobs):\n",
    "    if j.ready():\n",
    "        chain = keys(j.r)[0]\n",
    "        if chain not in envlist:\n",
    "            envlist[chain] = {}\n",
    "        for env in j.r[chain]:\n",
    "            if env not in envlist[chain]:\n",
    "                envlist[chain][env] = []\n",
    "            envlist[chain][env].append(j.r[chain][env])\n",
    "keys(envlist)"
   ]
  },
  {
   "cell_type": "code",
   "execution_count": 10,
   "metadata": {
    "scrolled": true
   },
   "outputs": [
    {
     "name": "stderr",
     "output_type": "stream",
     "text": [
      "chain_1: 100%|██████████| 19/19 [00:12<00:00,  1.46it/s]\n",
      "chain_2: 100%|██████████| 19/19 [00:10<00:00,  1.84it/s]\n",
      "chain_3: 100%|██████████| 19/19 [00:12<00:00,  1.49it/s]\n",
      "chain_4: 100%|██████████| 19/19 [00:11<00:00,  1.65it/s]\n",
      "chain_5: 100%|██████████| 19/19 [00:14<00:00,  1.28it/s]"
     ]
    },
    {
     "name": "stdout",
     "output_type": "stream",
     "text": [
      "\u001b[1mchain_1\u001b[0m\n",
      "\t Eref 2239048\n",
      "\t DD_0 2239048\n",
      "\t CMD 2239048\n",
      "\t SHM 2239048\n",
      "\t PAS 2239048\n",
      "\t bFFP 2239048\n",
      "\t MAP 2239048\n",
      "\t EMT 2239048\n",
      "\t EXT 2239048\n",
      "\t AHM 2239048\n",
      "\t NFFD 2239048\n",
      "\t TD 2239048\n",
      "\t DD5 2239048\n",
      "\t FFP 2239048\n",
      "\t eFFP 2239048\n",
      "\t MSP 2239048\n",
      "\t MAT 2239048\n",
      "\t MWMT 2239048\n",
      "\t MCMT 2239048\n",
      "\u001b[1mchain_2\u001b[0m\n",
      "\t SHM 2239048\n",
      "\t CMD 2239048\n",
      "\t DD5 2239048\n",
      "\t bFFP 2239048\n",
      "\t FFP 2239048\n",
      "\t eFFP 2239048\n",
      "\t TD 2239048\n",
      "\t MWMT 2239048\n",
      "\t DD_0 2239048\n",
      "\t MSP 2239048\n",
      "\t EMT 2239048\n",
      "\t MAP 2239048\n",
      "\t MCMT 2239048\n",
      "\t Eref 2239048\n",
      "\t NFFD 2239048\n",
      "\t AHM 2239048\n",
      "\t MAT 2239048\n",
      "\t EXT 2239048\n",
      "\t PAS 2239048\n",
      "\u001b[1mchain_3\u001b[0m\n",
      "\t CMD 2239048\n",
      "\t MSP 2239048\n",
      "\t MAT 2239048\n",
      "\t MCMT 2239048\n",
      "\t FFP 2239048\n",
      "\t DD5 2239048\n",
      "\t eFFP 2239048\n",
      "\t MAP 2239048\n",
      "\t EMT 2239048\n",
      "\t AHM 2239048\n",
      "\t TD 2239048\n",
      "\t bFFP 2239048\n",
      "\t Eref 2239048\n",
      "\t NFFD 2239048\n",
      "\t MWMT 2239048\n",
      "\t DD_0 2239048\n",
      "\t EXT 2239048\n",
      "\t SHM 2239048\n",
      "\t PAS 2239048\n",
      "\u001b[1mchain_4\u001b[0m\n",
      "\t TD 2239048\n",
      "\t DD_0 2239048\n",
      "\t MAT 2239048\n",
      "\t MSP 2239048\n",
      "\t SHM 2239048\n",
      "\t eFFP 2239048\n",
      "\t FFP 2239048\n",
      "\t MWMT 2239048\n",
      "\t Eref 2239048\n",
      "\t bFFP 2239048\n",
      "\t AHM 2239048\n",
      "\t PAS 2239048\n",
      "\t DD5 2239048\n",
      "\t NFFD 2239048\n",
      "\t EMT 2239048\n",
      "\t EXT 2239048\n",
      "\t MCMT 2239048\n",
      "\t CMD 2239048\n",
      "\t MAP 2239048\n",
      "\u001b[1mchain_5\u001b[0m\n",
      "\t AHM 2239048\n",
      "\t EMT 2239048\n",
      "\t CMD 2239048\n",
      "\t DD_0 2239048\n",
      "\t MWMT 2239048\n",
      "\t FFP 2239048\n",
      "\t DD5 2239048\n",
      "\t EXT 2239048\n",
      "\t PAS 2239048\n",
      "\t SHM 2239048\n",
      "\t eFFP 2239048\n",
      "\t MAP 2239048\n",
      "\t MCMT 2239048\n",
      "\t TD 2239048\n",
      "\t MAT 2239048\n",
      "\t Eref 2239048\n",
      "\t bFFP 2239048\n",
      "\t MSP 2239048\n",
      "\t NFFD 2239048\n"
     ]
    },
    {
     "name": "stderr",
     "output_type": "stream",
     "text": [
      "\n"
     ]
    }
   ],
   "source": [
    "# concatenate environmental output by each chain, print out num snps for each env for each chain\n",
    "chaindfs = {}\n",
    "for chain,envs in envlist.items():\n",
    "    assert len(envs) == 19\n",
    "    if chain not in chaindfs:\n",
    "        chaindfs[chain] = {}\n",
    "    for env,dfs in nb(envs.items(), desc=chain):\n",
    "        if env not in chaindfs[chain]:\n",
    "            chaindfs[chain][env] = pd.concat(dfs)\n",
    "        else:\n",
    "            print('crap ', chain, env)\n",
    "for chain in chaindfs:\n",
    "    print(ColorText(chain).bold())\n",
    "    for env in chaindfs[chain]:\n",
    "        print('\\t',env, nrow(chaindfs[chain][env]))"
   ]
  },
  {
   "cell_type": "code",
   "execution_count": 11,
   "metadata": {
    "scrolled": true
   },
   "outputs": [
    {
     "name": "stderr",
     "output_type": "stream",
     "text": [
      "chain_1: 100%|██████████| 19/19 [00:12<00:00,  1.50it/s]\n",
      "chain_2: 100%|██████████| 19/19 [00:14<00:00,  1.32it/s]\n",
      "chain_3: 100%|██████████| 19/19 [00:11<00:00,  1.65it/s]\n",
      "chain_4: 100%|██████████| 19/19 [00:13<00:00,  1.40it/s]\n",
      "chain_5: 100%|██████████| 19/19 [00:10<00:00,  1.79it/s]\n",
      "combo: 100%|██████████| 19/19 [03:05<00:00,  9.77s/it]\n"
     ]
    },
    {
     "data": {
      "text/html": [
       "<div>\n",
       "<style scoped>\n",
       "    .dataframe tbody tr th:only-of-type {\n",
       "        vertical-align: middle;\n",
       "    }\n",
       "\n",
       "    .dataframe tbody tr th {\n",
       "        vertical-align: top;\n",
       "    }\n",
       "\n",
       "    .dataframe thead th {\n",
       "        text-align: right;\n",
       "    }\n",
       "</style>\n",
       "<table border=\"1\" class=\"dataframe\">\n",
       "  <thead>\n",
       "    <tr style=\"text-align: right;\">\n",
       "      <th></th>\n",
       "      <th>chain_1-COVARIABLE</th>\n",
       "      <th>chain_1-MRK</th>\n",
       "      <th>chain_1-M_Pearson</th>\n",
       "      <th>chain_1-SD_Pearson</th>\n",
       "      <th>chain_1-BF(dB)</th>\n",
       "      <th>chain_1-Beta_is</th>\n",
       "      <th>chain_1-SD_Beta_is</th>\n",
       "      <th>chain_1-eBPis</th>\n",
       "      <th>chain_1-env</th>\n",
       "      <th>chain_2-COVARIABLE</th>\n",
       "      <th>chain_2-MRK</th>\n",
       "      <th>chain_2-M_Pearson</th>\n",
       "      <th>chain_2-SD_Pearson</th>\n",
       "      <th>chain_2-BF(dB)</th>\n",
       "      <th>chain_2-Beta_is</th>\n",
       "      <th>chain_2-SD_Beta_is</th>\n",
       "      <th>chain_2-eBPis</th>\n",
       "      <th>chain_2-env</th>\n",
       "      <th>chain_3-COVARIABLE</th>\n",
       "      <th>chain_3-MRK</th>\n",
       "      <th>chain_3-M_Pearson</th>\n",
       "      <th>chain_3-SD_Pearson</th>\n",
       "      <th>chain_3-BF(dB)</th>\n",
       "      <th>chain_3-Beta_is</th>\n",
       "      <th>chain_3-SD_Beta_is</th>\n",
       "      <th>chain_3-eBPis</th>\n",
       "      <th>chain_3-env</th>\n",
       "      <th>chain_4-COVARIABLE</th>\n",
       "      <th>chain_4-MRK</th>\n",
       "      <th>chain_4-M_Pearson</th>\n",
       "      <th>chain_4-SD_Pearson</th>\n",
       "      <th>chain_4-BF(dB)</th>\n",
       "      <th>chain_4-Beta_is</th>\n",
       "      <th>chain_4-SD_Beta_is</th>\n",
       "      <th>chain_4-eBPis</th>\n",
       "      <th>chain_4-env</th>\n",
       "      <th>chain_5-COVARIABLE</th>\n",
       "      <th>chain_5-MRK</th>\n",
       "      <th>chain_5-M_Pearson</th>\n",
       "      <th>chain_5-SD_Pearson</th>\n",
       "      <th>chain_5-BF(dB)</th>\n",
       "      <th>chain_5-Beta_is</th>\n",
       "      <th>chain_5-SD_Beta_is</th>\n",
       "      <th>chain_5-eBPis</th>\n",
       "      <th>chain_5-env</th>\n",
       "    </tr>\n",
       "    <tr>\n",
       "      <th></th>\n",
       "      <th></th>\n",
       "      <th></th>\n",
       "      <th></th>\n",
       "      <th></th>\n",
       "      <th></th>\n",
       "      <th></th>\n",
       "      <th></th>\n",
       "      <th></th>\n",
       "      <th></th>\n",
       "      <th></th>\n",
       "      <th></th>\n",
       "      <th></th>\n",
       "      <th></th>\n",
       "      <th></th>\n",
       "      <th></th>\n",
       "      <th></th>\n",
       "      <th></th>\n",
       "      <th></th>\n",
       "      <th></th>\n",
       "      <th></th>\n",
       "      <th></th>\n",
       "      <th></th>\n",
       "      <th></th>\n",
       "      <th></th>\n",
       "      <th></th>\n",
       "      <th></th>\n",
       "      <th></th>\n",
       "      <th></th>\n",
       "      <th></th>\n",
       "      <th></th>\n",
       "      <th></th>\n",
       "      <th></th>\n",
       "      <th></th>\n",
       "      <th></th>\n",
       "      <th></th>\n",
       "      <th></th>\n",
       "      <th></th>\n",
       "      <th></th>\n",
       "      <th></th>\n",
       "      <th></th>\n",
       "      <th></th>\n",
       "      <th></th>\n",
       "      <th></th>\n",
       "      <th></th>\n",
       "      <th></th>\n",
       "    </tr>\n",
       "  </thead>\n",
       "  <tbody>\n",
       "    <tr>\n",
       "      <th>&gt;super4-15421</th>\n",
       "      <td>11</td>\n",
       "      <td>1</td>\n",
       "      <td>-0.025729</td>\n",
       "      <td>0.144556</td>\n",
       "      <td>-9.754825</td>\n",
       "      <td>-0.003042</td>\n",
       "      <td>0.009956</td>\n",
       "      <td>0.119233</td>\n",
       "      <td>MCMT</td>\n",
       "      <td>11</td>\n",
       "      <td>1</td>\n",
       "      <td>-0.035898</td>\n",
       "      <td>0.145169</td>\n",
       "      <td>-9.410429</td>\n",
       "      <td>-0.003916</td>\n",
       "      <td>0.010435</td>\n",
       "      <td>0.150303</td>\n",
       "      <td>MCMT</td>\n",
       "      <td>11</td>\n",
       "      <td>1</td>\n",
       "      <td>-0.026291</td>\n",
       "      <td>0.145643</td>\n",
       "      <td>-9.248764</td>\n",
       "      <td>-0.003225</td>\n",
       "      <td>0.010542</td>\n",
       "      <td>0.119361</td>\n",
       "      <td>MCMT</td>\n",
       "      <td>11</td>\n",
       "      <td>1</td>\n",
       "      <td>-0.033599</td>\n",
       "      <td>0.147603</td>\n",
       "      <td>-9.266665</td>\n",
       "      <td>-0.003771</td>\n",
       "      <td>0.010485</td>\n",
       "      <td>0.143196</td>\n",
       "      <td>MCMT</td>\n",
       "      <td>11</td>\n",
       "      <td>1</td>\n",
       "      <td>-0.027187</td>\n",
       "      <td>0.143263</td>\n",
       "      <td>-9.226468</td>\n",
       "      <td>-0.003423</td>\n",
       "      <td>0.010562</td>\n",
       "      <td>0.127334</td>\n",
       "      <td>MCMT</td>\n",
       "    </tr>\n",
       "    <tr>\n",
       "      <th>&gt;super4-47333</th>\n",
       "      <td>11</td>\n",
       "      <td>2</td>\n",
       "      <td>0.029974</td>\n",
       "      <td>0.138354</td>\n",
       "      <td>-10.246416</td>\n",
       "      <td>0.002228</td>\n",
       "      <td>0.007624</td>\n",
       "      <td>0.113470</td>\n",
       "      <td>MCMT</td>\n",
       "      <td>11</td>\n",
       "      <td>2</td>\n",
       "      <td>0.036888</td>\n",
       "      <td>0.136751</td>\n",
       "      <td>-11.261825</td>\n",
       "      <td>0.002768</td>\n",
       "      <td>0.007826</td>\n",
       "      <td>0.140528</td>\n",
       "      <td>MCMT</td>\n",
       "      <td>11</td>\n",
       "      <td>2</td>\n",
       "      <td>0.037494</td>\n",
       "      <td>0.139667</td>\n",
       "      <td>-11.058011</td>\n",
       "      <td>0.002723</td>\n",
       "      <td>0.007882</td>\n",
       "      <td>0.136850</td>\n",
       "      <td>MCMT</td>\n",
       "      <td>11</td>\n",
       "      <td>2</td>\n",
       "      <td>0.046759</td>\n",
       "      <td>0.143013</td>\n",
       "      <td>-10.685924</td>\n",
       "      <td>0.003215</td>\n",
       "      <td>0.008097</td>\n",
       "      <td>0.160309</td>\n",
       "      <td>MCMT</td>\n",
       "      <td>11</td>\n",
       "      <td>2</td>\n",
       "      <td>0.040987</td>\n",
       "      <td>0.140133</td>\n",
       "      <td>-10.811931</td>\n",
       "      <td>0.003096</td>\n",
       "      <td>0.007896</td>\n",
       "      <td>0.158043</td>\n",
       "      <td>MCMT</td>\n",
       "    </tr>\n",
       "    <tr>\n",
       "      <th>&gt;super4-47418</th>\n",
       "      <td>11</td>\n",
       "      <td>3</td>\n",
       "      <td>-0.109512</td>\n",
       "      <td>0.125799</td>\n",
       "      <td>-8.771552</td>\n",
       "      <td>-0.007515</td>\n",
       "      <td>0.009099</td>\n",
       "      <td>0.388436</td>\n",
       "      <td>MCMT</td>\n",
       "      <td>11</td>\n",
       "      <td>3</td>\n",
       "      <td>-0.112168</td>\n",
       "      <td>0.128415</td>\n",
       "      <td>-7.914224</td>\n",
       "      <td>-0.007927</td>\n",
       "      <td>0.009520</td>\n",
       "      <td>0.392509</td>\n",
       "      <td>MCMT</td>\n",
       "      <td>11</td>\n",
       "      <td>3</td>\n",
       "      <td>-0.108819</td>\n",
       "      <td>0.125919</td>\n",
       "      <td>-8.931330</td>\n",
       "      <td>-0.007622</td>\n",
       "      <td>0.009216</td>\n",
       "      <td>0.389112</td>\n",
       "      <td>MCMT</td>\n",
       "      <td>11</td>\n",
       "      <td>3</td>\n",
       "      <td>-0.114038</td>\n",
       "      <td>0.124878</td>\n",
       "      <td>-8.815074</td>\n",
       "      <td>-0.008017</td>\n",
       "      <td>0.009175</td>\n",
       "      <td>0.417689</td>\n",
       "      <td>MCMT</td>\n",
       "      <td>11</td>\n",
       "      <td>3</td>\n",
       "      <td>-0.112229</td>\n",
       "      <td>0.122674</td>\n",
       "      <td>-8.372039</td>\n",
       "      <td>-0.007825</td>\n",
       "      <td>0.009048</td>\n",
       "      <td>0.412096</td>\n",
       "      <td>MCMT</td>\n",
       "    </tr>\n",
       "    <tr>\n",
       "      <th>&gt;super4-47461</th>\n",
       "      <td>11</td>\n",
       "      <td>4</td>\n",
       "      <td>-0.150286</td>\n",
       "      <td>0.133548</td>\n",
       "      <td>-6.517485</td>\n",
       "      <td>-0.008806</td>\n",
       "      <td>0.007467</td>\n",
       "      <td>0.622846</td>\n",
       "      <td>MCMT</td>\n",
       "      <td>11</td>\n",
       "      <td>4</td>\n",
       "      <td>-0.152461</td>\n",
       "      <td>0.134123</td>\n",
       "      <td>-3.939702</td>\n",
       "      <td>-0.008563</td>\n",
       "      <td>0.006876</td>\n",
       "      <td>0.671619</td>\n",
       "      <td>MCMT</td>\n",
       "      <td>11</td>\n",
       "      <td>4</td>\n",
       "      <td>-0.150226</td>\n",
       "      <td>0.133223</td>\n",
       "      <td>-6.617081</td>\n",
       "      <td>-0.008722</td>\n",
       "      <td>0.007337</td>\n",
       "      <td>0.629792</td>\n",
       "      <td>MCMT</td>\n",
       "      <td>11</td>\n",
       "      <td>4</td>\n",
       "      <td>-0.151588</td>\n",
       "      <td>0.131741</td>\n",
       "      <td>-6.369249</td>\n",
       "      <td>-0.008764</td>\n",
       "      <td>0.007052</td>\n",
       "      <td>0.669707</td>\n",
       "      <td>MCMT</td>\n",
       "      <td>11</td>\n",
       "      <td>4</td>\n",
       "      <td>-0.142432</td>\n",
       "      <td>0.130794</td>\n",
       "      <td>-6.297588</td>\n",
       "      <td>-0.008363</td>\n",
       "      <td>0.007179</td>\n",
       "      <td>0.612518</td>\n",
       "      <td>MCMT</td>\n",
       "    </tr>\n",
       "    <tr>\n",
       "      <th>&gt;super4-47513</th>\n",
       "      <td>11</td>\n",
       "      <td>5</td>\n",
       "      <td>-0.076260</td>\n",
       "      <td>0.128904</td>\n",
       "      <td>-8.699308</td>\n",
       "      <td>-0.006081</td>\n",
       "      <td>0.010377</td>\n",
       "      <td>0.253458</td>\n",
       "      <td>MCMT</td>\n",
       "      <td>11</td>\n",
       "      <td>5</td>\n",
       "      <td>-0.078822</td>\n",
       "      <td>0.130434</td>\n",
       "      <td>-9.349220</td>\n",
       "      <td>-0.006168</td>\n",
       "      <td>0.010369</td>\n",
       "      <td>0.258105</td>\n",
       "      <td>MCMT</td>\n",
       "      <td>11</td>\n",
       "      <td>5</td>\n",
       "      <td>-0.077370</td>\n",
       "      <td>0.130829</td>\n",
       "      <td>-8.988745</td>\n",
       "      <td>-0.005943</td>\n",
       "      <td>0.010284</td>\n",
       "      <td>0.249250</td>\n",
       "      <td>MCMT</td>\n",
       "      <td>11</td>\n",
       "      <td>5</td>\n",
       "      <td>-0.079200</td>\n",
       "      <td>0.128224</td>\n",
       "      <td>-9.165058</td>\n",
       "      <td>-0.006157</td>\n",
       "      <td>0.010145</td>\n",
       "      <td>0.264493</td>\n",
       "      <td>MCMT</td>\n",
       "      <td>11</td>\n",
       "      <td>5</td>\n",
       "      <td>-0.077598</td>\n",
       "      <td>0.128749</td>\n",
       "      <td>-9.103266</td>\n",
       "      <td>-0.006052</td>\n",
       "      <td>0.010270</td>\n",
       "      <td>0.255181</td>\n",
       "      <td>MCMT</td>\n",
       "    </tr>\n",
       "  </tbody>\n",
       "</table>\n",
       "</div>"
      ],
      "text/plain": [
       "               chain_1-COVARIABLE  chain_1-MRK  chain_1-M_Pearson  \\\n",
       "                                                                    \n",
       ">super4-15421                  11            1          -0.025729   \n",
       ">super4-47333                  11            2           0.029974   \n",
       ">super4-47418                  11            3          -0.109512   \n",
       ">super4-47461                  11            4          -0.150286   \n",
       ">super4-47513                  11            5          -0.076260   \n",
       "\n",
       "               chain_1-SD_Pearson  chain_1-BF(dB)  chain_1-Beta_is  \\\n",
       "                                                                     \n",
       ">super4-15421            0.144556       -9.754825        -0.003042   \n",
       ">super4-47333            0.138354      -10.246416         0.002228   \n",
       ">super4-47418            0.125799       -8.771552        -0.007515   \n",
       ">super4-47461            0.133548       -6.517485        -0.008806   \n",
       ">super4-47513            0.128904       -8.699308        -0.006081   \n",
       "\n",
       "               chain_1-SD_Beta_is  chain_1-eBPis chain_1-env  \\\n",
       "                                                               \n",
       ">super4-15421            0.009956       0.119233        MCMT   \n",
       ">super4-47333            0.007624       0.113470        MCMT   \n",
       ">super4-47418            0.009099       0.388436        MCMT   \n",
       ">super4-47461            0.007467       0.622846        MCMT   \n",
       ">super4-47513            0.010377       0.253458        MCMT   \n",
       "\n",
       "               chain_2-COVARIABLE  chain_2-MRK  chain_2-M_Pearson  \\\n",
       "                                                                    \n",
       ">super4-15421                  11            1          -0.035898   \n",
       ">super4-47333                  11            2           0.036888   \n",
       ">super4-47418                  11            3          -0.112168   \n",
       ">super4-47461                  11            4          -0.152461   \n",
       ">super4-47513                  11            5          -0.078822   \n",
       "\n",
       "               chain_2-SD_Pearson  chain_2-BF(dB)  chain_2-Beta_is  \\\n",
       "                                                                     \n",
       ">super4-15421            0.145169       -9.410429        -0.003916   \n",
       ">super4-47333            0.136751      -11.261825         0.002768   \n",
       ">super4-47418            0.128415       -7.914224        -0.007927   \n",
       ">super4-47461            0.134123       -3.939702        -0.008563   \n",
       ">super4-47513            0.130434       -9.349220        -0.006168   \n",
       "\n",
       "               chain_2-SD_Beta_is  chain_2-eBPis chain_2-env  \\\n",
       "                                                               \n",
       ">super4-15421            0.010435       0.150303        MCMT   \n",
       ">super4-47333            0.007826       0.140528        MCMT   \n",
       ">super4-47418            0.009520       0.392509        MCMT   \n",
       ">super4-47461            0.006876       0.671619        MCMT   \n",
       ">super4-47513            0.010369       0.258105        MCMT   \n",
       "\n",
       "               chain_3-COVARIABLE  chain_3-MRK  chain_3-M_Pearson  \\\n",
       "                                                                    \n",
       ">super4-15421                  11            1          -0.026291   \n",
       ">super4-47333                  11            2           0.037494   \n",
       ">super4-47418                  11            3          -0.108819   \n",
       ">super4-47461                  11            4          -0.150226   \n",
       ">super4-47513                  11            5          -0.077370   \n",
       "\n",
       "               chain_3-SD_Pearson  chain_3-BF(dB)  chain_3-Beta_is  \\\n",
       "                                                                     \n",
       ">super4-15421            0.145643       -9.248764        -0.003225   \n",
       ">super4-47333            0.139667      -11.058011         0.002723   \n",
       ">super4-47418            0.125919       -8.931330        -0.007622   \n",
       ">super4-47461            0.133223       -6.617081        -0.008722   \n",
       ">super4-47513            0.130829       -8.988745        -0.005943   \n",
       "\n",
       "               chain_3-SD_Beta_is  chain_3-eBPis chain_3-env  \\\n",
       "                                                               \n",
       ">super4-15421            0.010542       0.119361        MCMT   \n",
       ">super4-47333            0.007882       0.136850        MCMT   \n",
       ">super4-47418            0.009216       0.389112        MCMT   \n",
       ">super4-47461            0.007337       0.629792        MCMT   \n",
       ">super4-47513            0.010284       0.249250        MCMT   \n",
       "\n",
       "               chain_4-COVARIABLE  chain_4-MRK  chain_4-M_Pearson  \\\n",
       "                                                                    \n",
       ">super4-15421                  11            1          -0.033599   \n",
       ">super4-47333                  11            2           0.046759   \n",
       ">super4-47418                  11            3          -0.114038   \n",
       ">super4-47461                  11            4          -0.151588   \n",
       ">super4-47513                  11            5          -0.079200   \n",
       "\n",
       "               chain_4-SD_Pearson  chain_4-BF(dB)  chain_4-Beta_is  \\\n",
       "                                                                     \n",
       ">super4-15421            0.147603       -9.266665        -0.003771   \n",
       ">super4-47333            0.143013      -10.685924         0.003215   \n",
       ">super4-47418            0.124878       -8.815074        -0.008017   \n",
       ">super4-47461            0.131741       -6.369249        -0.008764   \n",
       ">super4-47513            0.128224       -9.165058        -0.006157   \n",
       "\n",
       "               chain_4-SD_Beta_is  chain_4-eBPis chain_4-env  \\\n",
       "                                                               \n",
       ">super4-15421            0.010485       0.143196        MCMT   \n",
       ">super4-47333            0.008097       0.160309        MCMT   \n",
       ">super4-47418            0.009175       0.417689        MCMT   \n",
       ">super4-47461            0.007052       0.669707        MCMT   \n",
       ">super4-47513            0.010145       0.264493        MCMT   \n",
       "\n",
       "               chain_5-COVARIABLE  chain_5-MRK  chain_5-M_Pearson  \\\n",
       "                                                                    \n",
       ">super4-15421                  11            1          -0.027187   \n",
       ">super4-47333                  11            2           0.040987   \n",
       ">super4-47418                  11            3          -0.112229   \n",
       ">super4-47461                  11            4          -0.142432   \n",
       ">super4-47513                  11            5          -0.077598   \n",
       "\n",
       "               chain_5-SD_Pearson  chain_5-BF(dB)  chain_5-Beta_is  \\\n",
       "                                                                     \n",
       ">super4-15421            0.143263       -9.226468        -0.003423   \n",
       ">super4-47333            0.140133      -10.811931         0.003096   \n",
       ">super4-47418            0.122674       -8.372039        -0.007825   \n",
       ">super4-47461            0.130794       -6.297588        -0.008363   \n",
       ">super4-47513            0.128749       -9.103266        -0.006052   \n",
       "\n",
       "               chain_5-SD_Beta_is  chain_5-eBPis chain_5-env  \n",
       "                                                              \n",
       ">super4-15421            0.010562       0.127334        MCMT  \n",
       ">super4-47333            0.007896       0.158043        MCMT  \n",
       ">super4-47418            0.009048       0.412096        MCMT  \n",
       ">super4-47461            0.007179       0.612518        MCMT  \n",
       ">super4-47513            0.010270       0.255181        MCMT  "
      ]
     },
     "execution_count": 11,
     "metadata": {},
     "output_type": "execute_result"
    }
   ],
   "source": [
    "# concatenate environmental output by each env, combine chains into single df\n",
    "dflst = {}\n",
    "for chain,envs in envlist.items():\n",
    "    for env,dfs in nb(envs.items(), desc=chain):\n",
    "        if env not in dflst:\n",
    "            dflst[env] = []\n",
    "        df = pd.concat(dfs)\n",
    "        df.columns = [f\"{chain}-{col}\" for col in df.columns]\n",
    "        dflst[env].append(df)\n",
    "# combine chains for each env - should have done this in parallel\n",
    "envdfs = {}\n",
    "for env,lst in nb(dflst.items(), desc='combo'):\n",
    "    assert len(lst) == 5\n",
    "    df = pd.merge(lst[0], lst[1], left_index=True, right_index=True)\n",
    "    df2 = pd.merge(lst[2], lst[3], left_index=True, right_index=True)\n",
    "    df3 = pd.merge(df, df2, left_index=True, right_index=True)\n",
    "    envdfs[env] = pd.merge(df3, lst[4], left_index=True, right_index=True)\n",
    "    \n",
    "    \n",
    "envdfs[env].head()           "
   ]
  },
  {
   "cell_type": "code",
   "execution_count": 12,
   "metadata": {},
   "outputs": [
    {
     "name": "stderr",
     "output_type": "stream",
     "text": [
      "100%|██████████| 1493/1493 [00:06<00:00, 234.35it/s]\n"
     ]
    },
    {
     "data": {
      "text/plain": [
       "2239048"
      ]
     },
     "execution_count": 12,
     "metadata": {},
     "output_type": "execute_result"
    }
   ],
   "source": [
    "# how many SNPs should be in each env file?\n",
    "# read in each of the gfiles and sum rows\n",
    "rows = 0\n",
    "for gfile in nb(fs(gfile_dir, pattern='noheaderidx.txt')):\n",
    "    df = pd.read_table(gfile, usecols=[0], header=None)\n",
    "    rows += nrow(df)\n",
    "rows"
   ]
  },
  {
   "cell_type": "code",
   "execution_count": 13,
   "metadata": {
    "scrolled": false
   },
   "outputs": [
    {
     "name": "stdout",
     "output_type": "stream",
     "text": [
      "\u001b[1mEref\u001b[0m\n",
      "\t Eref 2239048\n",
      "\u001b[1mDD_0\u001b[0m\n",
      "\t DD_0 2239048\n",
      "\u001b[1mCMD\u001b[0m\n",
      "\t CMD 2239048\n",
      "\u001b[1mSHM\u001b[0m\n",
      "\t SHM 2239048\n",
      "\u001b[1mPAS\u001b[0m\n",
      "\t PAS 2239048\n",
      "\u001b[1mbFFP\u001b[0m\n",
      "\t bFFP 2239048\n",
      "\u001b[1mMAP\u001b[0m\n",
      "\t MAP 2239048\n",
      "\u001b[1mEMT\u001b[0m\n",
      "\t EMT 2239048\n",
      "\u001b[1mEXT\u001b[0m\n",
      "\t EXT 2239048\n",
      "\u001b[1mAHM\u001b[0m\n",
      "\t AHM 2239048\n",
      "\u001b[1mNFFD\u001b[0m\n",
      "\t NFFD 2239048\n",
      "\u001b[1mTD\u001b[0m\n",
      "\t TD 2239048\n",
      "\u001b[1mDD5\u001b[0m\n",
      "\t DD5 2239048\n",
      "\u001b[1mFFP\u001b[0m\n",
      "\t FFP 2239048\n",
      "\u001b[1meFFP\u001b[0m\n",
      "\t eFFP 2239048\n",
      "\u001b[1mMSP\u001b[0m\n",
      "\t MSP 2239048\n",
      "\u001b[1mMAT\u001b[0m\n",
      "\t MAT 2239048\n",
      "\u001b[1mMWMT\u001b[0m\n",
      "\t MWMT 2239048\n",
      "\u001b[1mMCMT\u001b[0m\n",
      "\t MCMT 2239048\n"
     ]
    }
   ],
   "source": [
    "# assert each env has the expected number of rows (SNPs)\n",
    "for env in envdfs:\n",
    "    print(ColorText(env).bold())\n",
    "    print('\\t',env, nrow(envdfs[env]))\n",
    "    if nrow(envdfs[env]) != rows:\n",
    "        print(ColorText('CRAAAAAAAAAP').fail().bold())"
   ]
  },
  {
   "cell_type": "code",
   "execution_count": 14,
   "metadata": {},
   "outputs": [],
   "source": [
    "# release some RAM\n",
    "del dflst, chaindfs, df, df2, df3, dfs, envlist, jobs"
   ]
  },
  {
   "cell_type": "markdown",
   "metadata": {},
   "source": [
    "# reduce to only non-paralog non-repeat\n",
    "\n",
    "when I had originally filtered out JP_p24, I accidently didn't remove PARALOGS and REPEATS.\n",
    "\n",
    "I went back and redid this after baypass had finished, so here I just subset the baypass outputs to those SNPs. I do it here so I can confirm expected returns from baypass, but before ranking across loci done below.\n",
    "\n",
    "The refiltered file contains the exact information for non-paralog/non-repeat SNPs as the old file. The refiltered file was given the name as the old file, and the old filename was appended to end with `_old.txt`\n",
    "\n",
    "The rankings before removing paralog and repeat snps are in baypass/final_results/with_paralogs_and_repeats"
   ]
  },
  {
   "cell_type": "code",
   "execution_count": 16,
   "metadata": {},
   "outputs": [
    {
     "name": "stdout",
     "output_type": "stream",
     "text": [
      "\u001b[1m\n",
      "Watching 56 parallel_read() jobs ...\u001b[0m\n"
     ]
    },
    {
     "name": "stderr",
     "output_type": "stream",
     "text": [
      "JP_pooled-varscan_all_bedfiles_SNP_without-p24_maf_RD-recalculated.txt: 100%|██████████| 56/56 [00:12<00:00,  4.51it/s]\n"
     ]
    },
    {
     "name": "stdout",
     "output_type": "stream",
     "text": [
      "Function `parallel_read` completed after : 0-00:00:30\n"
     ]
    },
    {
     "data": {
      "text/html": [
       "<div>\n",
       "<style scoped>\n",
       "    .dataframe tbody tr th:only-of-type {\n",
       "        vertical-align: middle;\n",
       "    }\n",
       "\n",
       "    .dataframe tbody tr th {\n",
       "        vertical-align: top;\n",
       "    }\n",
       "\n",
       "    .dataframe thead th {\n",
       "        text-align: right;\n",
       "    }\n",
       "</style>\n",
       "<table border=\"1\" class=\"dataframe\">\n",
       "  <thead>\n",
       "    <tr style=\"text-align: right;\">\n",
       "      <th></th>\n",
       "      <th>CHROM</th>\n",
       "      <th>POS</th>\n",
       "      <th>REF</th>\n",
       "      <th>ALT</th>\n",
       "      <th>AF</th>\n",
       "      <th>QUAL</th>\n",
       "      <th>TYPE</th>\n",
       "      <th>FILTER</th>\n",
       "      <th>ADP</th>\n",
       "      <th>WT</th>\n",
       "      <th>HET</th>\n",
       "      <th>HOM</th>\n",
       "      <th>NC</th>\n",
       "      <th>JP_p98.GT</th>\n",
       "      <th>JP_p98.GQ</th>\n",
       "      <th>JP_p98.SDP</th>\n",
       "      <th>JP_p98.DP</th>\n",
       "      <th>JP_p98.FREQ</th>\n",
       "      <th>JP_p98.PVAL</th>\n",
       "      <th>JP_p98.AD</th>\n",
       "      <th>JP_p98.RD</th>\n",
       "      <th>JP_p31.GT</th>\n",
       "      <th>JP_p31.GQ</th>\n",
       "      <th>JP_p31.SDP</th>\n",
       "      <th>JP_p31.DP</th>\n",
       "      <th>JP_p31.FREQ</th>\n",
       "      <th>JP_p31.PVAL</th>\n",
       "      <th>JP_p31.AD</th>\n",
       "      <th>JP_p31.RD</th>\n",
       "      <th>JP_p93.GT</th>\n",
       "      <th>JP_p93.GQ</th>\n",
       "      <th>JP_p93.SDP</th>\n",
       "      <th>JP_p93.DP</th>\n",
       "      <th>JP_p93.FREQ</th>\n",
       "      <th>JP_p93.PVAL</th>\n",
       "      <th>JP_p93.AD</th>\n",
       "      <th>JP_p93.RD</th>\n",
       "      <th>JP_p14.GT</th>\n",
       "      <th>JP_p14.GQ</th>\n",
       "      <th>JP_p14.SDP</th>\n",
       "      <th>JP_p14.DP</th>\n",
       "      <th>JP_p14.FREQ</th>\n",
       "      <th>JP_p14.PVAL</th>\n",
       "      <th>JP_p14.AD</th>\n",
       "      <th>JP_p14.RD</th>\n",
       "      <th>JP_p70.GT</th>\n",
       "      <th>JP_p70.GQ</th>\n",
       "      <th>JP_p70.SDP</th>\n",
       "      <th>JP_p70.DP</th>\n",
       "      <th>JP_p70.FREQ</th>\n",
       "      <th>...</th>\n",
       "      <th>JP_p102.DP</th>\n",
       "      <th>JP_p102.FREQ</th>\n",
       "      <th>JP_p102.PVAL</th>\n",
       "      <th>JP_p102.AD</th>\n",
       "      <th>JP_p102.RD</th>\n",
       "      <th>JP_p100.GT</th>\n",
       "      <th>JP_p100.GQ</th>\n",
       "      <th>JP_p100.SDP</th>\n",
       "      <th>JP_p100.DP</th>\n",
       "      <th>JP_p100.FREQ</th>\n",
       "      <th>JP_p100.PVAL</th>\n",
       "      <th>JP_p100.AD</th>\n",
       "      <th>JP_p100.RD</th>\n",
       "      <th>JP_p42.GT</th>\n",
       "      <th>JP_p42.GQ</th>\n",
       "      <th>JP_p42.SDP</th>\n",
       "      <th>JP_p42.DP</th>\n",
       "      <th>JP_p42.FREQ</th>\n",
       "      <th>JP_p42.PVAL</th>\n",
       "      <th>JP_p42.AD</th>\n",
       "      <th>JP_p42.RD</th>\n",
       "      <th>JP_p103.GT</th>\n",
       "      <th>JP_p103.GQ</th>\n",
       "      <th>JP_p103.SDP</th>\n",
       "      <th>JP_p103.DP</th>\n",
       "      <th>JP_p103.FREQ</th>\n",
       "      <th>JP_p103.PVAL</th>\n",
       "      <th>JP_p103.AD</th>\n",
       "      <th>JP_p103.RD</th>\n",
       "      <th>JP_p48.GT</th>\n",
       "      <th>JP_p48.GQ</th>\n",
       "      <th>JP_p48.SDP</th>\n",
       "      <th>JP_p48.DP</th>\n",
       "      <th>JP_p48.FREQ</th>\n",
       "      <th>JP_p48.PVAL</th>\n",
       "      <th>JP_p48.AD</th>\n",
       "      <th>JP_p48.RD</th>\n",
       "      <th>JP_p79.GT</th>\n",
       "      <th>JP_p79.GQ</th>\n",
       "      <th>JP_p79.SDP</th>\n",
       "      <th>JP_p79.DP</th>\n",
       "      <th>JP_p79.FREQ</th>\n",
       "      <th>JP_p79.PVAL</th>\n",
       "      <th>JP_p79.AD</th>\n",
       "      <th>JP_p79.RD</th>\n",
       "      <th>locus</th>\n",
       "      <th>unstitched_chrom</th>\n",
       "      <th>unstitched_pos</th>\n",
       "      <th>unstitched_locus</th>\n",
       "      <th>MAF</th>\n",
       "    </tr>\n",
       "  </thead>\n",
       "  <tbody>\n",
       "    <tr>\n",
       "      <th>0</th>\n",
       "      <td>Scaffold_1</td>\n",
       "      <td>15421</td>\n",
       "      <td>A</td>\n",
       "      <td>G</td>\n",
       "      <td>0.670204</td>\n",
       "      <td>-10.0</td>\n",
       "      <td>SNP</td>\n",
       "      <td>PASS</td>\n",
       "      <td>22</td>\n",
       "      <td>0</td>\n",
       "      <td>32</td>\n",
       "      <td>8</td>\n",
       "      <td>0</td>\n",
       "      <td>A/G</td>\n",
       "      <td>67.0</td>\n",
       "      <td>22.0</td>\n",
       "      <td>22.0</td>\n",
       "      <td>72.73%</td>\n",
       "      <td>1.790500e-07</td>\n",
       "      <td>16.0</td>\n",
       "      <td>6.0</td>\n",
       "      <td>G/G</td>\n",
       "      <td>126.0</td>\n",
       "      <td>32.0</td>\n",
       "      <td>32.0</td>\n",
       "      <td>84.38%</td>\n",
       "      <td>2.378500e-13</td>\n",
       "      <td>27.0</td>\n",
       "      <td>5.0</td>\n",
       "      <td>A/G</td>\n",
       "      <td>87.0</td>\n",
       "      <td>26.0</td>\n",
       "      <td>26.0</td>\n",
       "      <td>76.92%</td>\n",
       "      <td>1.827300e-09</td>\n",
       "      <td>20.0</td>\n",
       "      <td>6.0</td>\n",
       "      <td>A/G</td>\n",
       "      <td>30.0</td>\n",
       "      <td>14.0</td>\n",
       "      <td>14.0</td>\n",
       "      <td>57.14%</td>\n",
       "      <td>9.661800e-04</td>\n",
       "      <td>8.0</td>\n",
       "      <td>6.0</td>\n",
       "      <td>A/G</td>\n",
       "      <td>90.0</td>\n",
       "      <td>32.0</td>\n",
       "      <td>32.0</td>\n",
       "      <td>68.75%</td>\n",
       "      <td>...</td>\n",
       "      <td>15.0</td>\n",
       "      <td>80%</td>\n",
       "      <td>5.260500e-06</td>\n",
       "      <td>12.0</td>\n",
       "      <td>3.0</td>\n",
       "      <td>A/G</td>\n",
       "      <td>21.0</td>\n",
       "      <td>12.0</td>\n",
       "      <td>12.0</td>\n",
       "      <td>50%</td>\n",
       "      <td>6.865000e-03</td>\n",
       "      <td>6.0</td>\n",
       "      <td>6.0</td>\n",
       "      <td>A/G</td>\n",
       "      <td>97.0</td>\n",
       "      <td>28.0</td>\n",
       "      <td>28.0</td>\n",
       "      <td>78.57%</td>\n",
       "      <td>1.758300e-10</td>\n",
       "      <td>22.0</td>\n",
       "      <td>6.0</td>\n",
       "      <td>G/G</td>\n",
       "      <td>49.0</td>\n",
       "      <td>13.0</td>\n",
       "      <td>13.0</td>\n",
       "      <td>84.62%</td>\n",
       "      <td>1.009600e-05</td>\n",
       "      <td>11.0</td>\n",
       "      <td>2.0</td>\n",
       "      <td>A/G</td>\n",
       "      <td>38.0</td>\n",
       "      <td>26.0</td>\n",
       "      <td>26.0</td>\n",
       "      <td>42.31%</td>\n",
       "      <td>1.279100e-04</td>\n",
       "      <td>11.0</td>\n",
       "      <td>15.0</td>\n",
       "      <td>A/G</td>\n",
       "      <td>47.0</td>\n",
       "      <td>19.0</td>\n",
       "      <td>19.0</td>\n",
       "      <td>63.16%</td>\n",
       "      <td>1.861100e-05</td>\n",
       "      <td>12.0</td>\n",
       "      <td>7.0</td>\n",
       "      <td>Scaffold_1-15421</td>\n",
       "      <td>&gt;super4</td>\n",
       "      <td>15421</td>\n",
       "      <td>&gt;super4-15421</td>\n",
       "      <td>0.329796</td>\n",
       "    </tr>\n",
       "    <tr>\n",
       "      <th>1</th>\n",
       "      <td>Scaffold_1</td>\n",
       "      <td>47333</td>\n",
       "      <td>G</td>\n",
       "      <td>A</td>\n",
       "      <td>0.108624</td>\n",
       "      <td>-10.0</td>\n",
       "      <td>SNP</td>\n",
       "      <td>PASS</td>\n",
       "      <td>109</td>\n",
       "      <td>7</td>\n",
       "      <td>33</td>\n",
       "      <td>0</td>\n",
       "      <td>0</td>\n",
       "      <td>NaN</td>\n",
       "      <td>NaN</td>\n",
       "      <td>NaN</td>\n",
       "      <td>NaN</td>\n",
       "      <td>NaN</td>\n",
       "      <td>NaN</td>\n",
       "      <td>NaN</td>\n",
       "      <td>NaN</td>\n",
       "      <td>G/A</td>\n",
       "      <td>34.0</td>\n",
       "      <td>121.0</td>\n",
       "      <td>121.0</td>\n",
       "      <td>9.09%</td>\n",
       "      <td>3.850000e-04</td>\n",
       "      <td>11.0</td>\n",
       "      <td>110.0</td>\n",
       "      <td>G/A</td>\n",
       "      <td>58.0</td>\n",
       "      <td>85.0</td>\n",
       "      <td>85.0</td>\n",
       "      <td>21.18%</td>\n",
       "      <td>1.395700e-06</td>\n",
       "      <td>18.0</td>\n",
       "      <td>67.0</td>\n",
       "      <td>G/A</td>\n",
       "      <td>34.0</td>\n",
       "      <td>133.0</td>\n",
       "      <td>133.0</td>\n",
       "      <td>8.27%</td>\n",
       "      <td>3.936900e-04</td>\n",
       "      <td>11.0</td>\n",
       "      <td>122.0</td>\n",
       "      <td>G/A</td>\n",
       "      <td>50.0</td>\n",
       "      <td>118.0</td>\n",
       "      <td>118.0</td>\n",
       "      <td>13.56%</td>\n",
       "      <td>...</td>\n",
       "      <td>44.0</td>\n",
       "      <td>18.18%</td>\n",
       "      <td>2.757300e-03</td>\n",
       "      <td>8.0</td>\n",
       "      <td>36.0</td>\n",
       "      <td>G/A</td>\n",
       "      <td>21.0</td>\n",
       "      <td>77.0</td>\n",
       "      <td>77.0</td>\n",
       "      <td>9.09%</td>\n",
       "      <td>6.775500e-03</td>\n",
       "      <td>7.0</td>\n",
       "      <td>70.0</td>\n",
       "      <td>NaN</td>\n",
       "      <td>NaN</td>\n",
       "      <td>NaN</td>\n",
       "      <td>NaN</td>\n",
       "      <td>NaN</td>\n",
       "      <td>NaN</td>\n",
       "      <td>NaN</td>\n",
       "      <td>NaN</td>\n",
       "      <td>G/A</td>\n",
       "      <td>44.0</td>\n",
       "      <td>103.0</td>\n",
       "      <td>103.0</td>\n",
       "      <td>13.59%</td>\n",
       "      <td>3.802900e-05</td>\n",
       "      <td>14.0</td>\n",
       "      <td>89.0</td>\n",
       "      <td>G/G</td>\n",
       "      <td>250.0</td>\n",
       "      <td>134.0</td>\n",
       "      <td>134.0</td>\n",
       "      <td>0%</td>\n",
       "      <td>1.000000e+00</td>\n",
       "      <td>0.0</td>\n",
       "      <td>134.0</td>\n",
       "      <td>G/A</td>\n",
       "      <td>27.0</td>\n",
       "      <td>105.0</td>\n",
       "      <td>105.0</td>\n",
       "      <td>8.57%</td>\n",
       "      <td>1.633500e-03</td>\n",
       "      <td>9.0</td>\n",
       "      <td>96.0</td>\n",
       "      <td>Scaffold_1-47333</td>\n",
       "      <td>&gt;super4</td>\n",
       "      <td>47333</td>\n",
       "      <td>&gt;super4-47333</td>\n",
       "      <td>0.108624</td>\n",
       "    </tr>\n",
       "    <tr>\n",
       "      <th>2</th>\n",
       "      <td>Scaffold_1</td>\n",
       "      <td>47418</td>\n",
       "      <td>T</td>\n",
       "      <td>A</td>\n",
       "      <td>0.220805</td>\n",
       "      <td>-10.0</td>\n",
       "      <td>SNP</td>\n",
       "      <td>PASS</td>\n",
       "      <td>113</td>\n",
       "      <td>2</td>\n",
       "      <td>38</td>\n",
       "      <td>0</td>\n",
       "      <td>0</td>\n",
       "      <td>T/A</td>\n",
       "      <td>45.0</td>\n",
       "      <td>70.0</td>\n",
       "      <td>70.0</td>\n",
       "      <td>20%</td>\n",
       "      <td>2.968700e-05</td>\n",
       "      <td>14.0</td>\n",
       "      <td>56.0</td>\n",
       "      <td>T/A</td>\n",
       "      <td>83.0</td>\n",
       "      <td>140.0</td>\n",
       "      <td>140.0</td>\n",
       "      <td>18.57%</td>\n",
       "      <td>4.146600e-09</td>\n",
       "      <td>26.0</td>\n",
       "      <td>114.0</td>\n",
       "      <td>T/A</td>\n",
       "      <td>82.0</td>\n",
       "      <td>97.0</td>\n",
       "      <td>97.0</td>\n",
       "      <td>25.77%</td>\n",
       "      <td>5.045400e-09</td>\n",
       "      <td>25.0</td>\n",
       "      <td>72.0</td>\n",
       "      <td>T/A</td>\n",
       "      <td>94.0</td>\n",
       "      <td>137.0</td>\n",
       "      <td>137.0</td>\n",
       "      <td>21.17%</td>\n",
       "      <td>3.550500e-10</td>\n",
       "      <td>29.0</td>\n",
       "      <td>108.0</td>\n",
       "      <td>T/A</td>\n",
       "      <td>117.0</td>\n",
       "      <td>126.0</td>\n",
       "      <td>126.0</td>\n",
       "      <td>27.78%</td>\n",
       "      <td>...</td>\n",
       "      <td>44.0</td>\n",
       "      <td>15.91%</td>\n",
       "      <td>6.036300e-03</td>\n",
       "      <td>7.0</td>\n",
       "      <td>37.0</td>\n",
       "      <td>T/A</td>\n",
       "      <td>51.0</td>\n",
       "      <td>89.0</td>\n",
       "      <td>89.0</td>\n",
       "      <td>17.98%</td>\n",
       "      <td>7.216200e-06</td>\n",
       "      <td>16.0</td>\n",
       "      <td>73.0</td>\n",
       "      <td>T/A</td>\n",
       "      <td>71.0</td>\n",
       "      <td>112.0</td>\n",
       "      <td>112.0</td>\n",
       "      <td>19.64%</td>\n",
       "      <td>7.603100e-08</td>\n",
       "      <td>22.0</td>\n",
       "      <td>90.0</td>\n",
       "      <td>T/A</td>\n",
       "      <td>71.0</td>\n",
       "      <td>102.0</td>\n",
       "      <td>102.0</td>\n",
       "      <td>21.57%</td>\n",
       "      <td>6.704300e-08</td>\n",
       "      <td>22.0</td>\n",
       "      <td>80.0</td>\n",
       "      <td>T/A</td>\n",
       "      <td>37.0</td>\n",
       "      <td>121.0</td>\n",
       "      <td>121.0</td>\n",
       "      <td>9.92%</td>\n",
       "      <td>1.833300e-04</td>\n",
       "      <td>12.0</td>\n",
       "      <td>109.0</td>\n",
       "      <td>T/A</td>\n",
       "      <td>67.0</td>\n",
       "      <td>122.0</td>\n",
       "      <td>122.0</td>\n",
       "      <td>17.21%</td>\n",
       "      <td>1.861000e-07</td>\n",
       "      <td>21.0</td>\n",
       "      <td>101.0</td>\n",
       "      <td>Scaffold_1-47418</td>\n",
       "      <td>&gt;super4</td>\n",
       "      <td>47418</td>\n",
       "      <td>&gt;super4-47418</td>\n",
       "      <td>0.220805</td>\n",
       "    </tr>\n",
       "    <tr>\n",
       "      <th>3</th>\n",
       "      <td>Scaffold_1</td>\n",
       "      <td>47461</td>\n",
       "      <td>T</td>\n",
       "      <td>G</td>\n",
       "      <td>0.082141</td>\n",
       "      <td>-10.0</td>\n",
       "      <td>SNP</td>\n",
       "      <td>PASS</td>\n",
       "      <td>109</td>\n",
       "      <td>12</td>\n",
       "      <td>28</td>\n",
       "      <td>0</td>\n",
       "      <td>0</td>\n",
       "      <td>T/T</td>\n",
       "      <td>145.0</td>\n",
       "      <td>77.0</td>\n",
       "      <td>77.0</td>\n",
       "      <td>0%</td>\n",
       "      <td>1.000000e+00</td>\n",
       "      <td>0.0</td>\n",
       "      <td>77.0</td>\n",
       "      <td>T/T</td>\n",
       "      <td>250.0</td>\n",
       "      <td>133.0</td>\n",
       "      <td>133.0</td>\n",
       "      <td>0%</td>\n",
       "      <td>1.000000e+00</td>\n",
       "      <td>0.0</td>\n",
       "      <td>133.0</td>\n",
       "      <td>NaN</td>\n",
       "      <td>NaN</td>\n",
       "      <td>NaN</td>\n",
       "      <td>NaN</td>\n",
       "      <td>NaN</td>\n",
       "      <td>NaN</td>\n",
       "      <td>NaN</td>\n",
       "      <td>NaN</td>\n",
       "      <td>T/G</td>\n",
       "      <td>27.0</td>\n",
       "      <td>120.0</td>\n",
       "      <td>120.0</td>\n",
       "      <td>7.5%</td>\n",
       "      <td>1.671800e-03</td>\n",
       "      <td>9.0</td>\n",
       "      <td>111.0</td>\n",
       "      <td>T/G</td>\n",
       "      <td>60.0</td>\n",
       "      <td>115.0</td>\n",
       "      <td>115.0</td>\n",
       "      <td>16.52%</td>\n",
       "      <td>...</td>\n",
       "      <td>46.0</td>\n",
       "      <td>0%</td>\n",
       "      <td>1.000000e+00</td>\n",
       "      <td>0.0</td>\n",
       "      <td>46.0</td>\n",
       "      <td>T/G</td>\n",
       "      <td>31.0</td>\n",
       "      <td>84.0</td>\n",
       "      <td>84.0</td>\n",
       "      <td>11.9%</td>\n",
       "      <td>7.350700e-04</td>\n",
       "      <td>10.0</td>\n",
       "      <td>74.0</td>\n",
       "      <td>T/T</td>\n",
       "      <td>162.0</td>\n",
       "      <td>102.0</td>\n",
       "      <td>102.0</td>\n",
       "      <td>1.96%</td>\n",
       "      <td>2.487700e-01</td>\n",
       "      <td>2.0</td>\n",
       "      <td>100.0</td>\n",
       "      <td>T/T</td>\n",
       "      <td>144.0</td>\n",
       "      <td>91.0</td>\n",
       "      <td>91.0</td>\n",
       "      <td>2.2%</td>\n",
       "      <td>2.486200e-01</td>\n",
       "      <td>2.0</td>\n",
       "      <td>89.0</td>\n",
       "      <td>T/G</td>\n",
       "      <td>77.0</td>\n",
       "      <td>123.0</td>\n",
       "      <td>123.0</td>\n",
       "      <td>19.51%</td>\n",
       "      <td>1.720100e-08</td>\n",
       "      <td>24.0</td>\n",
       "      <td>99.0</td>\n",
       "      <td>T/G</td>\n",
       "      <td>77.0</td>\n",
       "      <td>125.0</td>\n",
       "      <td>125.0</td>\n",
       "      <td>19.2%</td>\n",
       "      <td>1.758400e-08</td>\n",
       "      <td>24.0</td>\n",
       "      <td>101.0</td>\n",
       "      <td>Scaffold_1-47461</td>\n",
       "      <td>&gt;super4</td>\n",
       "      <td>47461</td>\n",
       "      <td>&gt;super4-47461</td>\n",
       "      <td>0.082141</td>\n",
       "    </tr>\n",
       "    <tr>\n",
       "      <th>4</th>\n",
       "      <td>Scaffold_1</td>\n",
       "      <td>47513</td>\n",
       "      <td>C</td>\n",
       "      <td>G</td>\n",
       "      <td>0.529540</td>\n",
       "      <td>-10.0</td>\n",
       "      <td>SNP</td>\n",
       "      <td>PASS</td>\n",
       "      <td>112</td>\n",
       "      <td>0</td>\n",
       "      <td>40</td>\n",
       "      <td>0</td>\n",
       "      <td>0</td>\n",
       "      <td>C/G</td>\n",
       "      <td>165.0</td>\n",
       "      <td>77.0</td>\n",
       "      <td>77.0</td>\n",
       "      <td>55.84%</td>\n",
       "      <td>2.805900e-17</td>\n",
       "      <td>43.0</td>\n",
       "      <td>34.0</td>\n",
       "      <td>C/G</td>\n",
       "      <td>255.0</td>\n",
       "      <td>133.0</td>\n",
       "      <td>133.0</td>\n",
       "      <td>56.39%</td>\n",
       "      <td>9.126200e-30</td>\n",
       "      <td>75.0</td>\n",
       "      <td>58.0</td>\n",
       "      <td>C/G</td>\n",
       "      <td>134.0</td>\n",
       "      <td>97.0</td>\n",
       "      <td>97.0</td>\n",
       "      <td>39.18%</td>\n",
       "      <td>3.898700e-14</td>\n",
       "      <td>38.0</td>\n",
       "      <td>59.0</td>\n",
       "      <td>C/G</td>\n",
       "      <td>179.0</td>\n",
       "      <td>96.0</td>\n",
       "      <td>96.0</td>\n",
       "      <td>50%</td>\n",
       "      <td>1.249000e-18</td>\n",
       "      <td>48.0</td>\n",
       "      <td>48.0</td>\n",
       "      <td>C/G</td>\n",
       "      <td>138.0</td>\n",
       "      <td>115.0</td>\n",
       "      <td>115.0</td>\n",
       "      <td>34.78%</td>\n",
       "      <td>...</td>\n",
       "      <td>46.0</td>\n",
       "      <td>63.04%</td>\n",
       "      <td>2.465900e-12</td>\n",
       "      <td>29.0</td>\n",
       "      <td>17.0</td>\n",
       "      <td>C/G</td>\n",
       "      <td>143.0</td>\n",
       "      <td>83.0</td>\n",
       "      <td>83.0</td>\n",
       "      <td>46.99%</td>\n",
       "      <td>4.966300e-15</td>\n",
       "      <td>39.0</td>\n",
       "      <td>44.0</td>\n",
       "      <td>C/G</td>\n",
       "      <td>211.0</td>\n",
       "      <td>116.0</td>\n",
       "      <td>116.0</td>\n",
       "      <td>49.14%</td>\n",
       "      <td>6.616500e-22</td>\n",
       "      <td>57.0</td>\n",
       "      <td>59.0</td>\n",
       "      <td>C/G</td>\n",
       "      <td>192.0</td>\n",
       "      <td>90.0</td>\n",
       "      <td>90.0</td>\n",
       "      <td>55.56%</td>\n",
       "      <td>5.861500e-20</td>\n",
       "      <td>50.0</td>\n",
       "      <td>40.0</td>\n",
       "      <td>C/G</td>\n",
       "      <td>255.0</td>\n",
       "      <td>139.0</td>\n",
       "      <td>139.0</td>\n",
       "      <td>69.78%</td>\n",
       "      <td>1.159100e-41</td>\n",
       "      <td>97.0</td>\n",
       "      <td>42.0</td>\n",
       "      <td>C/G</td>\n",
       "      <td>219.0</td>\n",
       "      <td>120.0</td>\n",
       "      <td>120.0</td>\n",
       "      <td>49.17%</td>\n",
       "      <td>1.178100e-22</td>\n",
       "      <td>59.0</td>\n",
       "      <td>61.0</td>\n",
       "      <td>Scaffold_1-47513</td>\n",
       "      <td>&gt;super4</td>\n",
       "      <td>47513</td>\n",
       "      <td>&gt;super4-47513</td>\n",
       "      <td>0.470460</td>\n",
       "    </tr>\n",
       "  </tbody>\n",
       "</table>\n",
       "<p>5 rows × 330 columns</p>\n",
       "</div>"
      ],
      "text/plain": [
       "        CHROM    POS REF ALT        AF  QUAL TYPE FILTER  ADP  WT  HET  HOM  \\\n",
       "0  Scaffold_1  15421   A   G  0.670204 -10.0  SNP   PASS   22   0   32    8   \n",
       "1  Scaffold_1  47333   G   A  0.108624 -10.0  SNP   PASS  109   7   33    0   \n",
       "2  Scaffold_1  47418   T   A  0.220805 -10.0  SNP   PASS  113   2   38    0   \n",
       "3  Scaffold_1  47461   T   G  0.082141 -10.0  SNP   PASS  109  12   28    0   \n",
       "4  Scaffold_1  47513   C   G  0.529540 -10.0  SNP   PASS  112   0   40    0   \n",
       "\n",
       "   NC JP_p98.GT  JP_p98.GQ  JP_p98.SDP  JP_p98.DP JP_p98.FREQ   JP_p98.PVAL  \\\n",
       "0   0       A/G       67.0        22.0       22.0      72.73%  1.790500e-07   \n",
       "1   0       NaN        NaN         NaN        NaN         NaN           NaN   \n",
       "2   0       T/A       45.0        70.0       70.0         20%  2.968700e-05   \n",
       "3   0       T/T      145.0        77.0       77.0          0%  1.000000e+00   \n",
       "4   0       C/G      165.0        77.0       77.0      55.84%  2.805900e-17   \n",
       "\n",
       "   JP_p98.AD  JP_p98.RD JP_p31.GT  JP_p31.GQ  JP_p31.SDP  JP_p31.DP  \\\n",
       "0       16.0        6.0       G/G      126.0        32.0       32.0   \n",
       "1        NaN        NaN       G/A       34.0       121.0      121.0   \n",
       "2       14.0       56.0       T/A       83.0       140.0      140.0   \n",
       "3        0.0       77.0       T/T      250.0       133.0      133.0   \n",
       "4       43.0       34.0       C/G      255.0       133.0      133.0   \n",
       "\n",
       "  JP_p31.FREQ   JP_p31.PVAL  JP_p31.AD  JP_p31.RD JP_p93.GT  JP_p93.GQ  \\\n",
       "0      84.38%  2.378500e-13       27.0        5.0       A/G       87.0   \n",
       "1       9.09%  3.850000e-04       11.0      110.0       G/A       58.0   \n",
       "2      18.57%  4.146600e-09       26.0      114.0       T/A       82.0   \n",
       "3          0%  1.000000e+00        0.0      133.0       NaN        NaN   \n",
       "4      56.39%  9.126200e-30       75.0       58.0       C/G      134.0   \n",
       "\n",
       "   JP_p93.SDP  JP_p93.DP JP_p93.FREQ   JP_p93.PVAL  JP_p93.AD  JP_p93.RD  \\\n",
       "0        26.0       26.0      76.92%  1.827300e-09       20.0        6.0   \n",
       "1        85.0       85.0      21.18%  1.395700e-06       18.0       67.0   \n",
       "2        97.0       97.0      25.77%  5.045400e-09       25.0       72.0   \n",
       "3         NaN        NaN         NaN           NaN        NaN        NaN   \n",
       "4        97.0       97.0      39.18%  3.898700e-14       38.0       59.0   \n",
       "\n",
       "  JP_p14.GT  JP_p14.GQ  JP_p14.SDP  JP_p14.DP JP_p14.FREQ   JP_p14.PVAL  \\\n",
       "0       A/G       30.0        14.0       14.0      57.14%  9.661800e-04   \n",
       "1       G/A       34.0       133.0      133.0       8.27%  3.936900e-04   \n",
       "2       T/A       94.0       137.0      137.0      21.17%  3.550500e-10   \n",
       "3       T/G       27.0       120.0      120.0        7.5%  1.671800e-03   \n",
       "4       C/G      179.0        96.0       96.0         50%  1.249000e-18   \n",
       "\n",
       "   JP_p14.AD  JP_p14.RD JP_p70.GT  JP_p70.GQ  JP_p70.SDP  JP_p70.DP  \\\n",
       "0        8.0        6.0       A/G       90.0        32.0       32.0   \n",
       "1       11.0      122.0       G/A       50.0       118.0      118.0   \n",
       "2       29.0      108.0       T/A      117.0       126.0      126.0   \n",
       "3        9.0      111.0       T/G       60.0       115.0      115.0   \n",
       "4       48.0       48.0       C/G      138.0       115.0      115.0   \n",
       "\n",
       "  JP_p70.FREQ  ...  JP_p102.DP  JP_p102.FREQ  JP_p102.PVAL JP_p102.AD  \\\n",
       "0      68.75%  ...        15.0           80%  5.260500e-06       12.0   \n",
       "1      13.56%  ...        44.0        18.18%  2.757300e-03        8.0   \n",
       "2      27.78%  ...        44.0        15.91%  6.036300e-03        7.0   \n",
       "3      16.52%  ...        46.0            0%  1.000000e+00        0.0   \n",
       "4      34.78%  ...        46.0        63.04%  2.465900e-12       29.0   \n",
       "\n",
       "   JP_p102.RD  JP_p100.GT  JP_p100.GQ JP_p100.SDP  JP_p100.DP  JP_p100.FREQ  \\\n",
       "0         3.0         A/G        21.0        12.0        12.0           50%   \n",
       "1        36.0         G/A        21.0        77.0        77.0         9.09%   \n",
       "2        37.0         T/A        51.0        89.0        89.0        17.98%   \n",
       "3        46.0         T/G        31.0        84.0        84.0         11.9%   \n",
       "4        17.0         C/G       143.0        83.0        83.0        46.99%   \n",
       "\n",
       "   JP_p100.PVAL JP_p100.AD  JP_p100.RD  JP_p42.GT  JP_p42.GQ JP_p42.SDP  \\\n",
       "0  6.865000e-03        6.0         6.0        A/G       97.0       28.0   \n",
       "1  6.775500e-03        7.0        70.0        NaN        NaN        NaN   \n",
       "2  7.216200e-06       16.0        73.0        T/A       71.0      112.0   \n",
       "3  7.350700e-04       10.0        74.0        T/T      162.0      102.0   \n",
       "4  4.966300e-15       39.0        44.0        C/G      211.0      116.0   \n",
       "\n",
       "   JP_p42.DP  JP_p42.FREQ   JP_p42.PVAL JP_p42.AD  JP_p42.RD  JP_p103.GT  \\\n",
       "0       28.0       78.57%  1.758300e-10      22.0        6.0         G/G   \n",
       "1        NaN          NaN           NaN       NaN        NaN         G/A   \n",
       "2      112.0       19.64%  7.603100e-08      22.0       90.0         T/A   \n",
       "3      102.0        1.96%  2.487700e-01       2.0      100.0         T/T   \n",
       "4      116.0       49.14%  6.616500e-22      57.0       59.0         C/G   \n",
       "\n",
       "   JP_p103.GQ JP_p103.SDP  JP_p103.DP  JP_p103.FREQ  JP_p103.PVAL JP_p103.AD  \\\n",
       "0        49.0        13.0        13.0        84.62%  1.009600e-05       11.0   \n",
       "1        44.0       103.0       103.0        13.59%  3.802900e-05       14.0   \n",
       "2        71.0       102.0       102.0        21.57%  6.704300e-08       22.0   \n",
       "3       144.0        91.0        91.0          2.2%  2.486200e-01        2.0   \n",
       "4       192.0        90.0        90.0        55.56%  5.861500e-20       50.0   \n",
       "\n",
       "   JP_p103.RD  JP_p48.GT  JP_p48.GQ JP_p48.SDP  JP_p48.DP  JP_p48.FREQ  \\\n",
       "0         2.0        A/G       38.0       26.0       26.0       42.31%   \n",
       "1        89.0        G/G      250.0      134.0      134.0           0%   \n",
       "2        80.0        T/A       37.0      121.0      121.0        9.92%   \n",
       "3        89.0        T/G       77.0      123.0      123.0       19.51%   \n",
       "4        40.0        C/G      255.0      139.0      139.0       69.78%   \n",
       "\n",
       "    JP_p48.PVAL JP_p48.AD  JP_p48.RD  JP_p79.GT  JP_p79.GQ JP_p79.SDP  \\\n",
       "0  1.279100e-04      11.0       15.0        A/G       47.0       19.0   \n",
       "1  1.000000e+00       0.0      134.0        G/A       27.0      105.0   \n",
       "2  1.833300e-04      12.0      109.0        T/A       67.0      122.0   \n",
       "3  1.720100e-08      24.0       99.0        T/G       77.0      125.0   \n",
       "4  1.159100e-41      97.0       42.0        C/G      219.0      120.0   \n",
       "\n",
       "   JP_p79.DP  JP_p79.FREQ   JP_p79.PVAL JP_p79.AD  JP_p79.RD  \\\n",
       "0       19.0       63.16%  1.861100e-05      12.0        7.0   \n",
       "1      105.0        8.57%  1.633500e-03       9.0       96.0   \n",
       "2      122.0       17.21%  1.861000e-07      21.0      101.0   \n",
       "3      125.0        19.2%  1.758400e-08      24.0      101.0   \n",
       "4      120.0       49.17%  1.178100e-22      59.0       61.0   \n",
       "\n",
       "              locus  unstitched_chrom unstitched_pos  unstitched_locus  \\\n",
       "0  Scaffold_1-15421           >super4          15421     >super4-15421   \n",
       "1  Scaffold_1-47333           >super4          47333     >super4-47333   \n",
       "2  Scaffold_1-47418           >super4          47418     >super4-47418   \n",
       "3  Scaffold_1-47461           >super4          47461     >super4-47461   \n",
       "4  Scaffold_1-47513           >super4          47513     >super4-47513   \n",
       "\n",
       "        MAF  \n",
       "0  0.329796  \n",
       "1  0.108624  \n",
       "2  0.220805  \n",
       "3  0.082141  \n",
       "4  0.470460  \n",
       "\n",
       "[5 rows x 330 columns]"
      ]
     },
     "execution_count": 16,
     "metadata": {},
     "output_type": "execute_result"
    }
   ],
   "source": [
    "# this is the refiltered file\n",
    "snps = parallel_read(op.join(op.dirname(baydir), 'JP_pooled-varscan_all_bedfiles_SNP_without-p24_maf_RD-recalculated.txt'),\n",
    "                     lview=lview, verbose=False)\n",
    "\n",
    "# assert that ADP of any loci that aren't in baypass output have ADP >= 1000\n",
    "notin = snps[~snps['unstitched_locus'].isin(envdfs[env].index)].copy()\n",
    "print('\\nnumber excluded =', nrow(notin))\n",
    "assert notin['ADP'].min() >= 1000\n",
    "\n",
    "snps.head()"
   ]
  },
  {
   "cell_type": "code",
   "execution_count": 30,
   "metadata": {},
   "outputs": [
    {
     "data": {
      "text/plain": [
       "1162514"
      ]
     },
     "execution_count": 30,
     "metadata": {},
     "output_type": "execute_result"
    }
   ],
   "source": [
    "sum(envdfs[env].index.isin(snps['unstitched_locus']))"
   ]
  },
  {
   "cell_type": "code",
   "execution_count": 29,
   "metadata": {},
   "outputs": [
    {
     "data": {
      "text/plain": [
       "2239048"
      ]
     },
     "execution_count": 29,
     "metadata": {},
     "output_type": "execute_result"
    }
   ],
   "source": [
    "nrow(envdfs[env])"
   ]
  },
  {
   "cell_type": "code",
   "execution_count": 31,
   "metadata": {},
   "outputs": [
    {
     "name": "stdout",
     "output_type": "stream",
     "text": [
      "Eref 2239048 1162514\n",
      "DD_0 2239048 1162514\n",
      "CMD 2239048 1162514\n",
      "SHM 2239048 1162514\n",
      "PAS 2239048 1162514\n",
      "bFFP 2239048 1162514\n",
      "MAP 2239048 1162514\n",
      "EMT 2239048 1162514\n",
      "EXT 2239048 1162514\n",
      "AHM 2239048 1162514\n",
      "NFFD 2239048 1162514\n",
      "TD 2239048 1162514\n",
      "DD5 2239048 1162514\n",
      "FFP 2239048 1162514\n",
      "eFFP 2239048 1162514\n",
      "MSP 2239048 1162514\n",
      "MAT 2239048 1162514\n",
      "MWMT 2239048 1162514\n",
      "MCMT 2239048 1162514\n"
     ]
    }
   ],
   "source": [
    "# remove paralog and repeats\n",
    "for env,df in envdfs.items():\n",
    "    x = nrow(df)\n",
    "    envdfs[env] = df[df.index.isin(snps['unstitched_locus'])]\n",
    "    print(env, x, nrow(envdfs[env]))"
   ]
  },
  {
   "cell_type": "code",
   "execution_count": null,
   "metadata": {},
   "outputs": [],
   "source": []
  },
  {
   "cell_type": "markdown",
   "metadata": {},
   "source": [
    "<a id='rank'></a>\n",
    "# Rank all loci\n",
    "\n",
    "[top](#home)"
   ]
  },
  {
   "cell_type": "code",
   "execution_count": 32,
   "metadata": {},
   "outputs": [],
   "source": [
    "def rank_baypass(df):\n",
    "    \"\"\"Create columns to rank loci within and across chains.\"\"\"\n",
    "    import pandas\n",
    "    import tqdm\n",
    "    import math\n",
    "    chains = ['chain_1', 'chain_2', 'chain_3', 'chain_4', 'chain_5']\n",
    "\n",
    "    # rank per chain based on chain BF\n",
    "    for chain in tqdm.tqdm(chains, desc='chains'):\n",
    "        col = f'{chain}-BF(dB)'\n",
    "#         colBF = df[col].apply(lambda x: 10**(x/10))  # convert deciban to BF\n",
    "        colBF = df[col]  # no need to convert!\n",
    "        ranked = dict((locus,rank+1) for (rank,locus) in enumerate(colBF.sort_values(ascending=False).index))\n",
    "        df[f'rank_{chain}-BF'] = [ranked[locus] for locus in df.index]\n",
    "\n",
    "    # mean BF\n",
    "    print('getting mean BF')\n",
    "    bfcols = [col for col in df if 'BF(dB)' in col and col.startswith('chain')]\n",
    "    print(bfcols)\n",
    "    assert len(bfcols) == 5  # 5 chains\n",
    "#     mean_BF_dB = df[bfcols].mean(axis=1)\n",
    "#     df['mean_BF'] = mean_BF_dB.apply(lambda x: 10**(x/10))  # convert deciban to BF\n",
    "    df['mean_BF(dB)'] = df[bfcols].mean(axis=1)  # no need to convert!\n",
    "\n",
    "    # rank of mean BF\n",
    "    print('ranking mean BF')\n",
    "    ranked = dict((locus,rank+1) for (rank,locus) in enumerate(df['mean_BF(dB)'].sort_values(ascending=False).index))\n",
    "    df['rank_mean_BF(dB)'] = [ranked[locus] for locus in df.index]\n",
    "    \n",
    "    # bool column, enter True if BF >= 20 for >=3 chains, and BF >= 15 for >= 3 chains\n",
    "    print('calculating bool column')\n",
    "#     df['BF_gte20_for-gte3chains'] = (df[bfcols] >= 10*math.log10(20)).sum(axis=1) >= 3\n",
    "#     df['BF_gte15_for-gte3chains'] = (df[bfcols] >= 10*math.log10(15)).sum(axis=1) >= 3\n",
    "#     print(sum((df[bfcols] > 10*math.log10(20)).sum(axis=1) > 3))\n",
    "    df['BF(dB)_gte20_for-gte3chains'] = (df[bfcols] >= 20).sum(axis=1) >= 3  # no need to convert!\n",
    "    df['BF(dB)_gte15_for-gte3chains'] = (df[bfcols] >= 15).sum(axis=1) >= 3  # no need to convert!\n",
    "    print(sum((df[bfcols] > 20).sum(axis=1) > 3))  # no need to convert!\n",
    "\n",
    "    return df"
   ]
  },
  {
   "cell_type": "code",
   "execution_count": 33,
   "metadata": {},
   "outputs": [
    {
     "name": "stderr",
     "output_type": "stream",
     "text": [
      "100%|██████████| 19/19 [00:08<00:00,  2.14it/s]\n"
     ]
    },
    {
     "name": "stdout",
     "output_type": "stream",
     "text": [
      "\u001b[1m\n",
      "Watching 19 jobs ...\u001b[0m\n"
     ]
    },
    {
     "name": "stderr",
     "output_type": "stream",
     "text": [
      "100%|██████████| 19/19 [00:18<00:00,  1.05it/s]\n"
     ]
    },
    {
     "data": {
      "text/plain": [
       "'0-00:00:27'"
      ]
     },
     "execution_count": 33,
     "metadata": {},
     "output_type": "execute_result"
    }
   ],
   "source": [
    "# call rank_baypass() in parallel for each environment\n",
    "t1 = dt.now()\n",
    "jobs = []\n",
    "for env,df in nb(envdfs.items()):\n",
    "    bfcols = [col for col in df.columns if 'BF(dB)' in col and col.startswith('chain')]\n",
    "    assert len(bfcols) == 5  # num chains\n",
    "    jobs.append(lview.apply_async(rank_baypass, df[bfcols]))\n",
    "watch_async(jobs)\n",
    "formatclock(dt.now() - t1, exact=True)"
   ]
  },
  {
   "cell_type": "code",
   "execution_count": 34,
   "metadata": {},
   "outputs": [
    {
     "data": {
      "text/html": [
       "<div>\n",
       "<style scoped>\n",
       "    .dataframe tbody tr th:only-of-type {\n",
       "        vertical-align: middle;\n",
       "    }\n",
       "\n",
       "    .dataframe tbody tr th {\n",
       "        vertical-align: top;\n",
       "    }\n",
       "\n",
       "    .dataframe thead th {\n",
       "        text-align: right;\n",
       "    }\n",
       "</style>\n",
       "<table border=\"1\" class=\"dataframe\">\n",
       "  <thead>\n",
       "    <tr style=\"text-align: right;\">\n",
       "      <th></th>\n",
       "      <th>chain_1-BF(dB)</th>\n",
       "      <th>chain_2-BF(dB)</th>\n",
       "      <th>chain_3-BF(dB)</th>\n",
       "      <th>chain_4-BF(dB)</th>\n",
       "      <th>chain_5-BF(dB)</th>\n",
       "      <th>rank_chain_1-BF</th>\n",
       "      <th>rank_chain_2-BF</th>\n",
       "      <th>rank_chain_3-BF</th>\n",
       "      <th>rank_chain_4-BF</th>\n",
       "      <th>rank_chain_5-BF</th>\n",
       "      <th>mean_BF(dB)</th>\n",
       "      <th>rank_mean_BF(dB)</th>\n",
       "      <th>BF(dB)_gte20_for-gte3chains</th>\n",
       "      <th>BF(dB)_gte15_for-gte3chains</th>\n",
       "    </tr>\n",
       "    <tr>\n",
       "      <th></th>\n",
       "      <th></th>\n",
       "      <th></th>\n",
       "      <th></th>\n",
       "      <th></th>\n",
       "      <th></th>\n",
       "      <th></th>\n",
       "      <th></th>\n",
       "      <th></th>\n",
       "      <th></th>\n",
       "      <th></th>\n",
       "      <th></th>\n",
       "      <th></th>\n",
       "      <th></th>\n",
       "      <th></th>\n",
       "    </tr>\n",
       "  </thead>\n",
       "  <tbody>\n",
       "    <tr>\n",
       "      <th>&gt;super4-15421</th>\n",
       "      <td>-9.754825</td>\n",
       "      <td>-9.410429</td>\n",
       "      <td>-9.248764</td>\n",
       "      <td>-9.266665</td>\n",
       "      <td>-9.226468</td>\n",
       "      <td>445776</td>\n",
       "      <td>396311</td>\n",
       "      <td>375351</td>\n",
       "      <td>377175</td>\n",
       "      <td>372486</td>\n",
       "      <td>-9.381430</td>\n",
       "      <td>392688</td>\n",
       "      <td>False</td>\n",
       "      <td>False</td>\n",
       "    </tr>\n",
       "    <tr>\n",
       "      <th>&gt;super4-47333</th>\n",
       "      <td>-10.246416</td>\n",
       "      <td>-11.261825</td>\n",
       "      <td>-11.058011</td>\n",
       "      <td>-10.685924</td>\n",
       "      <td>-10.811931</td>\n",
       "      <td>533613</td>\n",
       "      <td>713976</td>\n",
       "      <td>680205</td>\n",
       "      <td>616210</td>\n",
       "      <td>638137</td>\n",
       "      <td>-10.812822</td>\n",
       "      <td>645641</td>\n",
       "      <td>False</td>\n",
       "      <td>False</td>\n",
       "    </tr>\n",
       "    <tr>\n",
       "      <th>&gt;super4-47418</th>\n",
       "      <td>-8.771552</td>\n",
       "      <td>-7.914224</td>\n",
       "      <td>-8.931330</td>\n",
       "      <td>-8.815074</td>\n",
       "      <td>-8.372039</td>\n",
       "      <td>324771</td>\n",
       "      <td>258790</td>\n",
       "      <td>340415</td>\n",
       "      <td>328834</td>\n",
       "      <td>290867</td>\n",
       "      <td>-8.560844</td>\n",
       "      <td>303903</td>\n",
       "      <td>False</td>\n",
       "      <td>False</td>\n",
       "    </tr>\n",
       "    <tr>\n",
       "      <th>&gt;super4-47461</th>\n",
       "      <td>-6.517485</td>\n",
       "      <td>-3.939702</td>\n",
       "      <td>-6.617081</td>\n",
       "      <td>-6.369249</td>\n",
       "      <td>-6.297588</td>\n",
       "      <td>187535</td>\n",
       "      <td>113867</td>\n",
       "      <td>191834</td>\n",
       "      <td>181994</td>\n",
       "      <td>179113</td>\n",
       "      <td>-5.948221</td>\n",
       "      <td>162865</td>\n",
       "      <td>False</td>\n",
       "      <td>False</td>\n",
       "    </tr>\n",
       "    <tr>\n",
       "      <th>&gt;super4-47513</th>\n",
       "      <td>-8.699308</td>\n",
       "      <td>-9.349220</td>\n",
       "      <td>-8.988745</td>\n",
       "      <td>-9.165058</td>\n",
       "      <td>-9.103266</td>\n",
       "      <td>318082</td>\n",
       "      <td>388355</td>\n",
       "      <td>346386</td>\n",
       "      <td>365171</td>\n",
       "      <td>358256</td>\n",
       "      <td>-9.061120</td>\n",
       "      <td>352855</td>\n",
       "      <td>False</td>\n",
       "      <td>False</td>\n",
       "    </tr>\n",
       "  </tbody>\n",
       "</table>\n",
       "</div>"
      ],
      "text/plain": [
       "               chain_1-BF(dB)  chain_2-BF(dB)  chain_3-BF(dB)  chain_4-BF(dB)  \\\n",
       "                                                                                \n",
       ">super4-15421       -9.754825       -9.410429       -9.248764       -9.266665   \n",
       ">super4-47333      -10.246416      -11.261825      -11.058011      -10.685924   \n",
       ">super4-47418       -8.771552       -7.914224       -8.931330       -8.815074   \n",
       ">super4-47461       -6.517485       -3.939702       -6.617081       -6.369249   \n",
       ">super4-47513       -8.699308       -9.349220       -8.988745       -9.165058   \n",
       "\n",
       "               chain_5-BF(dB)  rank_chain_1-BF  rank_chain_2-BF  \\\n",
       "                                                                  \n",
       ">super4-15421       -9.226468           445776           396311   \n",
       ">super4-47333      -10.811931           533613           713976   \n",
       ">super4-47418       -8.372039           324771           258790   \n",
       ">super4-47461       -6.297588           187535           113867   \n",
       ">super4-47513       -9.103266           318082           388355   \n",
       "\n",
       "               rank_chain_3-BF  rank_chain_4-BF  rank_chain_5-BF  mean_BF(dB)  \\\n",
       "                                                                                \n",
       ">super4-15421           375351           377175           372486    -9.381430   \n",
       ">super4-47333           680205           616210           638137   -10.812822   \n",
       ">super4-47418           340415           328834           290867    -8.560844   \n",
       ">super4-47461           191834           181994           179113    -5.948221   \n",
       ">super4-47513           346386           365171           358256    -9.061120   \n",
       "\n",
       "               rank_mean_BF(dB)  BF(dB)_gte20_for-gte3chains  \\\n",
       "                                                               \n",
       ">super4-15421            392688                        False   \n",
       ">super4-47333            645641                        False   \n",
       ">super4-47418            303903                        False   \n",
       ">super4-47461            162865                        False   \n",
       ">super4-47513            352855                        False   \n",
       "\n",
       "               BF(dB)_gte15_for-gte3chains  \n",
       "                                            \n",
       ">super4-15421                        False  \n",
       ">super4-47333                        False  \n",
       ">super4-47418                        False  \n",
       ">super4-47461                        False  \n",
       ">super4-47513                        False  "
      ]
     },
     "execution_count": 34,
     "metadata": {},
     "output_type": "execute_result"
    }
   ],
   "source": [
    "# get the returns from the engines\n",
    "new_envdfs = {}\n",
    "for i,env in enumerate(envdfs):\n",
    "    new_envdfs[env] = jobs[i].r\n",
    "new_envdfs[env].head()"
   ]
  },
  {
   "cell_type": "code",
   "execution_count": 40,
   "metadata": {},
   "outputs": [
    {
     "name": "stdout",
     "output_type": "stream",
     "text": [
      "18\n",
      "MCMT\n"
     ]
    },
    {
     "data": {
      "text/html": [
       "<div>\n",
       "<style scoped>\n",
       "    .dataframe tbody tr th:only-of-type {\n",
       "        vertical-align: middle;\n",
       "    }\n",
       "\n",
       "    .dataframe tbody tr th {\n",
       "        vertical-align: top;\n",
       "    }\n",
       "\n",
       "    .dataframe thead th {\n",
       "        text-align: right;\n",
       "    }\n",
       "</style>\n",
       "<table border=\"1\" class=\"dataframe\">\n",
       "  <thead>\n",
       "    <tr style=\"text-align: right;\">\n",
       "      <th></th>\n",
       "      <th>chain_1-COVARIABLE</th>\n",
       "      <th>chain_1-MRK</th>\n",
       "      <th>chain_1-M_Pearson</th>\n",
       "      <th>chain_1-SD_Pearson</th>\n",
       "      <th>chain_1-BF(dB)</th>\n",
       "      <th>chain_1-Beta_is</th>\n",
       "      <th>chain_1-SD_Beta_is</th>\n",
       "      <th>chain_1-eBPis</th>\n",
       "      <th>chain_1-env</th>\n",
       "      <th>chain_2-COVARIABLE</th>\n",
       "      <th>chain_2-MRK</th>\n",
       "      <th>chain_2-M_Pearson</th>\n",
       "      <th>chain_2-SD_Pearson</th>\n",
       "      <th>chain_2-BF(dB)</th>\n",
       "      <th>chain_2-Beta_is</th>\n",
       "      <th>chain_2-SD_Beta_is</th>\n",
       "      <th>chain_2-eBPis</th>\n",
       "      <th>chain_2-env</th>\n",
       "      <th>chain_3-COVARIABLE</th>\n",
       "      <th>chain_3-MRK</th>\n",
       "      <th>chain_3-M_Pearson</th>\n",
       "      <th>chain_3-SD_Pearson</th>\n",
       "      <th>chain_3-BF(dB)</th>\n",
       "      <th>chain_3-Beta_is</th>\n",
       "      <th>chain_3-SD_Beta_is</th>\n",
       "      <th>chain_3-eBPis</th>\n",
       "      <th>chain_3-env</th>\n",
       "      <th>chain_4-COVARIABLE</th>\n",
       "      <th>chain_4-MRK</th>\n",
       "      <th>chain_4-M_Pearson</th>\n",
       "      <th>chain_4-SD_Pearson</th>\n",
       "      <th>chain_4-BF(dB)</th>\n",
       "      <th>chain_4-Beta_is</th>\n",
       "      <th>chain_4-SD_Beta_is</th>\n",
       "      <th>chain_4-eBPis</th>\n",
       "      <th>chain_4-env</th>\n",
       "      <th>chain_5-COVARIABLE</th>\n",
       "      <th>chain_5-MRK</th>\n",
       "      <th>chain_5-M_Pearson</th>\n",
       "      <th>chain_5-SD_Pearson</th>\n",
       "      <th>chain_5-BF(dB)</th>\n",
       "      <th>chain_5-Beta_is</th>\n",
       "      <th>chain_5-SD_Beta_is</th>\n",
       "      <th>chain_5-eBPis</th>\n",
       "      <th>chain_5-env</th>\n",
       "      <th>rank_chain_1-BF</th>\n",
       "      <th>rank_chain_2-BF</th>\n",
       "      <th>rank_chain_3-BF</th>\n",
       "      <th>rank_chain_4-BF</th>\n",
       "      <th>rank_chain_5-BF</th>\n",
       "      <th>mean_BF(dB)</th>\n",
       "      <th>rank_mean_BF(dB)</th>\n",
       "      <th>BF(dB)_gte20_for-gte3chains</th>\n",
       "      <th>BF(dB)_gte15_for-gte3chains</th>\n",
       "    </tr>\n",
       "    <tr>\n",
       "      <th></th>\n",
       "      <th></th>\n",
       "      <th></th>\n",
       "      <th></th>\n",
       "      <th></th>\n",
       "      <th></th>\n",
       "      <th></th>\n",
       "      <th></th>\n",
       "      <th></th>\n",
       "      <th></th>\n",
       "      <th></th>\n",
       "      <th></th>\n",
       "      <th></th>\n",
       "      <th></th>\n",
       "      <th></th>\n",
       "      <th></th>\n",
       "      <th></th>\n",
       "      <th></th>\n",
       "      <th></th>\n",
       "      <th></th>\n",
       "      <th></th>\n",
       "      <th></th>\n",
       "      <th></th>\n",
       "      <th></th>\n",
       "      <th></th>\n",
       "      <th></th>\n",
       "      <th></th>\n",
       "      <th></th>\n",
       "      <th></th>\n",
       "      <th></th>\n",
       "      <th></th>\n",
       "      <th></th>\n",
       "      <th></th>\n",
       "      <th></th>\n",
       "      <th></th>\n",
       "      <th></th>\n",
       "      <th></th>\n",
       "      <th></th>\n",
       "      <th></th>\n",
       "      <th></th>\n",
       "      <th></th>\n",
       "      <th></th>\n",
       "      <th></th>\n",
       "      <th></th>\n",
       "      <th></th>\n",
       "      <th></th>\n",
       "      <th></th>\n",
       "      <th></th>\n",
       "      <th></th>\n",
       "      <th></th>\n",
       "      <th></th>\n",
       "      <th></th>\n",
       "      <th></th>\n",
       "      <th></th>\n",
       "      <th></th>\n",
       "    </tr>\n",
       "  </thead>\n",
       "  <tbody>\n",
       "    <tr>\n",
       "      <th>&gt;super4-15421</th>\n",
       "      <td>11</td>\n",
       "      <td>1</td>\n",
       "      <td>-0.025729</td>\n",
       "      <td>0.144556</td>\n",
       "      <td>-9.754825</td>\n",
       "      <td>-0.003042</td>\n",
       "      <td>0.009956</td>\n",
       "      <td>0.119233</td>\n",
       "      <td>MCMT</td>\n",
       "      <td>11</td>\n",
       "      <td>1</td>\n",
       "      <td>-0.035898</td>\n",
       "      <td>0.145169</td>\n",
       "      <td>-9.410429</td>\n",
       "      <td>-0.003916</td>\n",
       "      <td>0.010435</td>\n",
       "      <td>0.150303</td>\n",
       "      <td>MCMT</td>\n",
       "      <td>11</td>\n",
       "      <td>1</td>\n",
       "      <td>-0.026291</td>\n",
       "      <td>0.145643</td>\n",
       "      <td>-9.248764</td>\n",
       "      <td>-0.003225</td>\n",
       "      <td>0.010542</td>\n",
       "      <td>0.119361</td>\n",
       "      <td>MCMT</td>\n",
       "      <td>11</td>\n",
       "      <td>1</td>\n",
       "      <td>-0.033599</td>\n",
       "      <td>0.147603</td>\n",
       "      <td>-9.266665</td>\n",
       "      <td>-0.003771</td>\n",
       "      <td>0.010485</td>\n",
       "      <td>0.143196</td>\n",
       "      <td>MCMT</td>\n",
       "      <td>11</td>\n",
       "      <td>1</td>\n",
       "      <td>-0.027187</td>\n",
       "      <td>0.143263</td>\n",
       "      <td>-9.226468</td>\n",
       "      <td>-0.003423</td>\n",
       "      <td>0.010562</td>\n",
       "      <td>0.127334</td>\n",
       "      <td>MCMT</td>\n",
       "      <td>445776</td>\n",
       "      <td>396311</td>\n",
       "      <td>375351</td>\n",
       "      <td>377175</td>\n",
       "      <td>372486</td>\n",
       "      <td>-9.381430</td>\n",
       "      <td>392688</td>\n",
       "      <td>False</td>\n",
       "      <td>False</td>\n",
       "    </tr>\n",
       "    <tr>\n",
       "      <th>&gt;super4-47333</th>\n",
       "      <td>11</td>\n",
       "      <td>2</td>\n",
       "      <td>0.029974</td>\n",
       "      <td>0.138354</td>\n",
       "      <td>-10.246416</td>\n",
       "      <td>0.002228</td>\n",
       "      <td>0.007624</td>\n",
       "      <td>0.113470</td>\n",
       "      <td>MCMT</td>\n",
       "      <td>11</td>\n",
       "      <td>2</td>\n",
       "      <td>0.036888</td>\n",
       "      <td>0.136751</td>\n",
       "      <td>-11.261825</td>\n",
       "      <td>0.002768</td>\n",
       "      <td>0.007826</td>\n",
       "      <td>0.140528</td>\n",
       "      <td>MCMT</td>\n",
       "      <td>11</td>\n",
       "      <td>2</td>\n",
       "      <td>0.037494</td>\n",
       "      <td>0.139667</td>\n",
       "      <td>-11.058011</td>\n",
       "      <td>0.002723</td>\n",
       "      <td>0.007882</td>\n",
       "      <td>0.136850</td>\n",
       "      <td>MCMT</td>\n",
       "      <td>11</td>\n",
       "      <td>2</td>\n",
       "      <td>0.046759</td>\n",
       "      <td>0.143013</td>\n",
       "      <td>-10.685924</td>\n",
       "      <td>0.003215</td>\n",
       "      <td>0.008097</td>\n",
       "      <td>0.160309</td>\n",
       "      <td>MCMT</td>\n",
       "      <td>11</td>\n",
       "      <td>2</td>\n",
       "      <td>0.040987</td>\n",
       "      <td>0.140133</td>\n",
       "      <td>-10.811931</td>\n",
       "      <td>0.003096</td>\n",
       "      <td>0.007896</td>\n",
       "      <td>0.158043</td>\n",
       "      <td>MCMT</td>\n",
       "      <td>533613</td>\n",
       "      <td>713976</td>\n",
       "      <td>680205</td>\n",
       "      <td>616210</td>\n",
       "      <td>638137</td>\n",
       "      <td>-10.812822</td>\n",
       "      <td>645641</td>\n",
       "      <td>False</td>\n",
       "      <td>False</td>\n",
       "    </tr>\n",
       "    <tr>\n",
       "      <th>&gt;super4-47418</th>\n",
       "      <td>11</td>\n",
       "      <td>3</td>\n",
       "      <td>-0.109512</td>\n",
       "      <td>0.125799</td>\n",
       "      <td>-8.771552</td>\n",
       "      <td>-0.007515</td>\n",
       "      <td>0.009099</td>\n",
       "      <td>0.388436</td>\n",
       "      <td>MCMT</td>\n",
       "      <td>11</td>\n",
       "      <td>3</td>\n",
       "      <td>-0.112168</td>\n",
       "      <td>0.128415</td>\n",
       "      <td>-7.914224</td>\n",
       "      <td>-0.007927</td>\n",
       "      <td>0.009520</td>\n",
       "      <td>0.392509</td>\n",
       "      <td>MCMT</td>\n",
       "      <td>11</td>\n",
       "      <td>3</td>\n",
       "      <td>-0.108819</td>\n",
       "      <td>0.125919</td>\n",
       "      <td>-8.931330</td>\n",
       "      <td>-0.007622</td>\n",
       "      <td>0.009216</td>\n",
       "      <td>0.389112</td>\n",
       "      <td>MCMT</td>\n",
       "      <td>11</td>\n",
       "      <td>3</td>\n",
       "      <td>-0.114038</td>\n",
       "      <td>0.124878</td>\n",
       "      <td>-8.815074</td>\n",
       "      <td>-0.008017</td>\n",
       "      <td>0.009175</td>\n",
       "      <td>0.417689</td>\n",
       "      <td>MCMT</td>\n",
       "      <td>11</td>\n",
       "      <td>3</td>\n",
       "      <td>-0.112229</td>\n",
       "      <td>0.122674</td>\n",
       "      <td>-8.372039</td>\n",
       "      <td>-0.007825</td>\n",
       "      <td>0.009048</td>\n",
       "      <td>0.412096</td>\n",
       "      <td>MCMT</td>\n",
       "      <td>324771</td>\n",
       "      <td>258790</td>\n",
       "      <td>340415</td>\n",
       "      <td>328834</td>\n",
       "      <td>290867</td>\n",
       "      <td>-8.560844</td>\n",
       "      <td>303903</td>\n",
       "      <td>False</td>\n",
       "      <td>False</td>\n",
       "    </tr>\n",
       "    <tr>\n",
       "      <th>&gt;super4-47461</th>\n",
       "      <td>11</td>\n",
       "      <td>4</td>\n",
       "      <td>-0.150286</td>\n",
       "      <td>0.133548</td>\n",
       "      <td>-6.517485</td>\n",
       "      <td>-0.008806</td>\n",
       "      <td>0.007467</td>\n",
       "      <td>0.622846</td>\n",
       "      <td>MCMT</td>\n",
       "      <td>11</td>\n",
       "      <td>4</td>\n",
       "      <td>-0.152461</td>\n",
       "      <td>0.134123</td>\n",
       "      <td>-3.939702</td>\n",
       "      <td>-0.008563</td>\n",
       "      <td>0.006876</td>\n",
       "      <td>0.671619</td>\n",
       "      <td>MCMT</td>\n",
       "      <td>11</td>\n",
       "      <td>4</td>\n",
       "      <td>-0.150226</td>\n",
       "      <td>0.133223</td>\n",
       "      <td>-6.617081</td>\n",
       "      <td>-0.008722</td>\n",
       "      <td>0.007337</td>\n",
       "      <td>0.629792</td>\n",
       "      <td>MCMT</td>\n",
       "      <td>11</td>\n",
       "      <td>4</td>\n",
       "      <td>-0.151588</td>\n",
       "      <td>0.131741</td>\n",
       "      <td>-6.369249</td>\n",
       "      <td>-0.008764</td>\n",
       "      <td>0.007052</td>\n",
       "      <td>0.669707</td>\n",
       "      <td>MCMT</td>\n",
       "      <td>11</td>\n",
       "      <td>4</td>\n",
       "      <td>-0.142432</td>\n",
       "      <td>0.130794</td>\n",
       "      <td>-6.297588</td>\n",
       "      <td>-0.008363</td>\n",
       "      <td>0.007179</td>\n",
       "      <td>0.612518</td>\n",
       "      <td>MCMT</td>\n",
       "      <td>187535</td>\n",
       "      <td>113867</td>\n",
       "      <td>191834</td>\n",
       "      <td>181994</td>\n",
       "      <td>179113</td>\n",
       "      <td>-5.948221</td>\n",
       "      <td>162865</td>\n",
       "      <td>False</td>\n",
       "      <td>False</td>\n",
       "    </tr>\n",
       "    <tr>\n",
       "      <th>&gt;super4-47513</th>\n",
       "      <td>11</td>\n",
       "      <td>5</td>\n",
       "      <td>-0.076260</td>\n",
       "      <td>0.128904</td>\n",
       "      <td>-8.699308</td>\n",
       "      <td>-0.006081</td>\n",
       "      <td>0.010377</td>\n",
       "      <td>0.253458</td>\n",
       "      <td>MCMT</td>\n",
       "      <td>11</td>\n",
       "      <td>5</td>\n",
       "      <td>-0.078822</td>\n",
       "      <td>0.130434</td>\n",
       "      <td>-9.349220</td>\n",
       "      <td>-0.006168</td>\n",
       "      <td>0.010369</td>\n",
       "      <td>0.258105</td>\n",
       "      <td>MCMT</td>\n",
       "      <td>11</td>\n",
       "      <td>5</td>\n",
       "      <td>-0.077370</td>\n",
       "      <td>0.130829</td>\n",
       "      <td>-8.988745</td>\n",
       "      <td>-0.005943</td>\n",
       "      <td>0.010284</td>\n",
       "      <td>0.249250</td>\n",
       "      <td>MCMT</td>\n",
       "      <td>11</td>\n",
       "      <td>5</td>\n",
       "      <td>-0.079200</td>\n",
       "      <td>0.128224</td>\n",
       "      <td>-9.165058</td>\n",
       "      <td>-0.006157</td>\n",
       "      <td>0.010145</td>\n",
       "      <td>0.264493</td>\n",
       "      <td>MCMT</td>\n",
       "      <td>11</td>\n",
       "      <td>5</td>\n",
       "      <td>-0.077598</td>\n",
       "      <td>0.128749</td>\n",
       "      <td>-9.103266</td>\n",
       "      <td>-0.006052</td>\n",
       "      <td>0.010270</td>\n",
       "      <td>0.255181</td>\n",
       "      <td>MCMT</td>\n",
       "      <td>318082</td>\n",
       "      <td>388355</td>\n",
       "      <td>346386</td>\n",
       "      <td>365171</td>\n",
       "      <td>358256</td>\n",
       "      <td>-9.061120</td>\n",
       "      <td>352855</td>\n",
       "      <td>False</td>\n",
       "      <td>False</td>\n",
       "    </tr>\n",
       "  </tbody>\n",
       "</table>\n",
       "</div>"
      ],
      "text/plain": [
       "               chain_1-COVARIABLE  chain_1-MRK  chain_1-M_Pearson  \\\n",
       "                                                                    \n",
       ">super4-15421                  11            1          -0.025729   \n",
       ">super4-47333                  11            2           0.029974   \n",
       ">super4-47418                  11            3          -0.109512   \n",
       ">super4-47461                  11            4          -0.150286   \n",
       ">super4-47513                  11            5          -0.076260   \n",
       "\n",
       "               chain_1-SD_Pearson  chain_1-BF(dB)  chain_1-Beta_is  \\\n",
       "                                                                     \n",
       ">super4-15421            0.144556       -9.754825        -0.003042   \n",
       ">super4-47333            0.138354      -10.246416         0.002228   \n",
       ">super4-47418            0.125799       -8.771552        -0.007515   \n",
       ">super4-47461            0.133548       -6.517485        -0.008806   \n",
       ">super4-47513            0.128904       -8.699308        -0.006081   \n",
       "\n",
       "               chain_1-SD_Beta_is  chain_1-eBPis chain_1-env  \\\n",
       "                                                               \n",
       ">super4-15421            0.009956       0.119233        MCMT   \n",
       ">super4-47333            0.007624       0.113470        MCMT   \n",
       ">super4-47418            0.009099       0.388436        MCMT   \n",
       ">super4-47461            0.007467       0.622846        MCMT   \n",
       ">super4-47513            0.010377       0.253458        MCMT   \n",
       "\n",
       "               chain_2-COVARIABLE  chain_2-MRK  chain_2-M_Pearson  \\\n",
       "                                                                    \n",
       ">super4-15421                  11            1          -0.035898   \n",
       ">super4-47333                  11            2           0.036888   \n",
       ">super4-47418                  11            3          -0.112168   \n",
       ">super4-47461                  11            4          -0.152461   \n",
       ">super4-47513                  11            5          -0.078822   \n",
       "\n",
       "               chain_2-SD_Pearson  chain_2-BF(dB)  chain_2-Beta_is  \\\n",
       "                                                                     \n",
       ">super4-15421            0.145169       -9.410429        -0.003916   \n",
       ">super4-47333            0.136751      -11.261825         0.002768   \n",
       ">super4-47418            0.128415       -7.914224        -0.007927   \n",
       ">super4-47461            0.134123       -3.939702        -0.008563   \n",
       ">super4-47513            0.130434       -9.349220        -0.006168   \n",
       "\n",
       "               chain_2-SD_Beta_is  chain_2-eBPis chain_2-env  \\\n",
       "                                                               \n",
       ">super4-15421            0.010435       0.150303        MCMT   \n",
       ">super4-47333            0.007826       0.140528        MCMT   \n",
       ">super4-47418            0.009520       0.392509        MCMT   \n",
       ">super4-47461            0.006876       0.671619        MCMT   \n",
       ">super4-47513            0.010369       0.258105        MCMT   \n",
       "\n",
       "               chain_3-COVARIABLE  chain_3-MRK  chain_3-M_Pearson  \\\n",
       "                                                                    \n",
       ">super4-15421                  11            1          -0.026291   \n",
       ">super4-47333                  11            2           0.037494   \n",
       ">super4-47418                  11            3          -0.108819   \n",
       ">super4-47461                  11            4          -0.150226   \n",
       ">super4-47513                  11            5          -0.077370   \n",
       "\n",
       "               chain_3-SD_Pearson  chain_3-BF(dB)  chain_3-Beta_is  \\\n",
       "                                                                     \n",
       ">super4-15421            0.145643       -9.248764        -0.003225   \n",
       ">super4-47333            0.139667      -11.058011         0.002723   \n",
       ">super4-47418            0.125919       -8.931330        -0.007622   \n",
       ">super4-47461            0.133223       -6.617081        -0.008722   \n",
       ">super4-47513            0.130829       -8.988745        -0.005943   \n",
       "\n",
       "               chain_3-SD_Beta_is  chain_3-eBPis chain_3-env  \\\n",
       "                                                               \n",
       ">super4-15421            0.010542       0.119361        MCMT   \n",
       ">super4-47333            0.007882       0.136850        MCMT   \n",
       ">super4-47418            0.009216       0.389112        MCMT   \n",
       ">super4-47461            0.007337       0.629792        MCMT   \n",
       ">super4-47513            0.010284       0.249250        MCMT   \n",
       "\n",
       "               chain_4-COVARIABLE  chain_4-MRK  chain_4-M_Pearson  \\\n",
       "                                                                    \n",
       ">super4-15421                  11            1          -0.033599   \n",
       ">super4-47333                  11            2           0.046759   \n",
       ">super4-47418                  11            3          -0.114038   \n",
       ">super4-47461                  11            4          -0.151588   \n",
       ">super4-47513                  11            5          -0.079200   \n",
       "\n",
       "               chain_4-SD_Pearson  chain_4-BF(dB)  chain_4-Beta_is  \\\n",
       "                                                                     \n",
       ">super4-15421            0.147603       -9.266665        -0.003771   \n",
       ">super4-47333            0.143013      -10.685924         0.003215   \n",
       ">super4-47418            0.124878       -8.815074        -0.008017   \n",
       ">super4-47461            0.131741       -6.369249        -0.008764   \n",
       ">super4-47513            0.128224       -9.165058        -0.006157   \n",
       "\n",
       "               chain_4-SD_Beta_is  chain_4-eBPis chain_4-env  \\\n",
       "                                                               \n",
       ">super4-15421            0.010485       0.143196        MCMT   \n",
       ">super4-47333            0.008097       0.160309        MCMT   \n",
       ">super4-47418            0.009175       0.417689        MCMT   \n",
       ">super4-47461            0.007052       0.669707        MCMT   \n",
       ">super4-47513            0.010145       0.264493        MCMT   \n",
       "\n",
       "               chain_5-COVARIABLE  chain_5-MRK  chain_5-M_Pearson  \\\n",
       "                                                                    \n",
       ">super4-15421                  11            1          -0.027187   \n",
       ">super4-47333                  11            2           0.040987   \n",
       ">super4-47418                  11            3          -0.112229   \n",
       ">super4-47461                  11            4          -0.142432   \n",
       ">super4-47513                  11            5          -0.077598   \n",
       "\n",
       "               chain_5-SD_Pearson  chain_5-BF(dB)  chain_5-Beta_is  \\\n",
       "                                                                     \n",
       ">super4-15421            0.143263       -9.226468        -0.003423   \n",
       ">super4-47333            0.140133      -10.811931         0.003096   \n",
       ">super4-47418            0.122674       -8.372039        -0.007825   \n",
       ">super4-47461            0.130794       -6.297588        -0.008363   \n",
       ">super4-47513            0.128749       -9.103266        -0.006052   \n",
       "\n",
       "               chain_5-SD_Beta_is  chain_5-eBPis chain_5-env  rank_chain_1-BF  \\\n",
       "                                                                                \n",
       ">super4-15421            0.010562       0.127334        MCMT           445776   \n",
       ">super4-47333            0.007896       0.158043        MCMT           533613   \n",
       ">super4-47418            0.009048       0.412096        MCMT           324771   \n",
       ">super4-47461            0.007179       0.612518        MCMT           187535   \n",
       ">super4-47513            0.010270       0.255181        MCMT           318082   \n",
       "\n",
       "               rank_chain_2-BF  rank_chain_3-BF  rank_chain_4-BF  \\\n",
       "                                                                   \n",
       ">super4-15421           396311           375351           377175   \n",
       ">super4-47333           713976           680205           616210   \n",
       ">super4-47418           258790           340415           328834   \n",
       ">super4-47461           113867           191834           181994   \n",
       ">super4-47513           388355           346386           365171   \n",
       "\n",
       "               rank_chain_5-BF  mean_BF(dB)  rank_mean_BF(dB)  \\\n",
       "                                                                \n",
       ">super4-15421           372486    -9.381430            392688   \n",
       ">super4-47333           638137   -10.812822            645641   \n",
       ">super4-47418           290867    -8.560844            303903   \n",
       ">super4-47461           179113    -5.948221            162865   \n",
       ">super4-47513           358256    -9.061120            352855   \n",
       "\n",
       "               BF(dB)_gte20_for-gte3chains  BF(dB)_gte15_for-gte3chains  \n",
       "                                                                         \n",
       ">super4-15421                        False                        False  \n",
       ">super4-47333                        False                        False  \n",
       ">super4-47418                        False                        False  \n",
       ">super4-47461                        False                        False  \n",
       ">super4-47513                        False                        False  "
      ]
     },
     "execution_count": 40,
     "metadata": {},
     "output_type": "execute_result"
    }
   ],
   "source": [
    "# add in the new columns\n",
    "count = 0\n",
    "for env,df in envdfs.items():\n",
    "    update([count, env])\n",
    "    # keep original columns with chain info only\n",
    "    startcols = [col for col in df.columns if col.startswith('chain')]\n",
    "    # grab the re-ranked columns\n",
    "    newcols = [col for col in new_envdfs[env].columns if col not in startcols]\n",
    "    envdfs[env] = pd.merge(df[startcols], new_envdfs[env][newcols], right_index=True, left_index=True)\n",
    "    count += 1\n",
    "envdfs[env].head()"
   ]
  },
  {
   "cell_type": "code",
   "execution_count": 41,
   "metadata": {},
   "outputs": [
    {
     "data": {
      "text/html": [
       "<div>\n",
       "<style scoped>\n",
       "    .dataframe tbody tr th:only-of-type {\n",
       "        vertical-align: middle;\n",
       "    }\n",
       "\n",
       "    .dataframe tbody tr th {\n",
       "        vertical-align: top;\n",
       "    }\n",
       "\n",
       "    .dataframe thead th {\n",
       "        text-align: right;\n",
       "    }\n",
       "</style>\n",
       "<table border=\"1\" class=\"dataframe\">\n",
       "  <thead>\n",
       "    <tr style=\"text-align: right;\">\n",
       "      <th></th>\n",
       "      <th>chain_1-COVARIABLE</th>\n",
       "      <th>chain_1-MRK</th>\n",
       "      <th>chain_1-M_Pearson</th>\n",
       "      <th>chain_1-SD_Pearson</th>\n",
       "      <th>chain_1-BF(dB)</th>\n",
       "      <th>chain_1-Beta_is</th>\n",
       "      <th>chain_1-SD_Beta_is</th>\n",
       "      <th>chain_1-eBPis</th>\n",
       "      <th>chain_1-env</th>\n",
       "      <th>chain_2-COVARIABLE</th>\n",
       "      <th>chain_2-MRK</th>\n",
       "      <th>chain_2-M_Pearson</th>\n",
       "      <th>chain_2-SD_Pearson</th>\n",
       "      <th>chain_2-BF(dB)</th>\n",
       "      <th>chain_2-Beta_is</th>\n",
       "      <th>chain_2-SD_Beta_is</th>\n",
       "      <th>chain_2-eBPis</th>\n",
       "      <th>chain_2-env</th>\n",
       "      <th>chain_3-COVARIABLE</th>\n",
       "      <th>chain_3-MRK</th>\n",
       "      <th>chain_3-M_Pearson</th>\n",
       "      <th>chain_3-SD_Pearson</th>\n",
       "      <th>chain_3-BF(dB)</th>\n",
       "      <th>chain_3-Beta_is</th>\n",
       "      <th>chain_3-SD_Beta_is</th>\n",
       "      <th>chain_3-eBPis</th>\n",
       "      <th>chain_3-env</th>\n",
       "      <th>chain_4-COVARIABLE</th>\n",
       "      <th>chain_4-MRK</th>\n",
       "      <th>chain_4-M_Pearson</th>\n",
       "      <th>chain_4-SD_Pearson</th>\n",
       "      <th>chain_4-BF(dB)</th>\n",
       "      <th>chain_4-Beta_is</th>\n",
       "      <th>chain_4-SD_Beta_is</th>\n",
       "      <th>chain_4-eBPis</th>\n",
       "      <th>chain_4-env</th>\n",
       "      <th>chain_5-COVARIABLE</th>\n",
       "      <th>chain_5-MRK</th>\n",
       "      <th>chain_5-M_Pearson</th>\n",
       "      <th>chain_5-SD_Pearson</th>\n",
       "      <th>chain_5-BF(dB)</th>\n",
       "      <th>chain_5-Beta_is</th>\n",
       "      <th>chain_5-SD_Beta_is</th>\n",
       "      <th>chain_5-eBPis</th>\n",
       "      <th>chain_5-env</th>\n",
       "      <th>rank_chain_1-BF</th>\n",
       "      <th>rank_chain_2-BF</th>\n",
       "      <th>rank_chain_3-BF</th>\n",
       "      <th>rank_chain_4-BF</th>\n",
       "      <th>rank_chain_5-BF</th>\n",
       "      <th>mean_BF(dB)</th>\n",
       "      <th>rank_mean_BF(dB)</th>\n",
       "      <th>BF(dB)_gte20_for-gte3chains</th>\n",
       "      <th>BF(dB)_gte15_for-gte3chains</th>\n",
       "      <th>rank_consistency_top1perc_for-gte3chains</th>\n",
       "    </tr>\n",
       "    <tr>\n",
       "      <th></th>\n",
       "      <th></th>\n",
       "      <th></th>\n",
       "      <th></th>\n",
       "      <th></th>\n",
       "      <th></th>\n",
       "      <th></th>\n",
       "      <th></th>\n",
       "      <th></th>\n",
       "      <th></th>\n",
       "      <th></th>\n",
       "      <th></th>\n",
       "      <th></th>\n",
       "      <th></th>\n",
       "      <th></th>\n",
       "      <th></th>\n",
       "      <th></th>\n",
       "      <th></th>\n",
       "      <th></th>\n",
       "      <th></th>\n",
       "      <th></th>\n",
       "      <th></th>\n",
       "      <th></th>\n",
       "      <th></th>\n",
       "      <th></th>\n",
       "      <th></th>\n",
       "      <th></th>\n",
       "      <th></th>\n",
       "      <th></th>\n",
       "      <th></th>\n",
       "      <th></th>\n",
       "      <th></th>\n",
       "      <th></th>\n",
       "      <th></th>\n",
       "      <th></th>\n",
       "      <th></th>\n",
       "      <th></th>\n",
       "      <th></th>\n",
       "      <th></th>\n",
       "      <th></th>\n",
       "      <th></th>\n",
       "      <th></th>\n",
       "      <th></th>\n",
       "      <th></th>\n",
       "      <th></th>\n",
       "      <th></th>\n",
       "      <th></th>\n",
       "      <th></th>\n",
       "      <th></th>\n",
       "      <th></th>\n",
       "      <th></th>\n",
       "      <th></th>\n",
       "      <th></th>\n",
       "      <th></th>\n",
       "      <th></th>\n",
       "      <th></th>\n",
       "    </tr>\n",
       "  </thead>\n",
       "  <tbody>\n",
       "    <tr>\n",
       "      <th>&gt;super4-15421</th>\n",
       "      <td>11</td>\n",
       "      <td>1</td>\n",
       "      <td>-0.025729</td>\n",
       "      <td>0.144556</td>\n",
       "      <td>-9.754825</td>\n",
       "      <td>-0.003042</td>\n",
       "      <td>0.009956</td>\n",
       "      <td>0.119233</td>\n",
       "      <td>MCMT</td>\n",
       "      <td>11</td>\n",
       "      <td>1</td>\n",
       "      <td>-0.035898</td>\n",
       "      <td>0.145169</td>\n",
       "      <td>-9.410429</td>\n",
       "      <td>-0.003916</td>\n",
       "      <td>0.010435</td>\n",
       "      <td>0.150303</td>\n",
       "      <td>MCMT</td>\n",
       "      <td>11</td>\n",
       "      <td>1</td>\n",
       "      <td>-0.026291</td>\n",
       "      <td>0.145643</td>\n",
       "      <td>-9.248764</td>\n",
       "      <td>-0.003225</td>\n",
       "      <td>0.010542</td>\n",
       "      <td>0.119361</td>\n",
       "      <td>MCMT</td>\n",
       "      <td>11</td>\n",
       "      <td>1</td>\n",
       "      <td>-0.033599</td>\n",
       "      <td>0.147603</td>\n",
       "      <td>-9.266665</td>\n",
       "      <td>-0.003771</td>\n",
       "      <td>0.010485</td>\n",
       "      <td>0.143196</td>\n",
       "      <td>MCMT</td>\n",
       "      <td>11</td>\n",
       "      <td>1</td>\n",
       "      <td>-0.027187</td>\n",
       "      <td>0.143263</td>\n",
       "      <td>-9.226468</td>\n",
       "      <td>-0.003423</td>\n",
       "      <td>0.010562</td>\n",
       "      <td>0.127334</td>\n",
       "      <td>MCMT</td>\n",
       "      <td>445776</td>\n",
       "      <td>396311</td>\n",
       "      <td>375351</td>\n",
       "      <td>377175</td>\n",
       "      <td>372486</td>\n",
       "      <td>-9.381430</td>\n",
       "      <td>392688</td>\n",
       "      <td>False</td>\n",
       "      <td>False</td>\n",
       "      <td>False</td>\n",
       "    </tr>\n",
       "    <tr>\n",
       "      <th>&gt;super4-47333</th>\n",
       "      <td>11</td>\n",
       "      <td>2</td>\n",
       "      <td>0.029974</td>\n",
       "      <td>0.138354</td>\n",
       "      <td>-10.246416</td>\n",
       "      <td>0.002228</td>\n",
       "      <td>0.007624</td>\n",
       "      <td>0.113470</td>\n",
       "      <td>MCMT</td>\n",
       "      <td>11</td>\n",
       "      <td>2</td>\n",
       "      <td>0.036888</td>\n",
       "      <td>0.136751</td>\n",
       "      <td>-11.261825</td>\n",
       "      <td>0.002768</td>\n",
       "      <td>0.007826</td>\n",
       "      <td>0.140528</td>\n",
       "      <td>MCMT</td>\n",
       "      <td>11</td>\n",
       "      <td>2</td>\n",
       "      <td>0.037494</td>\n",
       "      <td>0.139667</td>\n",
       "      <td>-11.058011</td>\n",
       "      <td>0.002723</td>\n",
       "      <td>0.007882</td>\n",
       "      <td>0.136850</td>\n",
       "      <td>MCMT</td>\n",
       "      <td>11</td>\n",
       "      <td>2</td>\n",
       "      <td>0.046759</td>\n",
       "      <td>0.143013</td>\n",
       "      <td>-10.685924</td>\n",
       "      <td>0.003215</td>\n",
       "      <td>0.008097</td>\n",
       "      <td>0.160309</td>\n",
       "      <td>MCMT</td>\n",
       "      <td>11</td>\n",
       "      <td>2</td>\n",
       "      <td>0.040987</td>\n",
       "      <td>0.140133</td>\n",
       "      <td>-10.811931</td>\n",
       "      <td>0.003096</td>\n",
       "      <td>0.007896</td>\n",
       "      <td>0.158043</td>\n",
       "      <td>MCMT</td>\n",
       "      <td>533613</td>\n",
       "      <td>713976</td>\n",
       "      <td>680205</td>\n",
       "      <td>616210</td>\n",
       "      <td>638137</td>\n",
       "      <td>-10.812822</td>\n",
       "      <td>645641</td>\n",
       "      <td>False</td>\n",
       "      <td>False</td>\n",
       "      <td>False</td>\n",
       "    </tr>\n",
       "    <tr>\n",
       "      <th>&gt;super4-47418</th>\n",
       "      <td>11</td>\n",
       "      <td>3</td>\n",
       "      <td>-0.109512</td>\n",
       "      <td>0.125799</td>\n",
       "      <td>-8.771552</td>\n",
       "      <td>-0.007515</td>\n",
       "      <td>0.009099</td>\n",
       "      <td>0.388436</td>\n",
       "      <td>MCMT</td>\n",
       "      <td>11</td>\n",
       "      <td>3</td>\n",
       "      <td>-0.112168</td>\n",
       "      <td>0.128415</td>\n",
       "      <td>-7.914224</td>\n",
       "      <td>-0.007927</td>\n",
       "      <td>0.009520</td>\n",
       "      <td>0.392509</td>\n",
       "      <td>MCMT</td>\n",
       "      <td>11</td>\n",
       "      <td>3</td>\n",
       "      <td>-0.108819</td>\n",
       "      <td>0.125919</td>\n",
       "      <td>-8.931330</td>\n",
       "      <td>-0.007622</td>\n",
       "      <td>0.009216</td>\n",
       "      <td>0.389112</td>\n",
       "      <td>MCMT</td>\n",
       "      <td>11</td>\n",
       "      <td>3</td>\n",
       "      <td>-0.114038</td>\n",
       "      <td>0.124878</td>\n",
       "      <td>-8.815074</td>\n",
       "      <td>-0.008017</td>\n",
       "      <td>0.009175</td>\n",
       "      <td>0.417689</td>\n",
       "      <td>MCMT</td>\n",
       "      <td>11</td>\n",
       "      <td>3</td>\n",
       "      <td>-0.112229</td>\n",
       "      <td>0.122674</td>\n",
       "      <td>-8.372039</td>\n",
       "      <td>-0.007825</td>\n",
       "      <td>0.009048</td>\n",
       "      <td>0.412096</td>\n",
       "      <td>MCMT</td>\n",
       "      <td>324771</td>\n",
       "      <td>258790</td>\n",
       "      <td>340415</td>\n",
       "      <td>328834</td>\n",
       "      <td>290867</td>\n",
       "      <td>-8.560844</td>\n",
       "      <td>303903</td>\n",
       "      <td>False</td>\n",
       "      <td>False</td>\n",
       "      <td>False</td>\n",
       "    </tr>\n",
       "    <tr>\n",
       "      <th>&gt;super4-47461</th>\n",
       "      <td>11</td>\n",
       "      <td>4</td>\n",
       "      <td>-0.150286</td>\n",
       "      <td>0.133548</td>\n",
       "      <td>-6.517485</td>\n",
       "      <td>-0.008806</td>\n",
       "      <td>0.007467</td>\n",
       "      <td>0.622846</td>\n",
       "      <td>MCMT</td>\n",
       "      <td>11</td>\n",
       "      <td>4</td>\n",
       "      <td>-0.152461</td>\n",
       "      <td>0.134123</td>\n",
       "      <td>-3.939702</td>\n",
       "      <td>-0.008563</td>\n",
       "      <td>0.006876</td>\n",
       "      <td>0.671619</td>\n",
       "      <td>MCMT</td>\n",
       "      <td>11</td>\n",
       "      <td>4</td>\n",
       "      <td>-0.150226</td>\n",
       "      <td>0.133223</td>\n",
       "      <td>-6.617081</td>\n",
       "      <td>-0.008722</td>\n",
       "      <td>0.007337</td>\n",
       "      <td>0.629792</td>\n",
       "      <td>MCMT</td>\n",
       "      <td>11</td>\n",
       "      <td>4</td>\n",
       "      <td>-0.151588</td>\n",
       "      <td>0.131741</td>\n",
       "      <td>-6.369249</td>\n",
       "      <td>-0.008764</td>\n",
       "      <td>0.007052</td>\n",
       "      <td>0.669707</td>\n",
       "      <td>MCMT</td>\n",
       "      <td>11</td>\n",
       "      <td>4</td>\n",
       "      <td>-0.142432</td>\n",
       "      <td>0.130794</td>\n",
       "      <td>-6.297588</td>\n",
       "      <td>-0.008363</td>\n",
       "      <td>0.007179</td>\n",
       "      <td>0.612518</td>\n",
       "      <td>MCMT</td>\n",
       "      <td>187535</td>\n",
       "      <td>113867</td>\n",
       "      <td>191834</td>\n",
       "      <td>181994</td>\n",
       "      <td>179113</td>\n",
       "      <td>-5.948221</td>\n",
       "      <td>162865</td>\n",
       "      <td>False</td>\n",
       "      <td>False</td>\n",
       "      <td>False</td>\n",
       "    </tr>\n",
       "    <tr>\n",
       "      <th>&gt;super4-47513</th>\n",
       "      <td>11</td>\n",
       "      <td>5</td>\n",
       "      <td>-0.076260</td>\n",
       "      <td>0.128904</td>\n",
       "      <td>-8.699308</td>\n",
       "      <td>-0.006081</td>\n",
       "      <td>0.010377</td>\n",
       "      <td>0.253458</td>\n",
       "      <td>MCMT</td>\n",
       "      <td>11</td>\n",
       "      <td>5</td>\n",
       "      <td>-0.078822</td>\n",
       "      <td>0.130434</td>\n",
       "      <td>-9.349220</td>\n",
       "      <td>-0.006168</td>\n",
       "      <td>0.010369</td>\n",
       "      <td>0.258105</td>\n",
       "      <td>MCMT</td>\n",
       "      <td>11</td>\n",
       "      <td>5</td>\n",
       "      <td>-0.077370</td>\n",
       "      <td>0.130829</td>\n",
       "      <td>-8.988745</td>\n",
       "      <td>-0.005943</td>\n",
       "      <td>0.010284</td>\n",
       "      <td>0.249250</td>\n",
       "      <td>MCMT</td>\n",
       "      <td>11</td>\n",
       "      <td>5</td>\n",
       "      <td>-0.079200</td>\n",
       "      <td>0.128224</td>\n",
       "      <td>-9.165058</td>\n",
       "      <td>-0.006157</td>\n",
       "      <td>0.010145</td>\n",
       "      <td>0.264493</td>\n",
       "      <td>MCMT</td>\n",
       "      <td>11</td>\n",
       "      <td>5</td>\n",
       "      <td>-0.077598</td>\n",
       "      <td>0.128749</td>\n",
       "      <td>-9.103266</td>\n",
       "      <td>-0.006052</td>\n",
       "      <td>0.010270</td>\n",
       "      <td>0.255181</td>\n",
       "      <td>MCMT</td>\n",
       "      <td>318082</td>\n",
       "      <td>388355</td>\n",
       "      <td>346386</td>\n",
       "      <td>365171</td>\n",
       "      <td>358256</td>\n",
       "      <td>-9.061120</td>\n",
       "      <td>352855</td>\n",
       "      <td>False</td>\n",
       "      <td>False</td>\n",
       "      <td>False</td>\n",
       "    </tr>\n",
       "  </tbody>\n",
       "</table>\n",
       "</div>"
      ],
      "text/plain": [
       "               chain_1-COVARIABLE  chain_1-MRK  chain_1-M_Pearson  \\\n",
       "                                                                    \n",
       ">super4-15421                  11            1          -0.025729   \n",
       ">super4-47333                  11            2           0.029974   \n",
       ">super4-47418                  11            3          -0.109512   \n",
       ">super4-47461                  11            4          -0.150286   \n",
       ">super4-47513                  11            5          -0.076260   \n",
       "\n",
       "               chain_1-SD_Pearson  chain_1-BF(dB)  chain_1-Beta_is  \\\n",
       "                                                                     \n",
       ">super4-15421            0.144556       -9.754825        -0.003042   \n",
       ">super4-47333            0.138354      -10.246416         0.002228   \n",
       ">super4-47418            0.125799       -8.771552        -0.007515   \n",
       ">super4-47461            0.133548       -6.517485        -0.008806   \n",
       ">super4-47513            0.128904       -8.699308        -0.006081   \n",
       "\n",
       "               chain_1-SD_Beta_is  chain_1-eBPis chain_1-env  \\\n",
       "                                                               \n",
       ">super4-15421            0.009956       0.119233        MCMT   \n",
       ">super4-47333            0.007624       0.113470        MCMT   \n",
       ">super4-47418            0.009099       0.388436        MCMT   \n",
       ">super4-47461            0.007467       0.622846        MCMT   \n",
       ">super4-47513            0.010377       0.253458        MCMT   \n",
       "\n",
       "               chain_2-COVARIABLE  chain_2-MRK  chain_2-M_Pearson  \\\n",
       "                                                                    \n",
       ">super4-15421                  11            1          -0.035898   \n",
       ">super4-47333                  11            2           0.036888   \n",
       ">super4-47418                  11            3          -0.112168   \n",
       ">super4-47461                  11            4          -0.152461   \n",
       ">super4-47513                  11            5          -0.078822   \n",
       "\n",
       "               chain_2-SD_Pearson  chain_2-BF(dB)  chain_2-Beta_is  \\\n",
       "                                                                     \n",
       ">super4-15421            0.145169       -9.410429        -0.003916   \n",
       ">super4-47333            0.136751      -11.261825         0.002768   \n",
       ">super4-47418            0.128415       -7.914224        -0.007927   \n",
       ">super4-47461            0.134123       -3.939702        -0.008563   \n",
       ">super4-47513            0.130434       -9.349220        -0.006168   \n",
       "\n",
       "               chain_2-SD_Beta_is  chain_2-eBPis chain_2-env  \\\n",
       "                                                               \n",
       ">super4-15421            0.010435       0.150303        MCMT   \n",
       ">super4-47333            0.007826       0.140528        MCMT   \n",
       ">super4-47418            0.009520       0.392509        MCMT   \n",
       ">super4-47461            0.006876       0.671619        MCMT   \n",
       ">super4-47513            0.010369       0.258105        MCMT   \n",
       "\n",
       "               chain_3-COVARIABLE  chain_3-MRK  chain_3-M_Pearson  \\\n",
       "                                                                    \n",
       ">super4-15421                  11            1          -0.026291   \n",
       ">super4-47333                  11            2           0.037494   \n",
       ">super4-47418                  11            3          -0.108819   \n",
       ">super4-47461                  11            4          -0.150226   \n",
       ">super4-47513                  11            5          -0.077370   \n",
       "\n",
       "               chain_3-SD_Pearson  chain_3-BF(dB)  chain_3-Beta_is  \\\n",
       "                                                                     \n",
       ">super4-15421            0.145643       -9.248764        -0.003225   \n",
       ">super4-47333            0.139667      -11.058011         0.002723   \n",
       ">super4-47418            0.125919       -8.931330        -0.007622   \n",
       ">super4-47461            0.133223       -6.617081        -0.008722   \n",
       ">super4-47513            0.130829       -8.988745        -0.005943   \n",
       "\n",
       "               chain_3-SD_Beta_is  chain_3-eBPis chain_3-env  \\\n",
       "                                                               \n",
       ">super4-15421            0.010542       0.119361        MCMT   \n",
       ">super4-47333            0.007882       0.136850        MCMT   \n",
       ">super4-47418            0.009216       0.389112        MCMT   \n",
       ">super4-47461            0.007337       0.629792        MCMT   \n",
       ">super4-47513            0.010284       0.249250        MCMT   \n",
       "\n",
       "               chain_4-COVARIABLE  chain_4-MRK  chain_4-M_Pearson  \\\n",
       "                                                                    \n",
       ">super4-15421                  11            1          -0.033599   \n",
       ">super4-47333                  11            2           0.046759   \n",
       ">super4-47418                  11            3          -0.114038   \n",
       ">super4-47461                  11            4          -0.151588   \n",
       ">super4-47513                  11            5          -0.079200   \n",
       "\n",
       "               chain_4-SD_Pearson  chain_4-BF(dB)  chain_4-Beta_is  \\\n",
       "                                                                     \n",
       ">super4-15421            0.147603       -9.266665        -0.003771   \n",
       ">super4-47333            0.143013      -10.685924         0.003215   \n",
       ">super4-47418            0.124878       -8.815074        -0.008017   \n",
       ">super4-47461            0.131741       -6.369249        -0.008764   \n",
       ">super4-47513            0.128224       -9.165058        -0.006157   \n",
       "\n",
       "               chain_4-SD_Beta_is  chain_4-eBPis chain_4-env  \\\n",
       "                                                               \n",
       ">super4-15421            0.010485       0.143196        MCMT   \n",
       ">super4-47333            0.008097       0.160309        MCMT   \n",
       ">super4-47418            0.009175       0.417689        MCMT   \n",
       ">super4-47461            0.007052       0.669707        MCMT   \n",
       ">super4-47513            0.010145       0.264493        MCMT   \n",
       "\n",
       "               chain_5-COVARIABLE  chain_5-MRK  chain_5-M_Pearson  \\\n",
       "                                                                    \n",
       ">super4-15421                  11            1          -0.027187   \n",
       ">super4-47333                  11            2           0.040987   \n",
       ">super4-47418                  11            3          -0.112229   \n",
       ">super4-47461                  11            4          -0.142432   \n",
       ">super4-47513                  11            5          -0.077598   \n",
       "\n",
       "               chain_5-SD_Pearson  chain_5-BF(dB)  chain_5-Beta_is  \\\n",
       "                                                                     \n",
       ">super4-15421            0.143263       -9.226468        -0.003423   \n",
       ">super4-47333            0.140133      -10.811931         0.003096   \n",
       ">super4-47418            0.122674       -8.372039        -0.007825   \n",
       ">super4-47461            0.130794       -6.297588        -0.008363   \n",
       ">super4-47513            0.128749       -9.103266        -0.006052   \n",
       "\n",
       "               chain_5-SD_Beta_is  chain_5-eBPis chain_5-env  rank_chain_1-BF  \\\n",
       "                                                                                \n",
       ">super4-15421            0.010562       0.127334        MCMT           445776   \n",
       ">super4-47333            0.007896       0.158043        MCMT           533613   \n",
       ">super4-47418            0.009048       0.412096        MCMT           324771   \n",
       ">super4-47461            0.007179       0.612518        MCMT           187535   \n",
       ">super4-47513            0.010270       0.255181        MCMT           318082   \n",
       "\n",
       "               rank_chain_2-BF  rank_chain_3-BF  rank_chain_4-BF  \\\n",
       "                                                                   \n",
       ">super4-15421           396311           375351           377175   \n",
       ">super4-47333           713976           680205           616210   \n",
       ">super4-47418           258790           340415           328834   \n",
       ">super4-47461           113867           191834           181994   \n",
       ">super4-47513           388355           346386           365171   \n",
       "\n",
       "               rank_chain_5-BF  mean_BF(dB)  rank_mean_BF(dB)  \\\n",
       "                                                                \n",
       ">super4-15421           372486    -9.381430            392688   \n",
       ">super4-47333           638137   -10.812822            645641   \n",
       ">super4-47418           290867    -8.560844            303903   \n",
       ">super4-47461           179113    -5.948221            162865   \n",
       ">super4-47513           358256    -9.061120            352855   \n",
       "\n",
       "               BF(dB)_gte20_for-gte3chains  BF(dB)_gte15_for-gte3chains  \\\n",
       "                                                                          \n",
       ">super4-15421                        False                        False   \n",
       ">super4-47333                        False                        False   \n",
       ">super4-47418                        False                        False   \n",
       ">super4-47461                        False                        False   \n",
       ">super4-47513                        False                        False   \n",
       "\n",
       "               rank_consistency_top1perc_for-gte3chains  \n",
       "                                                         \n",
       ">super4-15421                                     False  \n",
       ">super4-47333                                     False  \n",
       ">super4-47418                                     False  \n",
       ">super4-47461                                     False  \n",
       ">super4-47513                                     False  "
      ]
     },
     "execution_count": 41,
     "metadata": {},
     "output_type": "execute_result"
    }
   ],
   "source": [
    "# add column for rank consistency (True if SNP is ranked in top 1% for >= 3 chains)\n",
    "# also add a column for mean_BF >= 20\n",
    "for env,df in envdfs.items():\n",
    "    oneperc = math.ceil(0.01*nrow(df))\n",
    "    rankcols = [col for col in df if 'rank_chain' in col]\n",
    "    envdfs[env]['rank_consistency_top1perc_for-gte3chains'] = (df[rankcols] < oneperc).sum(axis=1) >= 3\n",
    "envdfs[env].head()"
   ]
  },
  {
   "cell_type": "code",
   "execution_count": 42,
   "metadata": {},
   "outputs": [
    {
     "name": "stderr",
     "output_type": "stream",
     "text": [
      "Eref: 100%|██████████| 55/55 [00:01<00:00, 33.01it/s] \n",
      "DD_0: 100%|██████████| 55/55 [00:01<00:00, 33.76it/s] \n",
      "CMD: 100%|██████████| 55/55 [00:01<00:00, 33.52it/s] \n",
      "SHM: 100%|██████████| 55/55 [00:01<00:00, 33.20it/s] \n",
      "PAS: 100%|██████████| 55/55 [00:01<00:00, 32.96it/s] \n",
      "bFFP: 100%|██████████| 55/55 [00:01<00:00, 32.81it/s] \n",
      "MAP: 100%|██████████| 55/55 [00:01<00:00, 33.06it/s] \n",
      "EMT: 100%|██████████| 55/55 [00:01<00:00, 33.32it/s] \n",
      "EXT: 100%|██████████| 55/55 [00:01<00:00, 33.45it/s] \n",
      "AHM: 100%|██████████| 55/55 [00:01<00:00, 32.68it/s] \n",
      "NFFD: 100%|██████████| 55/55 [00:01<00:00, 32.89it/s] \n",
      "TD: 100%|██████████| 55/55 [00:01<00:00, 32.94it/s] \n",
      "DD5: 100%|██████████| 55/55 [00:01<00:00, 33.05it/s] \n",
      "FFP: 100%|██████████| 55/55 [00:01<00:00, 32.76it/s] \n",
      "eFFP: 100%|██████████| 55/55 [00:01<00:00, 29.56it/s] \n",
      "MSP: 100%|██████████| 55/55 [00:01<00:00, 29.96it/s] \n",
      "MAT: 100%|██████████| 55/55 [00:01<00:00, 30.22it/s] \n",
      "MWMT: 100%|██████████| 55/55 [00:01<00:00, 29.74it/s] \n",
      "MCMT: 100%|██████████| 55/55 [00:01<00:00, 31.02it/s] \n"
     ]
    }
   ],
   "source": [
    "# make sure that there are no ranks repeated\n",
    "for env,df in envdfs.items():\n",
    "    for col in nb(df.columns, desc=env):\n",
    "        if col.startswith('rank') and 'consistency' not in col:\n",
    "            assert nrow(df) == luni(df[col])"
   ]
  },
  {
   "cell_type": "code",
   "execution_count": 43,
   "metadata": {},
   "outputs": [],
   "source": [
    "def write_file(df, file, sep='\\t', index=False, locuscol='locus'):\n",
    "    import pandas\n",
    "    df[locuscol] = df.index.tolist()\n",
    "    df = df[[locuscol] + [col for col in df.columns if col != locuscol]]\n",
    "    df.to_csv(file, sep=sep, index=index)\n",
    "    return file"
   ]
  },
  {
   "cell_type": "code",
   "execution_count": 44,
   "metadata": {},
   "outputs": [
    {
     "data": {
      "text/plain": [
       "'/data/projects/pool_seq/pangenome/JP_pangenome/JP_pooled/snpsANDindels/without_p24/03_maf-p05_RD-recalculated/baypass/final_results'"
      ]
     },
     "execution_count": 44,
     "metadata": {},
     "output_type": "execute_result"
    }
   ],
   "source": [
    "finaldir = makedir(op.join(baydir, 'final_results'))\n",
    "finaldir"
   ]
  },
  {
   "cell_type": "code",
   "execution_count": 45,
   "metadata": {},
   "outputs": [
    {
     "name": "stdout",
     "output_type": "stream",
     "text": [
      "\u001b[1m\n",
      "Watching 19 final jobs ...\u001b[0m\n"
     ]
    },
    {
     "name": "stderr",
     "output_type": "stream",
     "text": [
      "final: 100%|██████████| 19/19 [01:01<00:00,  3.25s/it]\n"
     ]
    }
   ],
   "source": [
    "# save files\n",
    "jobs = []\n",
    "for env,df in envdfs.items():\n",
    "    file = op.join(finaldir, f'maf-p05_RD-recalculated_ADP-lt-1000_{env}.txt')\n",
    "    jobs.append(lview.apply_async(write_file, *(df, file), **dict(locuscol='unstitched_locus')))\n",
    "watch_async(jobs, phase='final')"
   ]
  },
  {
   "cell_type": "code",
   "execution_count": 46,
   "metadata": {},
   "outputs": [],
   "source": [
    "# save pkl for easy loading\n",
    "pkldump(envdfs, op.join(finaldir, 'envdfs_after_ranking.pkl'))"
   ]
  },
  {
   "cell_type": "code",
   "execution_count": 47,
   "metadata": {},
   "outputs": [
    {
     "name": "stdout",
     "output_type": "stream",
     "text": [
      "\u001b[92m\u001b[1mJack pine\n",
      "\u001b[0m\u001b[0m\n",
      "Env   BFConsistent20  BFConsistent15  BFMean20\t  BFMean15   BFMean13  \tRankConsistent\n",
      "AHM \t 492 \t\t 1079 \t\t 540 \t    1215 \t 1724 \t 9074\n",
      "CMD \t 483 \t\t 952 \t\t 534 \t    1058 \t 1476 \t 8943\n",
      "DD5 \t 6291 \t\t 9289 \t\t 6611 \t    9651 \t 11290 \t 10831\n",
      "DD_0 \t 7610 \t\t 10388 \t\t 7869 \t    10821 \t 12577 \t 10790\n",
      "EMT \t 6002 \t\t 8418 \t\t 6216 \t    8747 \t 10279 \t 10606\n",
      "EXT \t 206 \t\t 535 \t\t 230 \t    609 \t 893 \t 8584\n",
      "Eref \t 6680 \t\t 9367 \t\t 6949 \t    9760 \t 11198 \t 10822\n",
      "FFP \t 3637 \t\t 5858 \t\t 3856 \t    6236 \t 7565 \t 10472\n",
      "MAP \t 3444 \t\t 6402 \t\t 3690 \t    6830 \t 8835 \t 10348\n",
      "MAT \t 8428 \t\t 11549 \t\t 8717 \t    11955 \t 13745 \t 10949\n",
      "MCMT \t 8027 \t\t 11010 \t\t 8284 \t    11418 \t 13336 \t 10818\n",
      "MSP \t 799 \t\t 1838 \t\t 912 \t    2011 \t 2825 \t 9241\n",
      "MWMT \t 3037 \t\t 5012 \t\t 3223 \t    5348 \t 6593 \t 10295\n",
      "NFFD \t 926 \t\t 1944 \t\t 999 \t    2138 \t 2894 \t 9651\n",
      "PAS \t 1232 \t\t 2569 \t\t 1326 \t    2788 \t 3808 \t 9985\n",
      "SHM \t 238 \t\t 590 \t\t 263 \t    654 \t 977 \t 8562\n",
      "TD \t 4845 \t\t 6934 \t\t 5048 \t    7253 \t 8597 \t 10328\n",
      "bFFP \t 1327 \t\t 2641 \t\t 1455 \t    2875 \t 3709 \t 9931\n",
      "eFFP \t 4109 \t\t 6418 \t\t 4332 \t    6800 \t 8196 \t 10327\n"
     ]
    }
   ],
   "source": [
    "# print table with outliers based on several criteria\n",
    "print(ColorText('Jack pine\\n').bold().green())\n",
    "print('Env   BFConsistent20  BFConsistent15  BFMean20\\t  BFMean15   BFMean13  \\tRankConsistent')\n",
    "for env in sorted(envdfs.keys()):\n",
    "    df = envdfs[env]\n",
    "    print(env,\n",
    "          '\\t',sum(df['BF(dB)_gte20_for-gte3chains']),\n",
    "          '\\t\\t',sum(df['BF(dB)_gte15_for-gte3chains']),\n",
    "          '\\t\\t',sum(df['mean_BF(dB)']>=20),\n",
    "          '\\t   ',sum(df['mean_BF(dB)']>=15),\n",
    "          '\\t',sum(df['mean_BF(dB)']>=13),\n",
    "          '\\t', sum(df['rank_consistency_top1perc_for-gte3chains']))"
   ]
  },
  {
   "cell_type": "code",
   "execution_count": 48,
   "metadata": {},
   "outputs": [
    {
     "data": {
      "text/plain": [
       "11625.14"
      ]
     },
     "execution_count": 48,
     "metadata": {},
     "output_type": "execute_result"
    }
   ],
   "source": [
    "# what should I expect for the number in top 1%?\n",
    "0.01*nrow(df)"
   ]
  },
  {
   "cell_type": "markdown",
   "metadata": {},
   "source": [
    "<a id='consistent'></a>\n",
    "# look at BF scores for consistent top 1% ranks\n",
    "\n",
    "[top](#home)"
   ]
  },
  {
   "cell_type": "code",
   "execution_count": 53,
   "metadata": {},
   "outputs": [],
   "source": [
    "def histo_box(data, title=None, col=None, fontsize=20, y_pad=1.3, **kwargs):\n",
    "    \"\"\"Create histogram with boxplot in top margin.\n",
    "    \n",
    "    https://www.python-graph-gallery.com/24-histogram-with-a-boxplot-on-top-seaborn\"\"\"\n",
    "    col = 'data' if col is None else col\n",
    "    if isinstance(data, pd.DataFrame) is False:\n",
    "        data = pd.DataFrame(data, columns=[col])\n",
    "\n",
    "    # creating a figure composed of two matplotlib.Axes objects (ax_box and ax_hist)\n",
    "    f, (ax_box, ax_hist) = plt.subplots(2, sharex=True, gridspec_kw={\"height_ratios\": (.15, .85)}, **kwargs)\n",
    "\n",
    "    # assigning a graph to each ax\n",
    "    sns.boxplot(x=data[col], ax=ax_box)\n",
    "    sns.histplot(data=data, x=col, ax=ax_hist)\n",
    "\n",
    "    # Remove x axis name for the boxplot\n",
    "    ax_box.set(xlabel='')\n",
    "    plt.title(title, y=y_pad, fontdict=dict(fontsize=fontsize))\n",
    "    plt.xticks(np.arange(0, max(df[col]), 10))\n",
    "    plt.show()\n",
    "    pass"
   ]
  },
  {
   "cell_type": "code",
   "execution_count": 54,
   "metadata": {
    "scrolled": true
   },
   "outputs": [
    {
     "name": "stdout",
     "output_type": "stream",
     "text": [
      "\n",
      " \u001b[38;2;0;191;255m\u001b[1mStats for loci consistently ranked in top 1%\u001b[0m\u001b[0m\n"
     ]
    },
    {
     "data": {
      "text/markdown": [
       "# Eref"
      ],
      "text/plain": [
       "<IPython.core.display.Markdown object>"
      ]
     },
     "metadata": {},
     "output_type": "display_data"
    },
    {
     "name": "stdout",
     "output_type": "stream",
     "text": [
      "10822 loci consistently ranked in top 1%\n",
      "\tnumber of loci with meanBF >= 0 :  10822 (True)\n",
      "\tnumber of loci with meanBF >= 10 :  10822\n",
      "\tnumber of loci with meanBF >= 15 :  9696\n",
      "\tnumber of loci with meanBF >= 20 :  6949\n",
      "\tfraction of BF >= 15 :  0.9\n",
      "\tfraction of BF >= 10 :  1.0\n",
      "\u001b[1m\u001b[93m\tnot all SNPs with BF >= 15 are consistently in top 1% : full (9760) vs 1% (9696) (diff = 64)\u001b[0m\u001b[0m\n"
     ]
    },
    {
     "data": {
      "image/png": "[encoded data removed]",
      "text/plain": [
       "<Figure size 1080x360 with 2 Axes>"
      ]
     },
     "metadata": {
      "needs_background": "light"
     },
     "output_type": "display_data"
    },
    {
     "name": "stdout",
     "output_type": "stream",
     "text": [
      "\n",
      "\n"
     ]
    },
    {
     "data": {
      "text/markdown": [
       "# DD_0"
      ],
      "text/plain": [
       "<IPython.core.display.Markdown object>"
      ]
     },
     "metadata": {},
     "output_type": "display_data"
    },
    {
     "name": "stdout",
     "output_type": "stream",
     "text": [
      "10790 loci consistently ranked in top 1%\n",
      "\tnumber of loci with meanBF >= 0 :  10790 (True)\n",
      "\tnumber of loci with meanBF >= 10 :  10790\n",
      "\tnumber of loci with meanBF >= 15 :  10490\n",
      "\tnumber of loci with meanBF >= 20 :  7869\n",
      "\tfraction of BF >= 15 :  0.97\n",
      "\tfraction of BF >= 10 :  1.0\n",
      "\u001b[1m\u001b[93m\tnot all SNPs with BF >= 15 are consistently in top 1% : full (10821) vs 1% (10490) (diff = 331)\u001b[0m\u001b[0m\n"
     ]
    },
    {
     "data": {
      "image/png": "[encoded data removed]",
      "text/plain": [
       "<Figure size 1080x360 with 2 Axes>"
      ]
     },
     "metadata": {
      "needs_background": "light"
     },
     "output_type": "display_data"
    },
    {
     "name": "stdout",
     "output_type": "stream",
     "text": [
      "\n",
      "\n"
     ]
    },
    {
     "data": {
      "text/markdown": [
       "# CMD"
      ],
      "text/plain": [
       "<IPython.core.display.Markdown object>"
      ]
     },
     "metadata": {},
     "output_type": "display_data"
    },
    {
     "name": "stdout",
     "output_type": "stream",
     "text": [
      "8943 loci consistently ranked in top 1%\n",
      "\tnumber of loci with meanBF >= 0 :  8943 (True)\n",
      "\tnumber of loci with meanBF >= 10 :  2621\n",
      "\tnumber of loci with meanBF >= 15 :  1058\n",
      "\tnumber of loci with meanBF >= 20 :  534\n",
      "\tfraction of BF >= 15 :  0.12\n",
      "\tfraction of BF >= 10 :  0.29\n"
     ]
    },
    {
     "data": {
      "image/png": "[encoded data removed]",
      "text/plain": [
       "<Figure size 1080x360 with 2 Axes>"
      ]
     },
     "metadata": {
      "needs_background": "light"
     },
     "output_type": "display_data"
    },
    {
     "name": "stdout",
     "output_type": "stream",
     "text": [
      "\n",
      "\n"
     ]
    },
    {
     "data": {
      "text/markdown": [
       "# SHM"
      ],
      "text/plain": [
       "<IPython.core.display.Markdown object>"
      ]
     },
     "metadata": {},
     "output_type": "display_data"
    },
    {
     "name": "stdout",
     "output_type": "stream",
     "text": [
      "8562 loci consistently ranked in top 1%\n",
      "\tnumber of loci with meanBF >= 0 :  8561 (False)\n",
      "\tnumber of loci with meanBF >= 10 :  1858\n",
      "\tnumber of loci with meanBF >= 15 :  654\n",
      "\tnumber of loci with meanBF >= 20 :  263\n",
      "\tfraction of BF >= 15 :  0.08\n",
      "\tfraction of BF >= 10 :  0.22\n"
     ]
    },
    {
     "data": {
      "image/png": "[encoded data removed]",
      "text/plain": [
       "<Figure size 1080x360 with 2 Axes>"
      ]
     },
     "metadata": {
      "needs_background": "light"
     },
     "output_type": "display_data"
    },
    {
     "name": "stdout",
     "output_type": "stream",
     "text": [
      "\n",
      "\n"
     ]
    },
    {
     "data": {
      "text/markdown": [
       "# PAS"
      ],
      "text/plain": [
       "<IPython.core.display.Markdown object>"
      ]
     },
     "metadata": {},
     "output_type": "display_data"
    },
    {
     "name": "stdout",
     "output_type": "stream",
     "text": [
      "9985 loci consistently ranked in top 1%\n",
      "\tnumber of loci with meanBF >= 0 :  9985 (True)\n",
      "\tnumber of loci with meanBF >= 10 :  6339\n",
      "\tnumber of loci with meanBF >= 15 :  2788\n",
      "\tnumber of loci with meanBF >= 20 :  1326\n",
      "\tfraction of BF >= 15 :  0.28\n",
      "\tfraction of BF >= 10 :  0.63\n"
     ]
    },
    {
     "data": {
      "image/png": "[encoded data removed]",
      "text/plain": [
       "<Figure size 1080x360 with 2 Axes>"
      ]
     },
     "metadata": {
      "needs_background": "light"
     },
     "output_type": "display_data"
    },
    {
     "name": "stdout",
     "output_type": "stream",
     "text": [
      "\n",
      "\n"
     ]
    },
    {
     "data": {
      "text/markdown": [
       "# bFFP"
      ],
      "text/plain": [
       "<IPython.core.display.Markdown object>"
      ]
     },
     "metadata": {},
     "output_type": "display_data"
    },
    {
     "name": "stdout",
     "output_type": "stream",
     "text": [
      "9931 loci consistently ranked in top 1%\n",
      "\tnumber of loci with meanBF >= 0 :  9931 (True)\n",
      "\tnumber of loci with meanBF >= 10 :  5401\n",
      "\tnumber of loci with meanBF >= 15 :  2875\n",
      "\tnumber of loci with meanBF >= 20 :  1455\n",
      "\tfraction of BF >= 15 :  0.29\n",
      "\tfraction of BF >= 10 :  0.54\n"
     ]
    },
    {
     "data": {
      "image/png": "[encoded data removed]",
      "text/plain": [
       "<Figure size 1080x360 with 2 Axes>"
      ]
     },
     "metadata": {
      "needs_background": "light"
     },
     "output_type": "display_data"
    },
    {
     "name": "stdout",
     "output_type": "stream",
     "text": [
      "\n",
      "\n"
     ]
    },
    {
     "data": {
      "text/markdown": [
       "# MAP"
      ],
      "text/plain": [
       "<IPython.core.display.Markdown object>"
      ]
     },
     "metadata": {},
     "output_type": "display_data"
    },
    {
     "name": "stdout",
     "output_type": "stream",
     "text": [
      "10348 loci consistently ranked in top 1%\n",
      "\tnumber of loci with meanBF >= 0 :  10348 (True)\n",
      "\tnumber of loci with meanBF >= 10 :  10346\n",
      "\tnumber of loci with meanBF >= 15 :  6816\n",
      "\tnumber of loci with meanBF >= 20 :  3690\n",
      "\tfraction of BF >= 15 :  0.66\n",
      "\tfraction of BF >= 10 :  1.0\n",
      "\u001b[1m\u001b[93m\tnot all SNPs with BF >= 15 are consistently in top 1% : full (6830) vs 1% (6816) (diff = 14)\u001b[0m\u001b[0m\n"
     ]
    },
    {
     "data": {
      "image/png": "[encoded data removed]",
      "text/plain": [
       "<Figure size 1080x360 with 2 Axes>"
      ]
     },
     "metadata": {
      "needs_background": "light"
     },
     "output_type": "display_data"
    },
    {
     "name": "stdout",
     "output_type": "stream",
     "text": [
      "\n",
      "\n"
     ]
    },
    {
     "data": {
      "text/markdown": [
       "# EMT"
      ],
      "text/plain": [
       "<IPython.core.display.Markdown object>"
      ]
     },
     "metadata": {},
     "output_type": "display_data"
    },
    {
     "name": "stdout",
     "output_type": "stream",
     "text": [
      "10606 loci consistently ranked in top 1%\n",
      "\tnumber of loci with meanBF >= 0 :  10606 (True)\n",
      "\tnumber of loci with meanBF >= 10 :  10605\n",
      "\tnumber of loci with meanBF >= 15 :  8725\n",
      "\tnumber of loci with meanBF >= 20 :  6216\n",
      "\tfraction of BF >= 15 :  0.82\n",
      "\tfraction of BF >= 10 :  1.0\n",
      "\u001b[1m\u001b[93m\tnot all SNPs with BF >= 15 are consistently in top 1% : full (8747) vs 1% (8725) (diff = 22)\u001b[0m\u001b[0m\n"
     ]
    },
    {
     "data": {
      "image/png": "[encoded data removed]",
      "text/plain": [
       "<Figure size 1080x360 with 2 Axes>"
      ]
     },
     "metadata": {
      "needs_background": "light"
     },
     "output_type": "display_data"
    },
    {
     "name": "stdout",
     "output_type": "stream",
     "text": [
      "\n",
      "\n"
     ]
    },
    {
     "data": {
      "text/markdown": [
       "# EXT"
      ],
      "text/plain": [
       "<IPython.core.display.Markdown object>"
      ]
     },
     "metadata": {},
     "output_type": "display_data"
    },
    {
     "name": "stdout",
     "output_type": "stream",
     "text": [
      "8584 loci consistently ranked in top 1%\n",
      "\tnumber of loci with meanBF >= 0 :  8584 (True)\n",
      "\tnumber of loci with meanBF >= 10 :  1633\n",
      "\tnumber of loci with meanBF >= 15 :  609\n",
      "\tnumber of loci with meanBF >= 20 :  230\n",
      "\tfraction of BF >= 15 :  0.07\n",
      "\tfraction of BF >= 10 :  0.19\n"
     ]
    },
    {
     "data": {
      "image/png": "[encoded data removed]",
      "text/plain": [
       "<Figure size 1080x360 with 2 Axes>"
      ]
     },
     "metadata": {
      "needs_background": "light"
     },
     "output_type": "display_data"
    },
    {
     "name": "stdout",
     "output_type": "stream",
     "text": [
      "\n",
      "\n"
     ]
    },
    {
     "data": {
      "text/markdown": [
       "# AHM"
      ],
      "text/plain": [
       "<IPython.core.display.Markdown object>"
      ]
     },
     "metadata": {},
     "output_type": "display_data"
    },
    {
     "name": "stdout",
     "output_type": "stream",
     "text": [
      "9074 loci consistently ranked in top 1%\n",
      "\tnumber of loci with meanBF >= 0 :  9074 (True)\n",
      "\tnumber of loci with meanBF >= 10 :  3168\n",
      "\tnumber of loci with meanBF >= 15 :  1215\n",
      "\tnumber of loci with meanBF >= 20 :  540\n",
      "\tfraction of BF >= 15 :  0.13\n",
      "\tfraction of BF >= 10 :  0.35\n"
     ]
    },
    {
     "data": {
      "image/png": "[encoded data removed]",
      "text/plain": [
       "<Figure size 1080x360 with 2 Axes>"
      ]
     },
     "metadata": {
      "needs_background": "light"
     },
     "output_type": "display_data"
    },
    {
     "name": "stdout",
     "output_type": "stream",
     "text": [
      "\n",
      "\n"
     ]
    },
    {
     "data": {
      "text/markdown": [
       "# NFFD"
      ],
      "text/plain": [
       "<IPython.core.display.Markdown object>"
      ]
     },
     "metadata": {},
     "output_type": "display_data"
    },
    {
     "name": "stdout",
     "output_type": "stream",
     "text": [
      "9651 loci consistently ranked in top 1%\n",
      "\tnumber of loci with meanBF >= 0 :  9650 (False)\n",
      "\tnumber of loci with meanBF >= 10 :  4375\n",
      "\tnumber of loci with meanBF >= 15 :  2138\n",
      "\tnumber of loci with meanBF >= 20 :  999\n",
      "\tfraction of BF >= 15 :  0.22\n",
      "\tfraction of BF >= 10 :  0.45\n"
     ]
    },
    {
     "data": {
      "image/png": "[encoded data removed]",
      "text/plain": [
       "<Figure size 1080x360 with 2 Axes>"
      ]
     },
     "metadata": {
      "needs_background": "light"
     },
     "output_type": "display_data"
    },
    {
     "name": "stdout",
     "output_type": "stream",
     "text": [
      "\n",
      "\n"
     ]
    },
    {
     "data": {
      "text/markdown": [
       "# TD"
      ],
      "text/plain": [
       "<IPython.core.display.Markdown object>"
      ]
     },
     "metadata": {},
     "output_type": "display_data"
    },
    {
     "name": "stdout",
     "output_type": "stream",
     "text": [
      "10328 loci consistently ranked in top 1%\n",
      "\tnumber of loci with meanBF >= 0 :  10328 (True)\n",
      "\tnumber of loci with meanBF >= 10 :  10293\n",
      "\tnumber of loci with meanBF >= 15 :  7248\n",
      "\tnumber of loci with meanBF >= 20 :  5048\n",
      "\tfraction of BF >= 15 :  0.7\n",
      "\tfraction of BF >= 10 :  1.0\n",
      "\u001b[1m\u001b[93m\tnot all SNPs with BF >= 15 are consistently in top 1% : full (7253) vs 1% (7248) (diff = 5)\u001b[0m\u001b[0m\n"
     ]
    },
    {
     "data": {
      "image/png": "[encoded data removed]",
      "text/plain": [
       "<Figure size 1080x360 with 2 Axes>"
      ]
     },
     "metadata": {
      "needs_background": "light"
     },
     "output_type": "display_data"
    },
    {
     "name": "stdout",
     "output_type": "stream",
     "text": [
      "\n",
      "\n"
     ]
    },
    {
     "data": {
      "text/markdown": [
       "# DD5"
      ],
      "text/plain": [
       "<IPython.core.display.Markdown object>"
      ]
     },
     "metadata": {},
     "output_type": "display_data"
    },
    {
     "name": "stdout",
     "output_type": "stream",
     "text": [
      "10831 loci consistently ranked in top 1%\n",
      "\tnumber of loci with meanBF >= 0 :  10831 (True)\n",
      "\tnumber of loci with meanBF >= 10 :  10831\n",
      "\tnumber of loci with meanBF >= 15 :  9587\n",
      "\tnumber of loci with meanBF >= 20 :  6611\n",
      "\tfraction of BF >= 15 :  0.89\n",
      "\tfraction of BF >= 10 :  1.0\n",
      "\u001b[1m\u001b[93m\tnot all SNPs with BF >= 15 are consistently in top 1% : full (9651) vs 1% (9587) (diff = 64)\u001b[0m\u001b[0m\n"
     ]
    },
    {
     "data": {
      "image/png": "[encoded data removed]",
      "text/plain": [
       "<Figure size 1080x360 with 2 Axes>"
      ]
     },
     "metadata": {
      "needs_background": "light"
     },
     "output_type": "display_data"
    },
    {
     "name": "stdout",
     "output_type": "stream",
     "text": [
      "\n",
      "\n"
     ]
    },
    {
     "data": {
      "text/markdown": [
       "# FFP"
      ],
      "text/plain": [
       "<IPython.core.display.Markdown object>"
      ]
     },
     "metadata": {},
     "output_type": "display_data"
    },
    {
     "name": "stdout",
     "output_type": "stream",
     "text": [
      "10472 loci consistently ranked in top 1%\n",
      "\tnumber of loci with meanBF >= 0 :  10472 (True)\n",
      "\tnumber of loci with meanBF >= 10 :  9904\n",
      "\tnumber of loci with meanBF >= 15 :  6232\n",
      "\tnumber of loci with meanBF >= 20 :  3856\n",
      "\tfraction of BF >= 15 :  0.6\n",
      "\tfraction of BF >= 10 :  0.95\n",
      "\u001b[1m\u001b[93m\tnot all SNPs with BF >= 15 are consistently in top 1% : full (6236) vs 1% (6232) (diff = 4)\u001b[0m\u001b[0m\n"
     ]
    },
    {
     "data": {
      "image/png": "[encoded data removed]",
      "text/plain": [
       "<Figure size 1080x360 with 2 Axes>"
      ]
     },
     "metadata": {
      "needs_background": "light"
     },
     "output_type": "display_data"
    },
    {
     "name": "stdout",
     "output_type": "stream",
     "text": [
      "\n",
      "\n"
     ]
    },
    {
     "data": {
      "text/markdown": [
       "# eFFP"
      ],
      "text/plain": [
       "<IPython.core.display.Markdown object>"
      ]
     },
     "metadata": {},
     "output_type": "display_data"
    },
    {
     "name": "stdout",
     "output_type": "stream",
     "text": [
      "10327 loci consistently ranked in top 1%\n",
      "\tnumber of loci with meanBF >= 0 :  10327 (True)\n",
      "\tnumber of loci with meanBF >= 10 :  10240\n",
      "\tnumber of loci with meanBF >= 15 :  6795\n",
      "\tnumber of loci with meanBF >= 20 :  4332\n",
      "\tfraction of BF >= 15 :  0.66\n",
      "\tfraction of BF >= 10 :  0.99\n",
      "\u001b[1m\u001b[93m\tnot all SNPs with BF >= 15 are consistently in top 1% : full (6800) vs 1% (6795) (diff = 5)\u001b[0m\u001b[0m\n"
     ]
    },
    {
     "data": {
      "image/png": "[encoded data removed]",
      "text/plain": [
       "<Figure size 1080x360 with 2 Axes>"
      ]
     },
     "metadata": {
      "needs_background": "light"
     },
     "output_type": "display_data"
    },
    {
     "name": "stdout",
     "output_type": "stream",
     "text": [
      "\n",
      "\n"
     ]
    },
    {
     "data": {
      "text/markdown": [
       "# MSP"
      ],
      "text/plain": [
       "<IPython.core.display.Markdown object>"
      ]
     },
     "metadata": {},
     "output_type": "display_data"
    },
    {
     "name": "stdout",
     "output_type": "stream",
     "text": [
      "9241 loci consistently ranked in top 1%\n",
      "\tnumber of loci with meanBF >= 0 :  9241 (True)\n",
      "\tnumber of loci with meanBF >= 10 :  4623\n",
      "\tnumber of loci with meanBF >= 15 :  2011\n",
      "\tnumber of loci with meanBF >= 20 :  912\n",
      "\tfraction of BF >= 15 :  0.22\n",
      "\tfraction of BF >= 10 :  0.5\n"
     ]
    },
    {
     "data": {
      "image/png": "[encoded data removed]",
      "text/plain": [
       "<Figure size 1080x360 with 2 Axes>"
      ]
     },
     "metadata": {
      "needs_background": "light"
     },
     "output_type": "display_data"
    },
    {
     "name": "stdout",
     "output_type": "stream",
     "text": [
      "\n",
      "\n"
     ]
    },
    {
     "data": {
      "text/markdown": [
       "# MAT"
      ],
      "text/plain": [
       "<IPython.core.display.Markdown object>"
      ]
     },
     "metadata": {},
     "output_type": "display_data"
    },
    {
     "name": "stdout",
     "output_type": "stream",
     "text": [
      "10949 loci consistently ranked in top 1%\n",
      "\tnumber of loci with meanBF >= 0 :  10949 (True)\n",
      "\tnumber of loci with meanBF >= 10 :  10949\n",
      "\tnumber of loci with meanBF >= 15 :  10927\n",
      "\tnumber of loci with meanBF >= 20 :  8707\n",
      "\tfraction of BF >= 15 :  1.0\n",
      "\tfraction of BF >= 10 :  1.0\n",
      "\u001b[1m\u001b[93m\tnot all SNPs with BF >= 15 are consistently in top 1% : full (11955) vs 1% (10927) (diff = 1028)\u001b[0m\u001b[0m\n",
      "\u001b[1m\u001b[93m\tnot all SNPs with BF >= 20 are consistently in top 1% : full (8717) vs 1% (8707) (diff = 10)\u001b[0m\u001b[0m\n"
     ]
    },
    {
     "data": {
      "image/png": "[encoded data removed]",
      "text/plain": [
       "<Figure size 1080x360 with 2 Axes>"
      ]
     },
     "metadata": {
      "needs_background": "light"
     },
     "output_type": "display_data"
    },
    {
     "name": "stdout",
     "output_type": "stream",
     "text": [
      "\n",
      "\n"
     ]
    },
    {
     "data": {
      "text/markdown": [
       "# MWMT"
      ],
      "text/plain": [
       "<IPython.core.display.Markdown object>"
      ]
     },
     "metadata": {},
     "output_type": "display_data"
    },
    {
     "name": "stdout",
     "output_type": "stream",
     "text": [
      "10295 loci consistently ranked in top 1%\n",
      "\tnumber of loci with meanBF >= 0 :  10295 (True)\n",
      "\tnumber of loci with meanBF >= 10 :  8960\n",
      "\tnumber of loci with meanBF >= 15 :  5348\n",
      "\tnumber of loci with meanBF >= 20 :  3223\n",
      "\tfraction of BF >= 15 :  0.52\n",
      "\tfraction of BF >= 10 :  0.87\n"
     ]
    },
    {
     "data": {
      "image/png": "[encoded data removed]",
      "text/plain": [
       "<Figure size 1080x360 with 2 Axes>"
      ]
     },
     "metadata": {
      "needs_background": "light"
     },
     "output_type": "display_data"
    },
    {
     "name": "stdout",
     "output_type": "stream",
     "text": [
      "\n",
      "\n"
     ]
    },
    {
     "data": {
      "text/markdown": [
       "# MCMT"
      ],
      "text/plain": [
       "<IPython.core.display.Markdown object>"
      ]
     },
     "metadata": {},
     "output_type": "display_data"
    },
    {
     "name": "stdout",
     "output_type": "stream",
     "text": [
      "10818 loci consistently ranked in top 1%\n",
      "\tnumber of loci with meanBF >= 0 :  10818 (True)\n",
      "\tnumber of loci with meanBF >= 10 :  10818\n",
      "\tnumber of loci with meanBF >= 15 :  10754\n",
      "\tnumber of loci with meanBF >= 20 :  8282\n",
      "\tfraction of BF >= 15 :  0.99\n",
      "\tfraction of BF >= 10 :  1.0\n",
      "\u001b[1m\u001b[93m\tnot all SNPs with BF >= 15 are consistently in top 1% : full (11418) vs 1% (10754) (diff = 664)\u001b[0m\u001b[0m\n",
      "\u001b[1m\u001b[93m\tnot all SNPs with BF >= 20 are consistently in top 1% : full (8284) vs 1% (8282) (diff = 2)\u001b[0m\u001b[0m\n"
     ]
    },
    {
     "data": {
      "image/png": "[encoded data removed]",
      "text/plain": [
       "<Figure size 1080x360 with 2 Axes>"
      ]
     },
     "metadata": {
      "needs_background": "light"
     },
     "output_type": "display_data"
    },
    {
     "name": "stdout",
     "output_type": "stream",
     "text": [
      "\n",
      "\n",
      "\u001b[1m\n",
      "Fraction of meanBF >=15 across envs\u001b[0m\n"
     ]
    },
    {
     "data": {
      "image/png": "[encoded data removed]",
      "text/plain": [
       "<Figure size 432x288 with 1 Axes>"
      ]
     },
     "metadata": {
      "needs_background": "light"
     },
     "output_type": "display_data"
    },
    {
     "data": {
      "text/html": [
       "<div>\n",
       "<style scoped>\n",
       "    .dataframe tbody tr th:only-of-type {\n",
       "        vertical-align: middle;\n",
       "    }\n",
       "\n",
       "    .dataframe tbody tr th {\n",
       "        vertical-align: top;\n",
       "    }\n",
       "\n",
       "    .dataframe thead th {\n",
       "        text-align: right;\n",
       "    }\n",
       "</style>\n",
       "<table border=\"1\" class=\"dataframe\">\n",
       "  <thead>\n",
       "    <tr style=\"text-align: right;\">\n",
       "      <th></th>\n",
       "      <th>Eref</th>\n",
       "      <th>DD_0</th>\n",
       "      <th>CMD</th>\n",
       "      <th>SHM</th>\n",
       "      <th>PAS</th>\n",
       "      <th>bFFP</th>\n",
       "      <th>MAP</th>\n",
       "      <th>EMT</th>\n",
       "      <th>EXT</th>\n",
       "      <th>AHM</th>\n",
       "      <th>NFFD</th>\n",
       "      <th>TD</th>\n",
       "      <th>DD5</th>\n",
       "      <th>FFP</th>\n",
       "      <th>eFFP</th>\n",
       "      <th>MSP</th>\n",
       "      <th>MAT</th>\n",
       "      <th>MWMT</th>\n",
       "      <th>MCMT</th>\n",
       "    </tr>\n",
       "  </thead>\n",
       "  <tbody>\n",
       "    <tr>\n",
       "      <th>0</th>\n",
       "      <td>0.9</td>\n",
       "      <td>0.97</td>\n",
       "      <td>0.12</td>\n",
       "      <td>0.08</td>\n",
       "      <td>0.28</td>\n",
       "      <td>0.29</td>\n",
       "      <td>0.66</td>\n",
       "      <td>0.82</td>\n",
       "      <td>0.07</td>\n",
       "      <td>0.13</td>\n",
       "      <td>0.22</td>\n",
       "      <td>0.7</td>\n",
       "      <td>0.89</td>\n",
       "      <td>0.6</td>\n",
       "      <td>0.66</td>\n",
       "      <td>0.22</td>\n",
       "      <td>1.0</td>\n",
       "      <td>0.52</td>\n",
       "      <td>0.99</td>\n",
       "    </tr>\n",
       "  </tbody>\n",
       "</table>\n",
       "</div>"
      ],
      "text/plain": [
       "   Eref  DD_0   CMD   SHM   PAS  bFFP   MAP   EMT   EXT   AHM  NFFD   TD  \\\n",
       "0   0.9  0.97  0.12  0.08  0.28  0.29  0.66  0.82  0.07  0.13  0.22  0.7   \n",
       "\n",
       "    DD5  FFP  eFFP   MSP  MAT  MWMT  MCMT  \n",
       "0  0.89  0.6  0.66  0.22  1.0  0.52  0.99  "
      ]
     },
     "execution_count": 54,
     "metadata": {},
     "output_type": "execute_result"
    }
   ],
   "source": [
    "# for **ONLY** those loci that are consistently ranked in top 1%\n",
    "# print histograms of bayes factor for each environment\n",
    "# print fraction of top 1%BFs that have BF ≥ 15 or BF ≥ 20\n",
    "# also look at histogram for BFs < 100\n",
    "\n",
    "# also count number of loci across all SNPs that have BF ≥ 15 or BF ≥ 20, print if count doesn't match top 1%\n",
    "print('\\n', ColorText('Stats for loci consistently ranked in top 1%').bold().custom('deepskyblue'))\n",
    "fracs = defaultdict(dict)\n",
    "for env,df in envdfs.items():\n",
    "    df = df[df['rank_consistency_top1perc_for-gte3chains'] == True]\n",
    "    BFs = df['mean_BF(dB)']\n",
    "    small10 = sum(BFs >= 10)\n",
    "    small15 = sum(BFs >= 15)\n",
    "    small20 = sum(BFs >= 20)\n",
    "    printmd(f\"# {env}\")\n",
    "    print(nrow(df), 'loci consistently ranked in top 1%')\n",
    "    print('\\tnumber of loci with meanBF >= 0 : ', sum(BFs >= 0), \"(%s)\" % str(sum(BFs >= 0) == nrow(df)))\n",
    "    print('\\tnumber of loci with meanBF >= 10 : ', small10)\n",
    "    print('\\tnumber of loci with meanBF >= 15 : ', small15)\n",
    "    print('\\tnumber of loci with meanBF >= 20 : ', small20)\n",
    "    frac = round(small15/nrow(df), 2)\n",
    "    frac2 = round(small10/nrow(df), 2)\n",
    "    fracs[env][0] = frac\n",
    "    print('\\tfraction of BF >= 15 : ', frac)\n",
    "    print('\\tfraction of BF >= 10 : ', frac2)\n",
    "    sum15 = sum(envdfs[env]['mean_BF(dB)'] >= 15)\n",
    "    sum20 = sum(envdfs[env]['mean_BF(dB)'] >= 20)\n",
    "    if small15 != sum15:\n",
    "        text = '\\tnot all SNPs with BF >= 15 are consistently in top 1%'\n",
    "        print(ColorText(f\"{text} : full ({sum15}) vs 1% ({small15}) (diff = {sum15 - small15})\").warn().bold())\n",
    "    if small20 != sum20:\n",
    "        text = '\\tnot all SNPs with BF >= 20 are consistently in top 1%'\n",
    "        print(ColorText(f\"{text} : full ({sum20}) vs 1% ({small20}) (diff = {sum20 - small20})\").warn().bold())\n",
    "\n",
    "    histo_box(data=df, col='mean_BF(dB)', title=env, figsize=(15,5))\n",
    "\n",
    "#     plt.hist(BFs[BFs<100], bins=100)\n",
    "#     plt.title('number of loci with BF < 100')\n",
    "#     plt.show()\n",
    "    print('\\n')\n",
    "\n",
    "# create histogram for fraction of SNPs with BF>=15 in consistent top 1% across environments\n",
    "print(ColorText('\\nFraction of meanBF >=15 across envs').bold())\n",
    "fracdf = pd.DataFrame(fracs)\n",
    "plt.hist(fracdf.loc[0,:])\n",
    "plt.xlabel('fraction')\n",
    "plt.show()\n",
    "fracdf"
   ]
  },
  {
   "cell_type": "code",
   "execution_count": null,
   "metadata": {},
   "outputs": [],
   "source": []
  },
  {
   "cell_type": "code",
   "execution_count": null,
   "metadata": {},
   "outputs": [],
   "source": []
  },
  {
   "cell_type": "code",
   "execution_count": null,
   "metadata": {},
   "outputs": [],
   "source": []
  },
  {
   "cell_type": "code",
   "execution_count": null,
   "metadata": {},
   "outputs": [],
   "source": []
  },
  {
   "cell_type": "code",
   "execution_count": null,
   "metadata": {},
   "outputs": [],
   "source": []
  },
  {
   "cell_type": "code",
   "execution_count": null,
   "metadata": {},
   "outputs": [],
   "source": []
  },
  {
   "cell_type": "code",
   "execution_count": null,
   "metadata": {},
   "outputs": [],
   "source": []
  },
  {
   "cell_type": "code",
   "execution_count": null,
   "metadata": {},
   "outputs": [],
   "source": []
  },
  {
   "cell_type": "code",
   "execution_count": null,
   "metadata": {},
   "outputs": [],
   "source": []
  },
  {
   "cell_type": "code",
   "execution_count": null,
   "metadata": {},
   "outputs": [],
   "source": []
  },
  {
   "cell_type": "code",
   "execution_count": null,
   "metadata": {},
   "outputs": [],
   "source": []
  },
  {
   "cell_type": "code",
   "execution_count": null,
   "metadata": {},
   "outputs": [],
   "source": []
  }
 ],
 "metadata": {
  "kernelspec": {
   "display_name": "Python 3",
   "language": "python",
   "name": "python3"
  },
  "language_info": {
   "codemirror_mode": {
    "name": "ipython",
    "version": 3
   },
   "file_extension": ".py",
   "mimetype": "text/x-python",
   "name": "python",
   "nbconvert_exporter": "python",
   "pygments_lexer": "ipython3",
   "version": "3.8.5"
  }
 },
 "nbformat": 4,
 "nbformat_minor": 4
}
